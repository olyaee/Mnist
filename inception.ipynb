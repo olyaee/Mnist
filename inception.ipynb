{
  "nbformat": 4,
  "nbformat_minor": 0,
  "metadata": {
    "colab": {
      "name": "inception.ipynb",
      "version": "0.3.2",
      "provenance": [],
      "collapsed_sections": [],
      "include_colab_link": true
    },
    "kernelspec": {
      "name": "python3",
      "display_name": "Python 3"
    },
    "accelerator": "GPU"
  },
  "cells": [
    {
      "cell_type": "markdown",
      "metadata": {
        "id": "view-in-github",
        "colab_type": "text"
      },
      "source": [
        "<a href=\"https://colab.research.google.com/github/olyaee/Mnist/blob/master/inception.ipynb\" target=\"_parent\"><img src=\"https://colab.research.google.com/assets/colab-badge.svg\" alt=\"Open In Colab\"/></a>"
      ]
    },
    {
      "metadata": {
        "id": "xvFrKLX2VQVW",
        "colab_type": "text"
      },
      "cell_type": "markdown",
      "source": [
        "* 1.  [Introduction](#1)\n",
        "    * 1.1. [Import Libraries](#2)\n",
        "* 2. [Load, Train and Test data](#3)\n",
        "    * 2.1. [Reshape input](#4)\n",
        "    * 2.2. [One Hot encoding of labels](#5)\n",
        "    * 2.3. [Data Visualization](#6)\n",
        "* 3. [Preprocessing the digit images](#7)\n",
        "    * 3.1. [Data Normalization](#8)\n",
        "* 4. [Create Models](#10)\n",
        "* 5. [Optimizer-Learning Rate-Data Augmentation](#11)\n",
        "* 6. [Compile Model](#12)\n",
        "* 7. [Results](#13)\n",
        "    * 7.1. [Store the history](#14)\n",
        "    * 7.2. [Create output file](#15)\n",
        "\n",
        "    "
      ]
    },
    {
      "metadata": {
        "id": "NZjOHRn4V-2a",
        "colab_type": "text"
      },
      "cell_type": "markdown",
      "source": [
        "<a id=\"1\"></a> <br>\n",
        "**1. Introduction**\n",
        "===============================\n"
      ]
    },
    {
      "metadata": {
        "id": "4KG6q4NxWQx2",
        "colab_type": "text"
      },
      "cell_type": "markdown",
      "source": [
        "<a id=\"2\"></a> <br>\n",
        "*1.1. Import Libraries*\n",
        "-----------------------------\n",
        "As the first step, we need to import needed libraries"
      ]
    },
    {
      "metadata": {
        "id": "iQl-FVRsWbjL",
        "colab_type": "code",
        "outputId": "3a34ba1b-77e7-461f-d4c6-86db5a453902",
        "colab": {
          "base_uri": "https://localhost:8080/",
          "height": 34
        }
      },
      "cell_type": "code",
      "source": [
        "import numpy as np # linear algebra\n",
        "import pandas as pd # data processing, CSV file I/O (e.g. pd.read_csv)\n",
        "import os\n",
        "import matplotlib.pyplot as plt\n",
        "import tensorflow as tf\n",
        "from sklearn.model_selection import train_test_split\n",
        "from keras import Input\n",
        "from keras.layers import Flatten, Dense, Conv2D, MaxPooling2D, ZeroPadding2D, BatchNormalization, average, GlobalAveragePooling2D\n",
        "from keras.layers import PReLU, add, AveragePooling2D, UpSampling3D, Dropout\n",
        "from keras.models import Model, load_model\n",
        "from keras.models import Sequential\n",
        "from keras.optimizers import RMSprop\n",
        "from keras.preprocessing.image import ImageDataGenerator\n",
        "from keras.callbacks import ReduceLROnPlateau, ModelCheckpoint\n",
        "from IPython.display import Image\n",
        "from keras.utils import plot_model\n",
        "from keras.utils.np_utils import to_categorical\n",
        "from keras.applications.inception_v3 import InceptionV3\n",
        "import pickle\n",
        "\n",
        "print(os.listdir(\"./\"))\n"
      ],
      "execution_count": 26,
      "outputs": [
        {
          "output_type": "stream",
          "text": [
            "['.config', 'drive', 'sample_data']\n"
          ],
          "name": "stdout"
        }
      ]
    },
    {
      "metadata": {
        "id": "V8tmrszIWhPm",
        "colab_type": "text"
      },
      "cell_type": "markdown",
      "source": [
        "<a id=\"3\"></a> <br>\n",
        "**2. Load, Train and Test data**\n",
        "============================\n",
        "In order to load the data we used pandas library.\n",
        "I have stored the data in my google drive. there are some othere ways to load data. For example you can directly import data from keras. \n",
        "Since we want to have the same train and validation data for every model we have done data sepration it in a seprate notebook and have stored the results as pickle file.\n",
        "For the code you can refer to this [LINK](https://github.com/olyaee/Mnist/blob/master/data_split.ipynb)\n"
      ]
    },
    {
      "metadata": {
        "id": "x7wUBjofWiiF",
        "colab_type": "code",
        "outputId": "99ad9952-411f-4307-d160-b15d5d813596",
        "colab": {
          "base_uri": "https://localhost:8080/",
          "height": 34
        }
      },
      "cell_type": "code",
      "source": [
        "from google.colab import drive\n",
        "drive.mount('/content/drive')\n",
        "FOLDER_PATH = \"./drive/My Drive/Colab Notebooks/inception/\"\n",
        "DATA_PATH = './drive/My Drive/Colab Notebooks/data/'"
      ],
      "execution_count": 27,
      "outputs": [
        {
          "output_type": "stream",
          "text": [
            "Drive already mounted at /content/drive; to attempt to forcibly remount, call drive.mount(\"/content/drive\", force_remount=True).\n"
          ],
          "name": "stdout"
        }
      ]
    },
    {
      "metadata": {
        "id": "OscjO3_iXCA9",
        "colab_type": "code",
        "outputId": "42a7c389-2cce-47af-9361-5f19bac7256e",
        "colab": {
          "base_uri": "https://localhost:8080/",
          "height": 109
        }
      },
      "cell_type": "code",
      "source": [
        "with open(DATA_PATH+'x_train.pkl', 'rb') as input:\n",
        "  x_train = pickle.load(input)\n",
        "with open(DATA_PATH+'x_val.pkl', 'rb') as input:\n",
        "  x_val = pickle.load(input)\n",
        "with open(DATA_PATH+'y_train.pkl', 'rb') as input:\n",
        "  y_train = pickle.load(input)\n",
        "with open(DATA_PATH+'y_val.pkl', 'rb') as input:\n",
        "  y_val = pickle.load(input)\n",
        "with open(DATA_PATH+'x_test.pkl', 'rb') as input:\n",
        "  x_test = pickle.load(input)\n",
        "\n",
        "print('x_train',x_train.shape)\n",
        "print('x_val',x_val.shape)\n",
        "print('x_val',y_train.shape)\n",
        "print('y_val',y_val.shape)\n",
        "print('x_test',x_test.shape)\n"
      ],
      "execution_count": 0,
      "outputs": [
        {
          "output_type": "stream",
          "text": [
            "x_train (37800, 784)\n",
            "x_val (4200, 784)\n",
            "x_val (37800,)\n",
            "y_val (4200,)\n",
            "x_test (28000, 784)\n"
          ],
          "name": "stdout"
        }
      ]
    },
    {
      "metadata": {
        "id": "Qyl7lrNzX93e",
        "colab_type": "text"
      },
      "cell_type": "markdown",
      "source": [
        "<a id=\"4\"></a> <br>\n",
        "*2.1. Reshape input*\n",
        "-----------------------------"
      ]
    },
    {
      "metadata": {
        "id": "DTxYxFX0X9Ke",
        "colab_type": "code",
        "outputId": "ff236cd0-cbf9-447c-f050-841860747a8b",
        "colab": {
          "base_uri": "https://localhost:8080/",
          "height": 72
        }
      },
      "cell_type": "code",
      "source": [
        "x_train = x_train.reshape(x_train.shape[0], 28, 28,1)\n",
        "x_val = x_val.reshape(x_val.shape[0], 28, 28,1)\n",
        "print(x_train.shape)\n",
        "print(x_val.shape)\n",
        "x_test = x_test.reshape(x_test.shape[0], 28, 28,1)\n",
        "print(x_test.shape)"
      ],
      "execution_count": 0,
      "outputs": [
        {
          "output_type": "stream",
          "text": [
            "(37800, 28, 28, 1)\n",
            "(4200, 28, 28, 1)\n",
            "(28000, 28, 28, 1)\n"
          ],
          "name": "stdout"
        }
      ]
    },
    {
      "metadata": {
        "id": "Xqq5eWYhYIyb",
        "colab_type": "text"
      },
      "cell_type": "markdown",
      "source": [
        "<a id=\"5\"></a> <br>\n",
        "*2.2. One Hot encoding of labels*\n",
        "-----------------------------\n",
        "we have a number for each image but we need an array.\n",
        "2 has to be converted to [0, 0, 1, 0, 0 ,0 ,0 ,0 ,0 ,0] "
      ]
    },
    {
      "metadata": {
        "id": "F4vba8x9YIIL",
        "colab_type": "code",
        "outputId": "05cb83e8-a99e-4fc7-8f8c-264ecb75370a",
        "colab": {
          "base_uri": "https://localhost:8080/",
          "height": 35
        }
      },
      "cell_type": "code",
      "source": [
        "y_train= to_categorical(y_train)\n",
        "y_val= to_categorical(y_val)\n",
        "num_classes = y_train.shape[1]\n",
        "print(y_train.shape)"
      ],
      "execution_count": 0,
      "outputs": [
        {
          "output_type": "stream",
          "text": [
            "(37800, 10)\n"
          ],
          "name": "stdout"
        }
      ]
    },
    {
      "metadata": {
        "id": "6y_9IOUyYclL",
        "colab_type": "text"
      },
      "cell_type": "markdown",
      "source": [
        "<a id=\"6\"></a> <br>\n",
        "*2.3 Data Visualization*\n",
        "-----------------------------\n",
        "Lets look at 3 images from data set with their labels."
      ]
    },
    {
      "metadata": {
        "id": "MSnaweUkYb4S",
        "colab_type": "code",
        "outputId": "5efd760e-e9ca-4baa-97d8-5f53d029deb5",
        "colab": {
          "base_uri": "https://localhost:8080/",
          "height": 188
        }
      },
      "cell_type": "code",
      "source": [
        "for i in range(6, 9):\n",
        "    plt.subplot(330 + (i+1))\n",
        "    plt.imshow(x_train[i].reshape(28, 28), cmap=plt.get_cmap('gray'))\n",
        "    plt.title(y_train[i]);"
      ],
      "execution_count": 0,
      "outputs": [
        {
          "output_type": "stream",
          "text": [
            "/usr/local/lib/python3.6/dist-packages/matplotlib/text.py:1191: FutureWarning: elementwise comparison failed; returning scalar instead, but in the future will perform elementwise comparison\n",
            "  if s != self._text:\n"
          ],
          "name": "stderr"
        },
        {
          "output_type": "display_data",
          "data": {
            "image/png": "[encoded data removed]",
            "text/plain": [
              "<Figure size 576x396 with 3 Axes>"
            ]
          },
          "metadata": {
            "tags": []
          }
        }
      ]
    },
    {
      "metadata": {
        "id": "1XEVvknWZXUo",
        "colab_type": "text"
      },
      "cell_type": "markdown",
      "source": [
        "<a id=\"7\"></a> <br>\n",
        "**3. Preprocessing the digit images**\n",
        "==================================\n"
      ]
    },
    {
      "metadata": {
        "id": "oJoVs6s0Zaqo",
        "colab_type": "text"
      },
      "cell_type": "markdown",
      "source": [
        "<a id=\"8\"></a> <br>\n",
        "*3.1. Data Normalization*\n",
        "-----------------------------\n"
      ]
    },
    {
      "metadata": {
        "id": "PqSMWKLZaIDG",
        "colab_type": "code",
        "colab": {}
      },
      "cell_type": "code",
      "source": [
        "# Normalize the data\n",
        "x_train = x_train / 255.0\n",
        "x_val = x_val / 255\n",
        "x_test = x_test / 255.0"
      ],
      "execution_count": 0,
      "outputs": []
    },
    {
      "metadata": {
        "id": "ZoW0W8StZhza",
        "colab_type": "text"
      },
      "cell_type": "markdown",
      "source": [
        "<a id=\"10\"></a> <br>\n",
        "**4. Create Model**\n",
        "============================"
      ]
    },
    {
      "metadata": {
        "id": "-gbCmIpeZhwx",
        "colab_type": "text"
      },
      "cell_type": "markdown",
      "source": [
        "![](https://software.intel.com/sites/default/files/managed/65/43/pedestrian-detection-using-deep-neural-networks-fig1-zoom.png)"
      ]
    },
    {
      "metadata": {
        "id": "XFdT4GhEsl5p",
        "colab_type": "code",
        "outputId": "f8191ef6-5afe-4be3-cc6f-d5aa69256e47",
        "colab": {
          "base_uri": "https://localhost:8080/",
          "height": 54
        }
      },
      "cell_type": "code",
      "source": [
        "# create the base pre-trained model\n",
        "base_model = InceptionV3(weights='imagenet', include_top=False)\n",
        "\n",
        "\n",
        "input_inception = Input(shape=(28, 28, 1), dtype='float32', name='inception_input')\n",
        "\n",
        "# create the base pre-trained model\n",
        "x = UpSampling3D(size=(3, 3, 3), data_format=\"channels_last\", name='upsampling')(input_inception)\n",
        "# x = Conv2D(filters=3, kernel_size=1, padding=\"same\", activation='relu', data_format='channels_last')(x)\n",
        "\n",
        "x = base_model(x)\n",
        "\n",
        "# add a global spatial average pooling layer\n",
        "x = GlobalAveragePooling2D(name='GlobalAveragePooling2D')(x)\n",
        "# let's add a fully-connected layer\n",
        "x = Dense(1024, activation='relu', name='Dense')(x)\n",
        "x = Dropout(0.5, name='Dropout')(x)\n",
        "# and a logistic layer\n",
        "predictions = Dense(10, activation='softmax', name='Dense_predictions')(x)"
      ],
      "execution_count": 0,
      "outputs": [
        {
          "output_type": "stream",
          "text": [
            "Downloading data from https://github.com/fchollet/deep-learning-models/releases/download/v0.5/inception_v3_weights_tf_dim_ordering_tf_kernels_notop.h5\n",
            "87916544/87910968 [==============================] - 4s 0us/step\n"
          ],
          "name": "stdout"
        }
      ]
    },
    {
      "metadata": {
        "id": "lomGgt4N8Gp_",
        "colab_type": "text"
      },
      "cell_type": "markdown",
      "source": [
        "<a id=\"9\"></a> <br>\n",
        "*4.1. Freeze the First 2 Blocks*\n",
        "-----------------------------\n",
        "Since the first two block in the inception model captures the main patterns in the images we freezed them and fortunately got a better result than training all the net. \n",
        "For that we checkd the summary of the block and realized that we have to freeze first 64 layers.\n"
      ]
    },
    {
      "metadata": {
        "id": "dS1bem8s8F-j",
        "colab_type": "code",
        "colab": {}
      },
      "cell_type": "code",
      "source": [
        "# #using the follwing lines we checked how many layers should we freeze\n",
        "# for i, layer in enumerate(base_model.layers):\n",
        "#    print(i, layer.name)\n",
        "\n",
        "for layer in base_model.layers[:64]:\n",
        "   layer.trainable = False"
      ],
      "execution_count": 0,
      "outputs": []
    },
    {
      "metadata": {
        "id": "cq0SNtjrZht8",
        "colab_type": "text"
      },
      "cell_type": "markdown",
      "source": [
        " <a id=\"11\"></a> <br>\n",
        "**5. Optimizer-Learning Rate-Data Augmentation**\n",
        "============================"
      ]
    },
    {
      "metadata": {
        "id": "koX1lFAZsu1i",
        "colab_type": "code",
        "colab": {}
      },
      "cell_type": "code",
      "source": [
        "# Define the optimizer\n",
        "optimizer = RMSprop(lr=0.001, rho=0.9, epsilon=1e-08, decay=0.0)"
      ],
      "execution_count": 0,
      "outputs": []
    },
    {
      "metadata": {
        "id": "CD8XuqxZsxC7",
        "colab_type": "code",
        "colab": {}
      },
      "cell_type": "code",
      "source": [
        "\n",
        "# Set a learning rate annealer\n",
        "learning_rate_reduction = ReduceLROnPlateau(monitor='val_acc', \n",
        "                                            patience=5, \n",
        "                                            verbose=1, \n",
        "                                            factor=0.5, \n",
        "                                            min_lr=0.000001)"
      ],
      "execution_count": 0,
      "outputs": []
    },
    {
      "metadata": {
        "id": "V-Wy1vM5szI5",
        "colab_type": "code",
        "colab": {}
      },
      "cell_type": "code",
      "source": [
        "# data augmentation\n",
        "datagen = ImageDataGenerator(\n",
        "        featurewise_center=False,  # set input mean to 0 over the dataset\n",
        "        samplewise_center=False,  # set each sample mean to 0\n",
        "        featurewise_std_normalization=False,  # divide inputs by std of the dataset\n",
        "        samplewise_std_normalization=False,  # divide each input by its std\n",
        "        zca_whitening=False,  # apply ZCA whitening\n",
        "        rotation_range=10,  # randomly rotate images in the range (degrees, 0 to 180)\n",
        "        zoom_range = 0.1, # Randomly zoom image \n",
        "        width_shift_range=0.1,  # randomly shift images horizontally (fraction of total width)\n",
        "        height_shift_range=0.1,  # randomly shift images vertically (fraction of total height)\n",
        "        horizontal_flip=False,  # randomly flip images\n",
        "        vertical_flip=False)  # randomly flip images\n",
        "datagen.fit(x_train)\n"
      ],
      "execution_count": 0,
      "outputs": []
    },
    {
      "metadata": {
        "id": "Udrl3IAsZhrB",
        "colab_type": "text"
      },
      "cell_type": "markdown",
      "source": [
        "<a id=\"12\"></a> <br>\n",
        "**6. Compile Model**\n",
        "============================"
      ]
    },
    {
      "metadata": {
        "id": "oyCJQs-xs5FA",
        "colab_type": "code",
        "outputId": "c2de541a-11ed-41ab-d0b2-a679977dfdb9",
        "colab": {
          "base_uri": "https://localhost:8080/",
          "height": 2568
        }
      },
      "cell_type": "code",
      "source": [
        "# this is the model we will train\n",
        "inception_model = Model(inputs=input_inception, outputs=predictions)\n",
        "inception_model.compile(optimizer = optimizer , loss = \"categorical_crossentropy\", metrics=[\"accuracy\"])\n",
        "\n",
        "#plot the model\n",
        "plot_model(inception_model, to_file=FOLDER_PATH+'inception_model.png')\n",
        "Image(filename = FOLDER_PATH+'inception_model.png', width=200, height=200, unconfined=True)\n",
        "\n",
        "model_checkpoint = ModelCheckpoint(FOLDER_PATH+'inception_model.hdf5', monitor='val_loss', verbose=0, save_best_only=True, save_weights_only=False, mode='auto', period=1)\n",
        "\n",
        "inception_history = inception_model.fit_generator(datagen.flow(x_train,y_train, batch_size=256),\n",
        "                                            validation_data=(x_val, y_val),\n",
        "                                            shuffle=True,\n",
        "                                            epochs=60, \n",
        "                                            steps_per_epoch=len(x_train) / 256,\n",
        "                                            callbacks=[learning_rate_reduction, model_checkpoint])"
      ],
      "execution_count": 0,
      "outputs": [
        {
          "output_type": "stream",
          "text": [
            "Epoch 1/60\n",
            "148/147 [==============================] - 89s 603ms/step - loss: 0.4946 - acc: 0.8455 - val_loss: 6.4951 - val_acc: 0.5371\n",
            "Epoch 2/60\n",
            "148/147 [==============================] - 67s 455ms/step - loss: 0.1157 - acc: 0.9758 - val_loss: 0.3523 - val_acc: 0.9395\n",
            "Epoch 3/60\n",
            "148/147 [==============================] - 67s 455ms/step - loss: 0.1123 - acc: 0.9807 - val_loss: 2.4668 - val_acc: 0.8283\n",
            "Epoch 4/60\n",
            "148/147 [==============================] - 67s 454ms/step - loss: 0.0587 - acc: 0.9872 - val_loss: 1.1085 - val_acc: 0.9198\n",
            "Epoch 5/60\n",
            "148/147 [==============================] - 67s 454ms/step - loss: 0.0588 - acc: 0.9880 - val_loss: 0.3199 - val_acc: 0.9486\n",
            "Epoch 6/60\n",
            "148/147 [==============================] - 67s 454ms/step - loss: 0.0542 - acc: 0.9882 - val_loss: 0.0456 - val_acc: 0.9900\n",
            "Epoch 7/60\n",
            "148/147 [==============================] - 67s 455ms/step - loss: 0.0783 - acc: 0.9869 - val_loss: 0.3668 - val_acc: 0.9698\n",
            "Epoch 8/60\n",
            "148/147 [==============================] - 67s 454ms/step - loss: 0.0668 - acc: 0.9889 - val_loss: 0.1362 - val_acc: 0.9860\n",
            "Epoch 9/60\n",
            "148/147 [==============================] - 67s 455ms/step - loss: 0.0528 - acc: 0.9897 - val_loss: 0.4124 - val_acc: 0.9676\n",
            "Epoch 10/60\n",
            "148/147 [==============================] - 67s 454ms/step - loss: 0.0832 - acc: 0.9885 - val_loss: 2.8110 - val_acc: 0.8126\n",
            "Epoch 11/60\n",
            "148/147 [==============================] - 67s 455ms/step - loss: 0.0763 - acc: 0.9899 - val_loss: 0.3682 - val_acc: 0.9733\n",
            "\n",
            "Epoch 00011: ReduceLROnPlateau reducing learning rate to 0.0005000000237487257.\n",
            "Epoch 12/60\n",
            "148/147 [==============================] - 67s 454ms/step - loss: 0.0358 - acc: 0.9936 - val_loss: 0.1740 - val_acc: 0.9852\n",
            "Epoch 13/60\n",
            "148/147 [==============================] - 67s 454ms/step - loss: 0.0273 - acc: 0.9942 - val_loss: 0.0280 - val_acc: 0.9933\n",
            "Epoch 14/60\n",
            "148/147 [==============================] - 67s 454ms/step - loss: 0.0329 - acc: 0.9949 - val_loss: 0.0167 - val_acc: 0.9960\n",
            "Epoch 15/60\n",
            "148/147 [==============================] - 67s 455ms/step - loss: 0.0193 - acc: 0.9957 - val_loss: 0.0292 - val_acc: 0.9919\n",
            "Epoch 16/60\n",
            "148/147 [==============================] - 67s 456ms/step - loss: 0.0253 - acc: 0.9953 - val_loss: 0.0323 - val_acc: 0.9917\n",
            "Epoch 17/60\n",
            "148/147 [==============================] - 67s 455ms/step - loss: 0.0236 - acc: 0.9956 - val_loss: 0.0215 - val_acc: 0.9945\n",
            "Epoch 18/60\n",
            "148/147 [==============================] - 67s 456ms/step - loss: 0.0228 - acc: 0.9958 - val_loss: 0.0153 - val_acc: 0.9962\n",
            "Epoch 19/60\n",
            "148/147 [==============================] - 68s 457ms/step - loss: 0.0260 - acc: 0.9954 - val_loss: 0.0247 - val_acc: 0.9933\n",
            "Epoch 20/60\n",
            "148/147 [==============================] - 67s 455ms/step - loss: 0.0471 - acc: 0.9942 - val_loss: 0.0235 - val_acc: 0.9950\n",
            "Epoch 21/60\n",
            "148/147 [==============================] - 67s 455ms/step - loss: 0.0314 - acc: 0.9954 - val_loss: 0.0184 - val_acc: 0.9950\n",
            "Epoch 22/60\n",
            "148/147 [==============================] - 67s 455ms/step - loss: 0.0216 - acc: 0.9961 - val_loss: 0.0242 - val_acc: 0.9952\n",
            "Epoch 23/60\n",
            "148/147 [==============================] - 67s 456ms/step - loss: 0.0390 - acc: 0.9946 - val_loss: 0.0568 - val_acc: 0.9907\n",
            "\n",
            "Epoch 00023: ReduceLROnPlateau reducing learning rate to 0.0002500000118743628.\n",
            "Epoch 24/60\n",
            "148/147 [==============================] - 67s 455ms/step - loss: 0.0342 - acc: 0.9958 - val_loss: 0.0203 - val_acc: 0.9955\n",
            "Epoch 25/60\n",
            "148/147 [==============================] - 67s 456ms/step - loss: 0.0352 - acc: 0.9955 - val_loss: 0.0192 - val_acc: 0.9952\n",
            "Epoch 26/60\n",
            "148/147 [==============================] - 68s 457ms/step - loss: 0.0821 - acc: 0.9935 - val_loss: 0.0207 - val_acc: 0.9960\n",
            "Epoch 27/60\n",
            "148/147 [==============================] - 68s 456ms/step - loss: 0.0903 - acc: 0.9927 - val_loss: 0.0232 - val_acc: 0.9950\n",
            "Epoch 28/60\n",
            "148/147 [==============================] - 67s 456ms/step - loss: 0.1006 - acc: 0.9921 - val_loss: 0.0685 - val_acc: 0.9917\n",
            "\n",
            "Epoch 00028: ReduceLROnPlateau reducing learning rate to 0.0001250000059371814.\n",
            "Epoch 29/60\n",
            "148/147 [==============================] - 68s 460ms/step - loss: 0.0787 - acc: 0.9937 - val_loss: 0.0838 - val_acc: 0.9902\n",
            "Epoch 30/60\n",
            "148/147 [==============================] - 67s 455ms/step - loss: 0.0744 - acc: 0.9939 - val_loss: 0.0488 - val_acc: 0.9931\n",
            "Epoch 31/60\n",
            "148/147 [==============================] - 67s 456ms/step - loss: 0.0668 - acc: 0.9943 - val_loss: 0.0919 - val_acc: 0.9898\n",
            "Epoch 32/60\n",
            "148/147 [==============================] - 67s 455ms/step - loss: 0.0800 - acc: 0.9940 - val_loss: 0.1440 - val_acc: 0.9867\n",
            "Epoch 33/60\n",
            "148/147 [==============================] - 67s 453ms/step - loss: 0.0811 - acc: 0.9938 - val_loss: 0.1173 - val_acc: 0.9886\n",
            "\n",
            "Epoch 00033: ReduceLROnPlateau reducing learning rate to 6.25000029685907e-05.\n",
            "Epoch 34/60\n",
            "148/147 [==============================] - 66s 449ms/step - loss: 0.0780 - acc: 0.9940 - val_loss: 0.1439 - val_acc: 0.9874\n",
            "Epoch 35/60\n",
            "148/147 [==============================] - 67s 450ms/step - loss: 0.0460 - acc: 0.9962 - val_loss: 0.0658 - val_acc: 0.9919\n",
            "Epoch 36/60\n",
            "148/147 [==============================] - 67s 450ms/step - loss: 0.0181 - acc: 0.9980 - val_loss: 0.0428 - val_acc: 0.9936\n",
            "Epoch 37/60\n",
            "148/147 [==============================] - 67s 451ms/step - loss: 0.0145 - acc: 0.9981 - val_loss: 0.0462 - val_acc: 0.9938\n",
            "Epoch 38/60\n",
            "148/147 [==============================] - 67s 449ms/step - loss: 0.0078 - acc: 0.9987 - val_loss: 0.0198 - val_acc: 0.9962\n",
            "\n",
            "Epoch 00038: ReduceLROnPlateau reducing learning rate to 3.125000148429535e-05.\n",
            "Epoch 39/60\n",
            "148/147 [==============================] - 67s 451ms/step - loss: 0.0076 - acc: 0.9986 - val_loss: 0.0266 - val_acc: 0.9955\n",
            "Epoch 40/60\n",
            "148/147 [==============================] - 67s 451ms/step - loss: 0.0142 - acc: 0.9981 - val_loss: 0.0271 - val_acc: 0.9955\n",
            "Epoch 41/60\n",
            "148/147 [==============================] - 67s 451ms/step - loss: 0.0109 - acc: 0.9984 - val_loss: 0.0278 - val_acc: 0.9948\n",
            "Epoch 42/60\n",
            "148/147 [==============================] - 67s 451ms/step - loss: 0.0078 - acc: 0.9987 - val_loss: 0.0244 - val_acc: 0.9952\n",
            "Epoch 43/60\n",
            "148/147 [==============================] - 67s 452ms/step - loss: 0.0098 - acc: 0.9983 - val_loss: 0.0258 - val_acc: 0.9955\n",
            "\n",
            "Epoch 00043: ReduceLROnPlateau reducing learning rate to 1.5625000742147677e-05.\n",
            "Epoch 44/60\n",
            "148/147 [==============================] - 67s 451ms/step - loss: 0.0084 - acc: 0.9988 - val_loss: 0.0244 - val_acc: 0.9960\n",
            "Epoch 45/60\n",
            "148/147 [==============================] - 67s 452ms/step - loss: 0.0104 - acc: 0.9984 - val_loss: 0.0241 - val_acc: 0.9957\n",
            "Epoch 46/60\n",
            "148/147 [==============================] - 67s 451ms/step - loss: 0.0089 - acc: 0.9987 - val_loss: 0.0237 - val_acc: 0.9945\n",
            "Epoch 47/60\n",
            "148/147 [==============================] - 67s 450ms/step - loss: 0.0082 - acc: 0.9987 - val_loss: 0.0230 - val_acc: 0.9957\n",
            "Epoch 48/60\n",
            "148/147 [==============================] - 67s 450ms/step - loss: 0.0107 - acc: 0.9985 - val_loss: 0.0244 - val_acc: 0.9955\n",
            "\n",
            "Epoch 00048: ReduceLROnPlateau reducing learning rate to 7.812500371073838e-06.\n",
            "Epoch 49/60\n",
            "148/147 [==============================] - 67s 450ms/step - loss: 0.0075 - acc: 0.9987 - val_loss: 0.0235 - val_acc: 0.9957\n",
            "Epoch 50/60\n",
            "148/147 [==============================] - 68s 456ms/step - loss: 0.0096 - acc: 0.9987 - val_loss: 0.0234 - val_acc: 0.9955\n",
            "Epoch 51/60\n",
            "148/147 [==============================] - 67s 450ms/step - loss: 0.0048 - acc: 0.9990 - val_loss: 0.0231 - val_acc: 0.9955\n",
            "Epoch 52/60\n",
            "148/147 [==============================] - 67s 450ms/step - loss: 0.0066 - acc: 0.9988 - val_loss: 0.0238 - val_acc: 0.9952\n",
            "Epoch 53/60\n",
            "148/147 [==============================] - 66s 449ms/step - loss: 0.0079 - acc: 0.9986 - val_loss: 0.0236 - val_acc: 0.9955\n",
            "\n",
            "Epoch 00053: ReduceLROnPlateau reducing learning rate to 3.906250185536919e-06.\n",
            "Epoch 54/60\n",
            "148/147 [==============================] - 66s 448ms/step - loss: 0.0082 - acc: 0.9984 - val_loss: 0.0232 - val_acc: 0.9955\n",
            "Epoch 55/60\n",
            "148/147 [==============================] - 66s 448ms/step - loss: 0.0064 - acc: 0.9988 - val_loss: 0.0227 - val_acc: 0.9957\n",
            "Epoch 56/60\n",
            "148/147 [==============================] - 68s 457ms/step - loss: 0.0060 - acc: 0.9989 - val_loss: 0.0232 - val_acc: 0.9955\n",
            "Epoch 57/60\n",
            "148/147 [==============================] - 67s 451ms/step - loss: 0.0114 - acc: 0.9983 - val_loss: 0.0230 - val_acc: 0.9952\n",
            "Epoch 58/60\n",
            "148/147 [==============================] - 67s 451ms/step - loss: 0.0059 - acc: 0.9989 - val_loss: 0.0226 - val_acc: 0.9960\n",
            "\n",
            "Epoch 00058: ReduceLROnPlateau reducing learning rate to 1.9531250927684596e-06.\n",
            "Epoch 59/60\n",
            "148/147 [==============================] - 67s 450ms/step - loss: 0.0081 - acc: 0.9987 - val_loss: 0.0223 - val_acc: 0.9960\n",
            "Epoch 60/60\n",
            "148/147 [==============================] - 67s 455ms/step - loss: 0.0075 - acc: 0.9986 - val_loss: 0.0227 - val_acc: 0.9955\n"
          ],
          "name": "stdout"
        }
      ]
    },
    {
      "metadata": {
        "id": "6VZ9bCI_ZhoG",
        "colab_type": "text"
      },
      "cell_type": "markdown",
      "source": [
        "<a id=\"13\"></a> <br>\n",
        "**7. Results**\n",
        "============================"
      ]
    },
    {
      "metadata": {
        "id": "L_xNlC7NtCRp",
        "colab_type": "code",
        "outputId": "dca076c9-ddfd-4866-9156-fcaff96810cb",
        "colab": {
          "base_uri": "https://localhost:8080/",
          "height": 735
        }
      },
      "cell_type": "code",
      "source": [
        "# Plot training & validation accuracy values\n",
        "plt.plot(inception_history.history['acc'])\n",
        "plt.plot(inception_history.history['val_acc'])\n",
        "plt.title('Model accuracy')\n",
        "plt.ylabel('Accuracy')\n",
        "plt.xlabel('Epoch')\n",
        "plt.legend(['Train', 'Validation'], loc='upper left')\n",
        "plt.show()\n",
        "\n",
        "# Plot training & validation loss values\n",
        "plt.plot(inception_history.history['loss'])\n",
        "plt.plot(inception_history.history['val_loss'])\n",
        "plt.title('Model loss')\n",
        "plt.ylabel('Loss')\n",
        "plt.xlabel('Epoch')\n",
        "plt.legend(['Train', 'Validation'], loc='upper left')\n",
        "plt.show()"
      ],
      "execution_count": 0,
      "outputs": [
        {
          "output_type": "display_data",
          "data": {
            "image/png": "[encoded data removed]",
            "text/plain": [
              "<Figure size 576x396 with 1 Axes>"
            ]
          },
          "metadata": {
            "tags": []
          }
        },
        {
          "output_type": "display_data",
          "data": {
            "image/png": "[encoded data removed]",
            "text/plain": [
              "<Figure size 576x396 with 1 Axes>"
            ]
          },
          "metadata": {
            "tags": []
          }
        }
      ]
    },
    {
      "metadata": {
        "id": "-Q5Z8EBaQFuk",
        "colab_type": "text"
      },
      "cell_type": "markdown",
      "source": [
        "<a id=\"14\"></a> <br>\n",
        "*7.1. Store the history*\n",
        "-----------------------------\n"
      ]
    },
    {
      "metadata": {
        "id": "IR_QR261fUbW",
        "colab_type": "code",
        "colab": {}
      },
      "cell_type": "code",
      "source": [
        "with open(FOLDER_PATH+'inception_history.pkl', 'wb') as output:\n",
        "  pickle.dump(inception_history, output, pickle.HIGHEST_PROTOCOL)\n"
      ],
      "execution_count": 0,
      "outputs": []
    },
    {
      "metadata": {
        "colab_type": "text",
        "id": "acBTgQ8-a5e-"
      },
      "cell_type": "markdown",
      "source": [
        "<a id=\"14\"></a> <br>\n",
        "*7.2. Create output file*\n",
        "-----------------------------\n"
      ]
    },
    {
      "metadata": {
        "colab_type": "code",
        "id": "nhCb4WOIa5fA",
        "colab": {
          "base_uri": "https://localhost:8080/",
          "height": 34
        },
        "outputId": "ce80ce68-cfe1-4372-9303-e2c41e8e5d69"
      },
      "cell_type": "code",
      "source": [
        "lenet_model = load_model(FOLDER_PATH+'inception_model.hdf5')\n",
        "output = np.array(lenet_model.predict(x_test))\n",
        "#from categorial to a number. [0,0,0,0,0,0,1,0,0,0]->6\n",
        "output = np.argmax(output,axis=1)\n",
        "print(output)\n",
        "np.savetxt(FOLDER_PATH+'inception_output.csv', output, delimiter=\",\",fmt='%d')\n"
      ],
      "execution_count": 28,
      "outputs": [
        {
          "output_type": "stream",
          "text": [
            "[2 0 9 ... 3 9 2]\n"
          ],
          "name": "stdout"
        }
      ]
    }
  ]
}