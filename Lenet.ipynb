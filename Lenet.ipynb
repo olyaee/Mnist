{
  "nbformat": 4,
  "nbformat_minor": 0,
  "metadata": {
    "colab": {
      "name": "Lenet.ipynb",
      "version": "0.3.2",
      "provenance": [],
      "collapsed_sections": [],
      "include_colab_link": true
    },
    "kernelspec": {
      "name": "python3",
      "display_name": "Python 3"
    },
    "accelerator": "GPU"
  },
  "cells": [
    {
      "cell_type": "markdown",
      "metadata": {
        "id": "view-in-github",
        "colab_type": "text"
      },
      "source": [
        "<a href=\"https://colab.research.google.com/github/olyaee/Mnist/blob/master/Lenet.ipynb\" target=\"_parent\"><img src=\"https://colab.research.google.com/assets/colab-badge.svg\" alt=\"Open In Colab\"/></a>"
      ]
    },
    {
      "metadata": {
        "id": "xvFrKLX2VQVW",
        "colab_type": "text"
      },
      "cell_type": "markdown",
      "source": [
        "* 1.  [Introduction](#1)\n",
        "    * 1.1. [Import Libraries](#2)\n",
        "* 2. [Load, Train and Test data](#3)\n",
        "    * 2.1. [Reshape input](#4)\n",
        "    * 2.2. [One Hot encoding of labels](#5)\n",
        "    * 2.3 [Data Visualization](#6)\n",
        "* 3. [Preprocessing the digit images](#7)\n",
        "    * 3.1. [Data Normalization](#8)\n",
        "* 4. [Create Models](#10)\n",
        "* 5. [Optimizer-Learning Rate-Data Augmentation](#11)\n",
        "* 6. [Compile Model](#12)\n",
        "* 7. [Results](#13)\n",
        "    "
      ]
    },
    {
      "metadata": {
        "id": "NZjOHRn4V-2a",
        "colab_type": "text"
      },
      "cell_type": "markdown",
      "source": [
        "<a id=\"1\"></a> <br>\n",
        "**1. Introduction**\n",
        "===============================\n"
      ]
    },
    {
      "metadata": {
        "id": "4KG6q4NxWQx2",
        "colab_type": "text"
      },
      "cell_type": "markdown",
      "source": [
        "<a id=\"2\"></a> <br>\n",
        "*1.1. Import Libraries*\n",
        "-----------------------------\n",
        "As the first step, we need to import needed libraries"
      ]
    },
    {
      "metadata": {
        "id": "iQl-FVRsWbjL",
        "colab_type": "code",
        "outputId": "823e647f-9978-4653-9b18-0e0f6f2bba2a",
        "colab": {
          "base_uri": "https://localhost:8080/",
          "height": 51
        }
      },
      "cell_type": "code",
      "source": [
        "import numpy as np # linear algebra\n",
        "import pandas as pd # data processing, CSV file I/O (e.g. pd.read_csv)\n",
        "import os\n",
        "import matplotlib.pyplot as plt\n",
        "import tensorflow as tf\n",
        "from sklearn.model_selection import train_test_split\n",
        "from keras import Input\n",
        "from keras.layers import Flatten, Dense, Conv2D, MaxPooling2D, ZeroPadding2D, BatchNormalization, average, GlobalAveragePooling2D\n",
        "from keras.layers import PReLU, add, AveragePooling2D, UpSampling3D, Dropout\n",
        "from keras.models import Model\n",
        "from keras.models import Sequential\n",
        "from keras.optimizers import RMSprop\n",
        "from keras.preprocessing.image import ImageDataGenerator\n",
        "from keras.callbacks import ReduceLROnPlateau, ModelCheckpoint\n",
        "from IPython.display import Image\n",
        "from keras.utils import plot_model\n",
        "from keras.utils.np_utils import to_categorical\n",
        "from keras.applications.inception_v3 import InceptionV3\n",
        "import pickle\n",
        "\n",
        "print(os.listdir(\"./\"))\n"
      ],
      "execution_count": 1,
      "outputs": [
        {
          "output_type": "stream",
          "text": [
            "['.config', 'sample_data']\n"
          ],
          "name": "stdout"
        },
        {
          "output_type": "stream",
          "text": [
            "Using TensorFlow backend.\n"
          ],
          "name": "stderr"
        }
      ]
    },
    {
      "metadata": {
        "id": "V8tmrszIWhPm",
        "colab_type": "text"
      },
      "cell_type": "markdown",
      "source": [
        "<a id=\"3\"></a> <br>\n",
        "**2. Load, Train and Test data**\n",
        "============================\n",
        "In order to load the data we used pandas library.\n",
        "I have stored the data in my google drive. there are some othere ways to load data. For example you can directly import data from keras. \n",
        "Since we want to have the same train and validation data for every model we have done data sepration it in a seprate notebook and have stored the results as pickle file.\n",
        "For the code you can refer to this [LINK](https://github.com/olyaee/Mnist/blob/master/data_split.ipynb)\n"
      ]
    },
    {
      "metadata": {
        "id": "x7wUBjofWiiF",
        "colab_type": "code",
        "outputId": "5ae2322b-d527-4e3a-c47b-7b68130256f5",
        "colab": {
          "base_uri": "https://localhost:8080/",
          "height": 122
        }
      },
      "cell_type": "code",
      "source": [
        "from google.colab import drive\n",
        "drive.mount('/content/drive')"
      ],
      "execution_count": 0,
      "outputs": [
        {
          "output_type": "stream",
          "text": [
            "Go to this URL in a browser: https://accounts.google.com/o/oauth2/auth?client_id=947318989803-6bn6qk8qdgf4n4g3pfee6491hc0brc4i.apps.googleusercontent.com&redirect_uri=urn%3Aietf%3Awg%3Aoauth%3A2.0%3Aoob&scope=email%20https%3A%2F%2Fwww.googleapis.com%2Fauth%2Fdocs.test%20https%3A%2F%2Fwww.googleapis.com%2Fauth%2Fdrive%20https%3A%2F%2Fwww.googleapis.com%2Fauth%2Fdrive.photos.readonly%20https%3A%2F%2Fwww.googleapis.com%2Fauth%2Fpeopleapi.readonly&response_type=code\n",
            "\n",
            "Enter your authorization code:\n",
            "··········\n",
            "Mounted at /content/drive\n"
          ],
          "name": "stdout"
        }
      ]
    },
    {
      "metadata": {
        "id": "OscjO3_iXCA9",
        "colab_type": "code",
        "outputId": "5406151a-fc44-4c04-a0bb-aec49b24a9a4",
        "colab": {
          "base_uri": "https://localhost:8080/",
          "height": 102
        }
      },
      "cell_type": "code",
      "source": [
        "with open('./drive/My Drive/Colab Notebooks/Data/x_train.pkl', 'rb') as input:\n",
        "  x_train = pickle.load(input)\n",
        "with open('./drive/My Drive/Colab Notebooks/Data/x_val.pkl', 'rb') as input:\n",
        "  x_val = pickle.load(input)\n",
        "with open('./drive/My Drive/Colab Notebooks/Data/y_train.pkl', 'rb') as input:\n",
        "  y_train = pickle.load(input)\n",
        "with open('./drive/My Drive/Colab Notebooks/Data/y_val.pkl', 'rb') as input:\n",
        "  y_val = pickle.load(input)\n",
        "with open('./drive/My Drive/Colab Notebooks/Data/x_test.pkl', 'rb') as input:\n",
        "  x_test = pickle.load(input)\n",
        "\n",
        "print('x_train',x_train.shape)\n",
        "print('x_val',x_val.shape)\n",
        "print('x_val',y_train.shape)\n",
        "print('y_val',y_val.shape)\n",
        "print('x_test',x_test.shape)\n"
      ],
      "execution_count": 0,
      "outputs": [
        {
          "output_type": "stream",
          "text": [
            "x_train (37800, 784)\n",
            "x_val (4200, 784)\n",
            "x_val (37800,)\n",
            "y_val (4200,)\n",
            "x_test (28000, 784)\n"
          ],
          "name": "stdout"
        }
      ]
    },
    {
      "metadata": {
        "id": "Qyl7lrNzX93e",
        "colab_type": "text"
      },
      "cell_type": "markdown",
      "source": [
        "<a id=\"4\"></a> <br>\n",
        "*2.1. Reshape input*\n",
        "-----------------------------"
      ]
    },
    {
      "metadata": {
        "id": "DTxYxFX0X9Ke",
        "colab_type": "code",
        "outputId": "dc9ef309-c1a6-482d-d480-6de994bc8421",
        "colab": {
          "base_uri": "https://localhost:8080/",
          "height": 68
        }
      },
      "cell_type": "code",
      "source": [
        "x_train = x_train.reshape(x_train.shape[0], 28, 28,1)\n",
        "x_val = x_val.reshape(x_val.shape[0], 28, 28,1)\n",
        "print(x_train.shape)\n",
        "print(x_val.shape)\n",
        "x_test = x_test.reshape(x_test.shape[0], 28, 28,1)\n",
        "print(x_test.shape)"
      ],
      "execution_count": 0,
      "outputs": [
        {
          "output_type": "stream",
          "text": [
            "(37800, 28, 28, 1)\n",
            "(4200, 28, 28, 1)\n",
            "(28000, 28, 28, 1)\n"
          ],
          "name": "stdout"
        }
      ]
    },
    {
      "metadata": {
        "id": "Xqq5eWYhYIyb",
        "colab_type": "text"
      },
      "cell_type": "markdown",
      "source": [
        "<a id=\"5\"></a> <br>\n",
        "*2.2. One Hot encoding of labels*\n",
        "-----------------------------\n",
        "we have a number for each image but we need an array.\n",
        "2 has to be converted to [0, 0, 1, 0, 0 ,0 ,0 ,0 ,0 ,0] "
      ]
    },
    {
      "metadata": {
        "id": "F4vba8x9YIIL",
        "colab_type": "code",
        "outputId": "15ed3a65-6e26-4963-a377-6eebc59ec02c",
        "colab": {
          "base_uri": "https://localhost:8080/",
          "height": 34
        }
      },
      "cell_type": "code",
      "source": [
        "y_train= to_categorical(y_train)\n",
        "y_val= to_categorical(y_val)\n",
        "num_classes = y_train.shape[1]\n",
        "print(y_train.shape)"
      ],
      "execution_count": 0,
      "outputs": [
        {
          "output_type": "stream",
          "text": [
            "(37800, 10)\n"
          ],
          "name": "stdout"
        }
      ]
    },
    {
      "metadata": {
        "id": "6y_9IOUyYclL",
        "colab_type": "text"
      },
      "cell_type": "markdown",
      "source": [
        "<a id=\"6\"></a> <br>\n",
        "*2.3 Data Visualization*\n",
        "-----------------------------\n",
        "Lets look at 3 images from data set with their labels."
      ]
    },
    {
      "metadata": {
        "id": "MSnaweUkYb4S",
        "colab_type": "code",
        "outputId": "c5688205-ff69-41a4-b159-7b94e3878afa",
        "colab": {
          "base_uri": "https://localhost:8080/",
          "height": 205
        }
      },
      "cell_type": "code",
      "source": [
        "for i in range(6, 9):\n",
        "    plt.subplot(330 + (i+1))\n",
        "    plt.imshow(x_train[i].reshape(28, 28), cmap=plt.get_cmap('gray'))\n",
        "    plt.title(y_train[i]);"
      ],
      "execution_count": 0,
      "outputs": [
        {
          "output_type": "stream",
          "text": [
            "/usr/local/lib/python3.6/dist-packages/matplotlib/text.py:1191: FutureWarning: elementwise comparison failed; returning scalar instead, but in the future will perform elementwise comparison\n",
            "  if s != self._text:\n"
          ],
          "name": "stderr"
        },
        {
          "output_type": "display_data",
          "data": {
            "image/png": "[encoded data removed]",
            "text/plain": [
              "<Figure size 576x396 with 3 Axes>"
            ]
          },
          "metadata": {
            "tags": []
          }
        }
      ]
    },
    {
      "metadata": {
        "id": "1XEVvknWZXUo",
        "colab_type": "text"
      },
      "cell_type": "markdown",
      "source": [
        "<a id=\"7\"></a> <br>\n",
        "**3. Preprocessing the digit images**\n",
        "==================================\n"
      ]
    },
    {
      "metadata": {
        "id": "oJoVs6s0Zaqo",
        "colab_type": "text"
      },
      "cell_type": "markdown",
      "source": [
        "<a id=\"8\"></a> <br>\n",
        "*3.1. Data Normalization*\n",
        "-----------------------------\n"
      ]
    },
    {
      "metadata": {
        "id": "PqSMWKLZaIDG",
        "colab_type": "code",
        "colab": {}
      },
      "cell_type": "code",
      "source": [
        "# Normalize the data\n",
        "x_train = x_train / 255.0\n",
        "x_val = x_val / 255\n",
        "x_test = x_test / 255.0"
      ],
      "execution_count": 0,
      "outputs": []
    },
    {
      "metadata": {
        "id": "ZoW0W8StZhza",
        "colab_type": "text"
      },
      "cell_type": "markdown",
      "source": [
        "<a id=\"10\"></a> <br>\n",
        "**4. Create Model**\n",
        "============================"
      ]
    },
    {
      "metadata": {
        "id": "-gbCmIpeZhwx",
        "colab_type": "text"
      },
      "cell_type": "markdown",
      "source": [
        "![](https://www.groundai.com/media/arxiv_projects/4166/images_lenet5.png)"
      ]
    },
    {
      "metadata": {
        "id": "XFdT4GhEsl5p",
        "colab_type": "code",
        "colab": {}
      },
      "cell_type": "code",
      "source": [
        "input = Input(shape = (28,28,1), dtype='float32', name='m1input')\n",
        "\n",
        "# Add the first convolution layer\n",
        "x = Conv2D(filters=20, \n",
        "           kernel_size=(5, 5), \n",
        "           activation='relu', \n",
        "           input_shape=(28, 28, 1), \n",
        "           data_format='channels_last', \n",
        "           name='lenet_conv1',\n",
        "           padding=\"same\")(input)\n",
        "# Add a pooling layer\n",
        "x = MaxPooling2D(pool_size=(2, 2),\n",
        "                strides =  (2, 2), \n",
        "                name='lenet_maxpool1')(x)\n",
        "\n",
        "# Add the second convolution layer\n",
        "x = Conv2D(filters = 50,\n",
        "           kernel_size = (5, 5), \n",
        "           activation='relu',\n",
        "           padding = \"same\",\n",
        "           name='lenet_conv2')(x)\n",
        "\n",
        "# Add a second pooling layer\n",
        "x =MaxPooling2D(pool_size=(2, 2),\n",
        "                strides =  (2, 2), \n",
        "                name='lenet_maxpool2')(x)\n",
        "\n",
        "# Flatten the network\n",
        "x = Flatten(name='lenet_flatten')(x)\n",
        "\n",
        "\n",
        "# Add a fully-connected hidden layer\n",
        "x =Dense(500, activation='relu', name='lenet_dense1')(x)\n",
        "\n",
        "# Add a fully-connected output layer\n",
        "prediction_lenet = Dense(10, activation='softmax', name='lenet_output')(x)"
      ],
      "execution_count": 0,
      "outputs": []
    },
    {
      "metadata": {
        "id": "cq0SNtjrZht8",
        "colab_type": "text"
      },
      "cell_type": "markdown",
      "source": [
        " <a id=\"11\"></a> <br>\n",
        "**5. Optimizer-Learning Rate-Data Augmentation**\n",
        "============================"
      ]
    },
    {
      "metadata": {
        "id": "koX1lFAZsu1i",
        "colab_type": "code",
        "colab": {}
      },
      "cell_type": "code",
      "source": [
        "# Define the optimizer\n",
        "optimizer = RMSprop(lr=0.001, rho=0.9, epsilon=1e-08, decay=0.0)"
      ],
      "execution_count": 0,
      "outputs": []
    },
    {
      "metadata": {
        "id": "CD8XuqxZsxC7",
        "colab_type": "code",
        "colab": {}
      },
      "cell_type": "code",
      "source": [
        "# Set a learning rate annealer\n",
        "learning_rate_reduction = ReduceLROnPlateau(monitor='val_acc', \n",
        "                                            patience=3, \n",
        "                                            verbose=1, \n",
        "                                            factor=0.05, \n",
        "                                            min_lr=0.00001)"
      ],
      "execution_count": 0,
      "outputs": []
    },
    {
      "metadata": {
        "id": "V-Wy1vM5szI5",
        "colab_type": "code",
        "colab": {}
      },
      "cell_type": "code",
      "source": [
        "# data augmentation\n",
        "datagen = ImageDataGenerator(\n",
        "        featurewise_center=False,  # set input mean to 0 over the dataset\n",
        "        samplewise_center=False,  # set each sample mean to 0\n",
        "        featurewise_std_normalization=False,  # divide inputs by std of the dataset\n",
        "        samplewise_std_normalization=False,  # divide each input by its std\n",
        "        zca_whitening=False,  # apply ZCA whitening\n",
        "        rotation_range=10,  # randomly rotate images in the range (degrees, 0 to 180)\n",
        "        zoom_range = 0.1, # Randomly zoom image \n",
        "        width_shift_range=0.1,  # randomly shift images horizontally (fraction of total width)\n",
        "        height_shift_range=0.1,  # randomly shift images vertically (fraction of total height)\n",
        "        horizontal_flip=False,  # randomly flip images\n",
        "        vertical_flip=False)  # randomly flip images\n",
        "datagen.fit(x_train)\n"
      ],
      "execution_count": 0,
      "outputs": []
    },
    {
      "metadata": {
        "id": "Udrl3IAsZhrB",
        "colab_type": "text"
      },
      "cell_type": "markdown",
      "source": [
        "<a id=\"12\"></a> <br>\n",
        "**6. Compile Model**\n",
        "============================"
      ]
    },
    {
      "metadata": {
        "id": "oyCJQs-xs5FA",
        "colab_type": "code",
        "outputId": "0ead87a9-61c2-479c-cfca-97434ce5b336",
        "colab": {
          "base_uri": "https://localhost:8080/",
          "height": 1105
        }
      },
      "cell_type": "code",
      "source": [
        "# Compile the model\n",
        "lenet_model = Model(inputs=input, outputs=prediction_lenet)\n",
        "lenet_model.compile(optimizer = optimizer , loss = \"categorical_crossentropy\", metrics=[\"accuracy\"])\n",
        "\n",
        "#plot the model\n",
        "plot_model(lenet_model, to_file='./drive/My Drive/Colab Notebooks/Lenet/lenet_model.png')\n",
        "Image(filename = './drive/My Drive/Colab Notebooks/Lenet/lenet_model.png', width=200, height=200, unconfined=True)\n",
        "\n",
        "model_checkpoint = ModelCheckpoint('./drive/My Drive/Colab Notebooks/Lenet/lenet_model.hdf5', monitor='val_loss', verbose=0, save_best_only=True, save_weights_only=False, mode='auto', period=1)\n",
        "\n",
        "lenet_history = lenet_model.fit_generator(datagen.flow(x_train,y_train, batch_size=64),\n",
        "                                            validation_data=(x_val, y_val),\n",
        "                                            shuffle=True,\n",
        "                                            epochs=30, \n",
        "                                            steps_per_epoch=len(x_train) / 64,\n",
        "                                            callbacks=[learning_rate_reduction, model_checkpoint])"
      ],
      "execution_count": 0,
      "outputs": [
        {
          "output_type": "stream",
          "text": [
            "Epoch 1/30\n",
            "591/590 [==============================] - 20s 34ms/step - loss: 0.2605 - acc: 0.9179 - val_loss: 0.1440 - val_acc: 0.9531\n",
            "Epoch 2/30\n",
            "591/590 [==============================] - 15s 26ms/step - loss: 0.0809 - acc: 0.9754 - val_loss: 0.0599 - val_acc: 0.9821\n",
            "Epoch 3/30\n",
            "591/590 [==============================] - 15s 26ms/step - loss: 0.0593 - acc: 0.9815 - val_loss: 0.0333 - val_acc: 0.9905\n",
            "Epoch 4/30\n",
            "591/590 [==============================] - 15s 26ms/step - loss: 0.0529 - acc: 0.9844 - val_loss: 0.0478 - val_acc: 0.9857\n",
            "Epoch 5/30\n",
            "591/590 [==============================] - 15s 26ms/step - loss: 0.0453 - acc: 0.9862 - val_loss: 0.0284 - val_acc: 0.9914\n",
            "Epoch 6/30\n",
            "591/590 [==============================] - 15s 26ms/step - loss: 0.0426 - acc: 0.9871 - val_loss: 0.0350 - val_acc: 0.9905\n",
            "Epoch 7/30\n",
            "591/590 [==============================] - 15s 26ms/step - loss: 0.0391 - acc: 0.9883 - val_loss: 0.0245 - val_acc: 0.9940\n",
            "Epoch 8/30\n",
            "591/590 [==============================] - 15s 26ms/step - loss: 0.0386 - acc: 0.9886 - val_loss: 0.0288 - val_acc: 0.9914\n",
            "Epoch 9/30\n",
            "591/590 [==============================] - 15s 26ms/step - loss: 0.0392 - acc: 0.9886 - val_loss: 0.0278 - val_acc: 0.9926\n",
            "Epoch 10/30\n",
            "591/590 [==============================] - 15s 26ms/step - loss: 0.0373 - acc: 0.9889 - val_loss: 0.0348 - val_acc: 0.9926\n",
            "\n",
            "Epoch 00010: ReduceLROnPlateau reducing learning rate to 5.0000002374872565e-05.\n",
            "Epoch 11/30\n",
            "591/590 [==============================] - 15s 26ms/step - loss: 0.0224 - acc: 0.9935 - val_loss: 0.0235 - val_acc: 0.9945\n",
            "Epoch 12/30\n",
            "591/590 [==============================] - 15s 26ms/step - loss: 0.0219 - acc: 0.9934 - val_loss: 0.0225 - val_acc: 0.9952\n",
            "Epoch 13/30\n",
            "591/590 [==============================] - 16s 26ms/step - loss: 0.0194 - acc: 0.9941 - val_loss: 0.0225 - val_acc: 0.9957\n",
            "Epoch 14/30\n",
            "591/590 [==============================] - 15s 26ms/step - loss: 0.0182 - acc: 0.9944 - val_loss: 0.0214 - val_acc: 0.9955\n",
            "Epoch 15/30\n",
            "591/590 [==============================] - 15s 26ms/step - loss: 0.0182 - acc: 0.9951 - val_loss: 0.0223 - val_acc: 0.9957\n",
            "Epoch 16/30\n",
            "591/590 [==============================] - 15s 26ms/step - loss: 0.0187 - acc: 0.9942 - val_loss: 0.0221 - val_acc: 0.9952\n",
            "\n",
            "Epoch 00016: ReduceLROnPlateau reducing learning rate to 1e-05.\n",
            "Epoch 17/30\n",
            "591/590 [==============================] - 15s 26ms/step - loss: 0.0165 - acc: 0.9950 - val_loss: 0.0226 - val_acc: 0.9952\n",
            "Epoch 18/30\n",
            "591/590 [==============================] - 15s 26ms/step - loss: 0.0161 - acc: 0.9947 - val_loss: 0.0228 - val_acc: 0.9955\n",
            "Epoch 19/30\n",
            "591/590 [==============================] - 15s 26ms/step - loss: 0.0177 - acc: 0.9947 - val_loss: 0.0223 - val_acc: 0.9957\n",
            "Epoch 20/30\n",
            "591/590 [==============================] - 15s 26ms/step - loss: 0.0177 - acc: 0.9951 - val_loss: 0.0225 - val_acc: 0.9955\n",
            "Epoch 21/30\n",
            "591/590 [==============================] - 15s 26ms/step - loss: 0.0175 - acc: 0.9947 - val_loss: 0.0220 - val_acc: 0.9957\n",
            "Epoch 22/30\n",
            "591/590 [==============================] - 15s 26ms/step - loss: 0.0169 - acc: 0.9950 - val_loss: 0.0215 - val_acc: 0.9952\n",
            "Epoch 23/30\n",
            "591/590 [==============================] - 15s 26ms/step - loss: 0.0170 - acc: 0.9952 - val_loss: 0.0219 - val_acc: 0.9957\n",
            "Epoch 24/30\n",
            "591/590 [==============================] - 15s 26ms/step - loss: 0.0172 - acc: 0.9948 - val_loss: 0.0215 - val_acc: 0.9952\n",
            "Epoch 25/30\n",
            "591/590 [==============================] - 15s 26ms/step - loss: 0.0157 - acc: 0.9955 - val_loss: 0.0218 - val_acc: 0.9955\n",
            "Epoch 26/30\n",
            "591/590 [==============================] - 15s 26ms/step - loss: 0.0168 - acc: 0.9951 - val_loss: 0.0221 - val_acc: 0.9952\n",
            "Epoch 27/30\n",
            "591/590 [==============================] - 15s 26ms/step - loss: 0.0162 - acc: 0.9949 - val_loss: 0.0222 - val_acc: 0.9955\n",
            "Epoch 28/30\n",
            "591/590 [==============================] - 15s 26ms/step - loss: 0.0164 - acc: 0.9950 - val_loss: 0.0223 - val_acc: 0.9955\n",
            "Epoch 29/30\n",
            "591/590 [==============================] - 15s 26ms/step - loss: 0.0167 - acc: 0.9949 - val_loss: 0.0222 - val_acc: 0.9957\n",
            "Epoch 30/30\n",
            "591/590 [==============================] - 15s 26ms/step - loss: 0.0157 - acc: 0.9952 - val_loss: 0.0225 - val_acc: 0.9955\n"
          ],
          "name": "stdout"
        }
      ]
    },
    {
      "metadata": {
        "id": "6VZ9bCI_ZhoG",
        "colab_type": "text"
      },
      "cell_type": "markdown",
      "source": [
        "<a id=\"13\"></a> <br>\n",
        "**7. Results**\n",
        "============================"
      ]
    },
    {
      "metadata": {
        "id": "L_xNlC7NtCRp",
        "colab_type": "code",
        "outputId": "6a3b2c7c-d2c5-49ca-cef4-9cc6c6ad6ddf",
        "colab": {
          "base_uri": "https://localhost:8080/",
          "height": 735
        }
      },
      "cell_type": "code",
      "source": [
        "# Plot training & validation accuracy values\n",
        "plt.plot(lenet_history.history['acc'])\n",
        "plt.plot(lenet_history.history['val_acc'])\n",
        "plt.title('Model accuracy')\n",
        "plt.ylabel('Accuracy')\n",
        "plt.xlabel('Epoch')\n",
        "plt.legend(['Train', 'Validation'], loc='upper left')\n",
        "plt.show()\n",
        "\n",
        "# Plot training & validation loss values\n",
        "plt.plot(lenet_history.history['loss'])\n",
        "plt.plot(lenet_history.history['val_loss'])\n",
        "plt.title('Model loss')\n",
        "plt.ylabel('Loss')\n",
        "plt.xlabel('Epoch')\n",
        "plt.legend(['Train', 'Validation'], loc='upper left')\n",
        "plt.show()"
      ],
      "execution_count": 0,
      "outputs": [
        {
          "output_type": "display_data",
          "data": {
            "image/png": "[encoded data removed]",
            "text/plain": [
              "<Figure size 576x396 with 1 Axes>"
            ]
          },
          "metadata": {
            "tags": []
          }
        },
        {
          "output_type": "display_data",
          "data": {
            "image/png": "[encoded data removed]",
            "text/plain": [
              "<Figure size 576x396 with 1 Axes>"
            ]
          },
          "metadata": {
            "tags": []
          }
        }
      ]
    },
    {
      "metadata": {
        "id": "-Q5Z8EBaQFuk",
        "colab_type": "text"
      },
      "cell_type": "markdown",
      "source": [
        "<a id=\"14\"></a> <br>\n",
        "*7.1. Store the history*\n",
        "-----------------------------\n"
      ]
    },
    {
      "metadata": {
        "id": "IR_QR261fUbW",
        "colab_type": "code",
        "colab": {}
      },
      "cell_type": "code",
      "source": [
        "with open('./drive/My Drive/Colab Notebooks/Resnet/resnet_history.pkl', 'wb') as output:\n",
        "  pickle.dump(resnet_history, output, pickle.HIGHEST_PROTOCOL)\n"
      ],
      "execution_count": 0,
      "outputs": []
    }
  ]
}