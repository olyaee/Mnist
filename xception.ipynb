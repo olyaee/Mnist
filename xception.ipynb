{
  "nbformat": 4,
  "nbformat_minor": 0,
  "metadata": {
    "colab": {
      "name": "xception.ipynb",
      "version": "0.3.2",
      "provenance": [],
      "collapsed_sections": [],
      "include_colab_link": true
    },
    "kernelspec": {
      "name": "python3",
      "display_name": "Python 3"
    },
    "accelerator": "GPU"
  },
  "cells": [
    {
      "cell_type": "markdown",
      "metadata": {
        "id": "view-in-github",
        "colab_type": "text"
      },
      "source": [
        "<a href=\"https://colab.research.google.com/github/olyaee/Mnist/blob/master/xception.ipynb\" target=\"_parent\"><img src=\"https://colab.research.google.com/assets/colab-badge.svg\" alt=\"Open In Colab\"/></a>"
      ]
    },
    {
      "metadata": {
        "id": "xvFrKLX2VQVW",
        "colab_type": "text"
      },
      "cell_type": "markdown",
      "source": [
        "* 1.  [Introduction](#1)\n",
        "    * 1.1. [Import Libraries](#2)\n",
        "* 2. [Load, Train and Test data](#3)\n",
        "    * 2.1. [Reshape input](#4)\n",
        "    * 2.2. [One Hot encoding of labels](#5)\n",
        "    * 2.3. [Data Visualization](#6)\n",
        "* 3. [Preprocessing the digit images](#7)\n",
        "    * 3.1. [Data Normalization](#8)\n",
        "* 4. [Create Models](#10)\n",
        "* 5. [Optimizer-Learning Rate-Data Augmentation](#11)\n",
        "* 6. [Compile Model](#12)\n",
        "* 7. [Results](#13)\n",
        "    * 7.1. [Store the history](#14)\n",
        "    * 7.2. [Create output file](#15)\n",
        "\n",
        "    "
      ]
    },
    {
      "metadata": {
        "id": "NZjOHRn4V-2a",
        "colab_type": "text"
      },
      "cell_type": "markdown",
      "source": [
        "<a id=\"1\"></a> <br>\n",
        "**1. Introduction**\n",
        "===============================\n"
      ]
    },
    {
      "metadata": {
        "id": "4KG6q4NxWQx2",
        "colab_type": "text"
      },
      "cell_type": "markdown",
      "source": [
        "<a id=\"2\"></a> <br>\n",
        "*1.1. Import Libraries*\n",
        "-----------------------------\n",
        "As the first step, we need to import needed libraries"
      ]
    },
    {
      "metadata": {
        "id": "iQl-FVRsWbjL",
        "colab_type": "code",
        "outputId": "9d12f110-528f-487d-e600-ff66983ceb00",
        "colab": {
          "base_uri": "https://localhost:8080/",
          "height": 34
        }
      },
      "cell_type": "code",
      "source": [
        "import numpy as np # linear algebra\n",
        "import pandas as pd # data processing, CSV file I/O (e.g. pd.read_csv)\n",
        "import os\n",
        "import matplotlib.pyplot as plt\n",
        "import tensorflow as tf\n",
        "from sklearn.model_selection import train_test_split\n",
        "from keras import Input\n",
        "from keras.layers import Flatten, Dense, Conv2D, MaxPooling2D, ZeroPadding2D, BatchNormalization, average, GlobalAveragePooling2D\n",
        "from keras.layers import PReLU, add, AveragePooling2D, UpSampling3D, Dropout\n",
        "from keras.models import Model, load_model\n",
        "from keras.models import Sequential\n",
        "from keras.optimizers import RMSprop\n",
        "from keras.preprocessing.image import ImageDataGenerator\n",
        "from keras.callbacks import ReduceLROnPlateau, ModelCheckpoint\n",
        "from IPython.display import Image\n",
        "from keras.utils import plot_model\n",
        "from keras.utils.np_utils import to_categorical\n",
        "from keras.applications.xception import Xception\n",
        "from keras.applications.inception_v3 import InceptionV3\n",
        "import pickle\n",
        "\n",
        "print(os.listdir(\"./\"))\n"
      ],
      "execution_count": 20,
      "outputs": [
        {
          "output_type": "stream",
          "text": [
            "['.config', 'drive', 'sample_data']\n"
          ],
          "name": "stdout"
        }
      ]
    },
    {
      "metadata": {
        "id": "V8tmrszIWhPm",
        "colab_type": "text"
      },
      "cell_type": "markdown",
      "source": [
        "<a id=\"3\"></a> <br>\n",
        "**2. Load, Train and Test data**\n",
        "============================\n",
        "In order to load the data we used pandas library.\n",
        "I have stored the data in my google drive. there are some othere ways to load data. For example you can directly import data from keras. \n",
        "Since we want to have the same train and validation data for every model we have done data sepration it in a seprate notebook and have stored the results as pickle file.\n",
        "For the code you can refer to this [LINK](https://github.com/olyaee/Mnist/blob/master/data_split.ipynb)\n"
      ]
    },
    {
      "metadata": {
        "id": "x7wUBjofWiiF",
        "colab_type": "code",
        "outputId": "830d4a50-122f-4d33-f182-d250126cd6cd",
        "colab": {
          "base_uri": "https://localhost:8080/",
          "height": 34
        }
      },
      "cell_type": "code",
      "source": [
        "from google.colab import drive\n",
        "drive.mount('/content/drive')\n",
        "FOLDER_PATH = \"./drive/My Drive/Colab Notebooks/xception/\"\n",
        "DATA_PATH = './drive/My Drive/Colab Notebooks/data/'"
      ],
      "execution_count": 25,
      "outputs": [
        {
          "output_type": "stream",
          "text": [
            "Drive already mounted at /content/drive; to attempt to forcibly remount, call drive.mount(\"/content/drive\", force_remount=True).\n"
          ],
          "name": "stdout"
        }
      ]
    },
    {
      "metadata": {
        "id": "OscjO3_iXCA9",
        "colab_type": "code",
        "outputId": "b8abd935-9648-4b2c-c9d3-0359e86d2c47",
        "colab": {
          "base_uri": "https://localhost:8080/",
          "height": 102
        }
      },
      "cell_type": "code",
      "source": [
        "with open(DATA_PATH+'x_train.pkl', 'rb') as input:\n",
        "  x_train = pickle.load(input)\n",
        "with open(DATA_PATH+'x_val.pkl', 'rb') as input:\n",
        "  x_val = pickle.load(input)\n",
        "with open(DATA_PATH+'y_train.pkl', 'rb') as input:\n",
        "  y_train = pickle.load(input)\n",
        "with open(DATA_PATH+'y_val.pkl', 'rb') as input:\n",
        "  y_val = pickle.load(input)\n",
        "with open(DATA_PATH+'x_test.pkl', 'rb') as input:\n",
        "  x_test = pickle.load(input)\n",
        "\n",
        "print('x_train',x_train.shape)\n",
        "print('x_val',x_val.shape)\n",
        "print('x_val',y_train.shape)\n",
        "print('y_val',y_val.shape)\n",
        "print('x_test',x_test.shape)\n"
      ],
      "execution_count": 3,
      "outputs": [
        {
          "output_type": "stream",
          "text": [
            "x_train (37800, 784)\n",
            "x_val (4200, 784)\n",
            "x_val (37800,)\n",
            "y_val (4200,)\n",
            "x_test (28000, 784)\n"
          ],
          "name": "stdout"
        }
      ]
    },
    {
      "metadata": {
        "id": "Qyl7lrNzX93e",
        "colab_type": "text"
      },
      "cell_type": "markdown",
      "source": [
        "<a id=\"4\"></a> <br>\n",
        "*2.1. Reshape input*\n",
        "-----------------------------"
      ]
    },
    {
      "metadata": {
        "id": "DTxYxFX0X9Ke",
        "colab_type": "code",
        "outputId": "91c97cd3-712a-444e-beb5-089ab436bc28",
        "colab": {
          "base_uri": "https://localhost:8080/",
          "height": 68
        }
      },
      "cell_type": "code",
      "source": [
        "x_train = x_train.reshape(x_train.shape[0], 28, 28,1)\n",
        "x_val = x_val.reshape(x_val.shape[0], 28, 28,1)\n",
        "print(x_train.shape)\n",
        "print(x_val.shape)\n",
        "x_test = x_test.reshape(x_test.shape[0], 28, 28,1)\n",
        "print(x_test.shape)"
      ],
      "execution_count": 4,
      "outputs": [
        {
          "output_type": "stream",
          "text": [
            "(37800, 28, 28, 1)\n",
            "(4200, 28, 28, 1)\n",
            "(28000, 28, 28, 1)\n"
          ],
          "name": "stdout"
        }
      ]
    },
    {
      "metadata": {
        "id": "Xqq5eWYhYIyb",
        "colab_type": "text"
      },
      "cell_type": "markdown",
      "source": [
        "<a id=\"5\"></a> <br>\n",
        "*2.2. One Hot encoding of labels*\n",
        "-----------------------------\n",
        "we have a number for each image but we need an array.\n",
        "2 has to be converted to [0, 0, 1, 0, 0 ,0 ,0 ,0 ,0 ,0] "
      ]
    },
    {
      "metadata": {
        "id": "F4vba8x9YIIL",
        "colab_type": "code",
        "outputId": "51272f83-559e-482d-daaf-bf5ff8345f2a",
        "colab": {
          "base_uri": "https://localhost:8080/",
          "height": 34
        }
      },
      "cell_type": "code",
      "source": [
        "y_train= to_categorical(y_train)\n",
        "y_val= to_categorical(y_val)\n",
        "num_classes = y_train.shape[1]\n",
        "print(y_train.shape)"
      ],
      "execution_count": 5,
      "outputs": [
        {
          "output_type": "stream",
          "text": [
            "(37800, 10)\n"
          ],
          "name": "stdout"
        }
      ]
    },
    {
      "metadata": {
        "id": "6y_9IOUyYclL",
        "colab_type": "text"
      },
      "cell_type": "markdown",
      "source": [
        "<a id=\"6\"></a> <br>\n",
        "*2.3 Data Visualization*\n",
        "-----------------------------\n",
        "Lets look at 3 images from data set with their labels."
      ]
    },
    {
      "metadata": {
        "id": "MSnaweUkYb4S",
        "colab_type": "code",
        "outputId": "eb268cdc-94fe-4918-af16-678d792b4ccb",
        "colab": {
          "base_uri": "https://localhost:8080/",
          "height": 205
        }
      },
      "cell_type": "code",
      "source": [
        "for i in range(6, 9):\n",
        "    plt.subplot(330 + (i+1))\n",
        "    plt.imshow(x_train[i].reshape(28, 28), cmap=plt.get_cmap('gray'))\n",
        "    plt.title(y_train[i]);"
      ],
      "execution_count": 6,
      "outputs": [
        {
          "output_type": "stream",
          "text": [
            "/usr/local/lib/python3.6/dist-packages/matplotlib/text.py:1191: FutureWarning: elementwise comparison failed; returning scalar instead, but in the future will perform elementwise comparison\n",
            "  if s != self._text:\n"
          ],
          "name": "stderr"
        },
        {
          "output_type": "display_data",
          "data": {
            "image/png": "[encoded data removed]",
            "text/plain": [
              "<Figure size 576x396 with 3 Axes>"
            ]
          },
          "metadata": {
            "tags": []
          }
        }
      ]
    },
    {
      "metadata": {
        "id": "1XEVvknWZXUo",
        "colab_type": "text"
      },
      "cell_type": "markdown",
      "source": [
        "<a id=\"7\"></a> <br>\n",
        "**3. Preprocessing the digit images**\n",
        "==================================\n"
      ]
    },
    {
      "metadata": {
        "id": "oJoVs6s0Zaqo",
        "colab_type": "text"
      },
      "cell_type": "markdown",
      "source": [
        "<a id=\"8\"></a> <br>\n",
        "*3.1. Data Normalization*\n",
        "-----------------------------\n"
      ]
    },
    {
      "metadata": {
        "id": "PqSMWKLZaIDG",
        "colab_type": "code",
        "colab": {}
      },
      "cell_type": "code",
      "source": [
        "# Normalize the data\n",
        "x_train = x_train / 255.0\n",
        "x_val = x_val / 255\n",
        "x_test = x_test / 255.0"
      ],
      "execution_count": 0,
      "outputs": []
    },
    {
      "metadata": {
        "id": "ZoW0W8StZhza",
        "colab_type": "text"
      },
      "cell_type": "markdown",
      "source": [
        "<a id=\"10\"></a> <br>\n",
        "**4. Create Model**\n",
        "============================"
      ]
    },
    {
      "metadata": {
        "id": "-gbCmIpeZhwx",
        "colab_type": "text"
      },
      "cell_type": "markdown",
      "source": [
        "![](https://software.intel.com/sites/default/files/managed/65/43/pedestrian-detection-using-deep-neural-networks-fig1-zoom.png)"
      ]
    },
    {
      "metadata": {
        "id": "FGfiRGjEcVbs",
        "colab_type": "code",
        "colab": {}
      },
      "cell_type": "code",
      "source": [
        "# create the base pre-trained model\n",
        "base_model = Xception(weights='imagenet', include_top=False)\n",
        "\n",
        "\n",
        "input_xception = Input(shape=(28, 28, 1), dtype='float32', name='xception_input')\n",
        "\n",
        "x = UpSampling3D(size=(3, 3, 3), data_format=\"channels_last\")(input_xception)\n",
        "x = base_model(x)\n",
        "\n",
        "x = GlobalAveragePooling2D()(x)\n",
        "\n",
        "# let's add a fully-connected layer\n",
        "x = Dense(1024, activation='relu')(x)\n",
        "x = Dropout(0.5)(x)\n",
        "\n",
        "# and a logistic layer\n",
        "xception_predictions = Dense(10, activation='softmax')(x)\n"
      ],
      "execution_count": 0,
      "outputs": []
    },
    {
      "metadata": {
        "id": "lomGgt4N8Gp_",
        "colab_type": "text"
      },
      "cell_type": "markdown",
      "source": [
        "<a id=\"9\"></a> <br>\n",
        "*4.1. Freeze the First 2 Blocks*\n",
        "-----------------------------\n",
        "Since the first two block in the xception model captures the main patterns in the images we freezed them and fortunately got a better result than training all the net. \n",
        "For that we checkd the summary of the block and realized that we have to freeze first 32 layers.\n"
      ]
    },
    {
      "metadata": {
        "id": "dS1bem8s8F-j",
        "colab_type": "code",
        "colab": {}
      },
      "cell_type": "code",
      "source": [
        "# #using the follwing lines we checked how many layers should we freeze\n",
        "# for i, layer in enumerate(base_model.layers):\n",
        "#    print(i, layer.name)\n",
        "\n",
        "for layer in base_model.layers[:32]:\n",
        "   layer.trainable = False"
      ],
      "execution_count": 0,
      "outputs": []
    },
    {
      "metadata": {
        "id": "cq0SNtjrZht8",
        "colab_type": "text"
      },
      "cell_type": "markdown",
      "source": [
        " <a id=\"11\"></a> <br>\n",
        "**5. Optimizer-Learning Rate-Data Augmentation**\n",
        "============================"
      ]
    },
    {
      "metadata": {
        "id": "koX1lFAZsu1i",
        "colab_type": "code",
        "colab": {}
      },
      "cell_type": "code",
      "source": [
        "# Define the optimizer\n",
        "optimizer = RMSprop(lr=0.001, rho=0.9, epsilon=1e-08, decay=0.0)"
      ],
      "execution_count": 0,
      "outputs": []
    },
    {
      "metadata": {
        "id": "CD8XuqxZsxC7",
        "colab_type": "code",
        "colab": {}
      },
      "cell_type": "code",
      "source": [
        "\n",
        "# Set a learning rate annealer\n",
        "learning_rate_reduction = ReduceLROnPlateau(monitor='val_acc', \n",
        "                                            patience=5, \n",
        "                                            verbose=1, \n",
        "                                            factor=0.5, \n",
        "                                            min_lr=0.000001)"
      ],
      "execution_count": 0,
      "outputs": []
    },
    {
      "metadata": {
        "id": "V-Wy1vM5szI5",
        "colab_type": "code",
        "colab": {}
      },
      "cell_type": "code",
      "source": [
        "# data augmentation\n",
        "datagen = ImageDataGenerator(\n",
        "        featurewise_center=False,  # set input mean to 0 over the dataset\n",
        "        samplewise_center=False,  # set each sample mean to 0\n",
        "        featurewise_std_normalization=False,  # divide inputs by std of the dataset\n",
        "        samplewise_std_normalization=False,  # divide each input by its std\n",
        "        zca_whitening=False,  # apply ZCA whitening\n",
        "        rotation_range=10,  # randomly rotate images in the range (degrees, 0 to 180)\n",
        "        zoom_range = 0.1, # Randomly zoom image \n",
        "        width_shift_range=0.1,  # randomly shift images horizontally (fraction of total width)\n",
        "        height_shift_range=0.1,  # randomly shift images vertically (fraction of total height)\n",
        "        horizontal_flip=False,  # randomly flip images\n",
        "        vertical_flip=False)  # randomly flip images\n",
        "datagen.fit(x_train)\n"
      ],
      "execution_count": 0,
      "outputs": []
    },
    {
      "metadata": {
        "id": "Udrl3IAsZhrB",
        "colab_type": "text"
      },
      "cell_type": "markdown",
      "source": [
        "<a id=\"12\"></a> <br>\n",
        "**6. Compile Model**\n",
        "============================"
      ]
    },
    {
      "metadata": {
        "id": "oyCJQs-xs5FA",
        "colab_type": "code",
        "colab": {
          "base_uri": "https://localhost:8080/",
          "height": 2737
        },
        "outputId": "c53c1555-9715-4dda-af74-15fc3ffaacf5"
      },
      "cell_type": "code",
      "source": [
        "# this is the model we will train\n",
        "xception_model = Model(inputs=input_xception, outputs=xception_predictions)\n",
        "xception_model.compile(optimizer = optimizer , loss = \"categorical_crossentropy\", metrics=[\"accuracy\"])\n",
        "\n",
        "#plot the model\n",
        "plot_model(xception_model, to_file=FOLDER_PATH+'xception_model.png')\n",
        "Image(filename = FOLDER_PATH+'xception_model.png', width=200, height=200, unconfined=True)\n",
        "\n",
        "model_checkpoint = ModelCheckpoint(FOLDER_PATH+'xception_model.hdf5', monitor='val_loss', verbose=0, save_best_only=True, save_weights_only=False, mode='auto', period=1)\n",
        "\n",
        "xception_history = xception_model.fit_generator(datagen.flow(x_train,y_train, batch_size=256),\n",
        "                                            validation_data=(x_val, y_val),\n",
        "                                            shuffle=True,\n",
        "                                            epochs=70, \n",
        "                                            steps_per_epoch=len(x_train) / 256,\n",
        "                                            callbacks=[learning_rate_reduction, model_checkpoint])"
      ],
      "execution_count": 13,
      "outputs": [
        {
          "output_type": "stream",
          "text": [
            "Epoch 1/70\n",
            "148/147 [==============================] - 132s 891ms/step - loss: 0.7153 - acc: 0.7501 - val_loss: 0.2537 - val_acc: 0.9581\n",
            "Epoch 2/70\n",
            "148/147 [==============================] - 136s 921ms/step - loss: 0.0849 - acc: 0.9799 - val_loss: 0.4943 - val_acc: 0.9521\n",
            "Epoch 3/70\n",
            "148/147 [==============================] - 148s 1s/step - loss: 0.0661 - acc: 0.9851 - val_loss: 0.1286 - val_acc: 0.9829\n",
            "Epoch 4/70\n",
            "148/147 [==============================] - 120s 812ms/step - loss: 0.0534 - acc: 0.9880 - val_loss: 0.0826 - val_acc: 0.9879\n",
            "Epoch 5/70\n",
            "148/147 [==============================] - 120s 812ms/step - loss: 0.0463 - acc: 0.9894 - val_loss: 0.3137 - val_acc: 0.9495\n",
            "Epoch 6/70\n",
            "148/147 [==============================] - 120s 811ms/step - loss: 0.0468 - acc: 0.9894 - val_loss: 0.1157 - val_acc: 0.9869\n",
            "Epoch 7/70\n",
            "148/147 [==============================] - 120s 811ms/step - loss: 0.0371 - acc: 0.9914 - val_loss: 0.1603 - val_acc: 0.9774\n",
            "Epoch 8/70\n",
            "148/147 [==============================] - 120s 810ms/step - loss: 0.0356 - acc: 0.9919 - val_loss: 0.3744 - val_acc: 0.9595\n",
            "Epoch 9/70\n",
            "148/147 [==============================] - 120s 812ms/step - loss: 0.0349 - acc: 0.9921 - val_loss: 0.0823 - val_acc: 0.9862\n",
            "\n",
            "Epoch 00009: ReduceLROnPlateau reducing learning rate to 0.0005000000237487257.\n",
            "Epoch 10/70\n",
            "148/147 [==============================] - 120s 813ms/step - loss: 0.0232 - acc: 0.9952 - val_loss: 0.0376 - val_acc: 0.9940\n",
            "Epoch 11/70\n",
            "148/147 [==============================] - 120s 811ms/step - loss: 0.0185 - acc: 0.9955 - val_loss: 0.0376 - val_acc: 0.9950\n",
            "Epoch 12/70\n",
            "148/147 [==============================] - 120s 812ms/step - loss: 0.0166 - acc: 0.9961 - val_loss: 0.0624 - val_acc: 0.9898\n",
            "Epoch 13/70\n",
            "148/147 [==============================] - 120s 810ms/step - loss: 0.0152 - acc: 0.9960 - val_loss: 0.0292 - val_acc: 0.9955\n",
            "Epoch 14/70\n",
            "148/147 [==============================] - 120s 811ms/step - loss: 0.0172 - acc: 0.9961 - val_loss: 0.0411 - val_acc: 0.9926\n",
            "Epoch 15/70\n",
            "148/147 [==============================] - 120s 811ms/step - loss: 0.0157 - acc: 0.9964 - val_loss: 0.0799 - val_acc: 0.9883\n",
            "Epoch 16/70\n",
            "148/147 [==============================] - 120s 811ms/step - loss: 0.0161 - acc: 0.9966 - val_loss: 0.0628 - val_acc: 0.9929\n",
            "Epoch 17/70\n",
            "148/147 [==============================] - 120s 811ms/step - loss: 0.0142 - acc: 0.9965 - val_loss: 0.0394 - val_acc: 0.9940\n",
            "Epoch 18/70\n",
            "148/147 [==============================] - 120s 807ms/step - loss: 0.0159 - acc: 0.9966 - val_loss: 0.0585 - val_acc: 0.9933\n",
            "\n",
            "Epoch 00018: ReduceLROnPlateau reducing learning rate to 0.0002500000118743628.\n",
            "Epoch 19/70\n",
            "148/147 [==============================] - 119s 806ms/step - loss: 0.0105 - acc: 0.9975 - val_loss: 0.0444 - val_acc: 0.9957\n",
            "Epoch 20/70\n",
            "148/147 [==============================] - 119s 807ms/step - loss: 0.0094 - acc: 0.9977 - val_loss: 0.0479 - val_acc: 0.9945\n",
            "Epoch 21/70\n",
            "148/147 [==============================] - 119s 807ms/step - loss: 0.0094 - acc: 0.9980 - val_loss: 0.0474 - val_acc: 0.9945\n",
            "Epoch 22/70\n",
            "148/147 [==============================] - 120s 810ms/step - loss: 0.0093 - acc: 0.9979 - val_loss: 0.0445 - val_acc: 0.9950\n",
            "Epoch 23/70\n",
            "148/147 [==============================] - 120s 810ms/step - loss: 0.0073 - acc: 0.9985 - val_loss: 0.0530 - val_acc: 0.9945\n",
            "Epoch 24/70\n",
            "148/147 [==============================] - 120s 811ms/step - loss: 0.0070 - acc: 0.9983 - val_loss: 0.0534 - val_acc: 0.9945\n",
            "\n",
            "Epoch 00024: ReduceLROnPlateau reducing learning rate to 0.0001250000059371814.\n",
            "Epoch 25/70\n",
            "148/147 [==============================] - 120s 811ms/step - loss: 0.0072 - acc: 0.9986 - val_loss: 0.0447 - val_acc: 0.9950\n",
            "Epoch 26/70\n",
            "148/147 [==============================] - 119s 807ms/step - loss: 0.0053 - acc: 0.9986 - val_loss: 0.0459 - val_acc: 0.9955\n",
            "Epoch 27/70\n",
            "148/147 [==============================] - 119s 807ms/step - loss: 0.0057 - acc: 0.9988 - val_loss: 0.0437 - val_acc: 0.9952\n",
            "Epoch 28/70\n",
            "148/147 [==============================] - 119s 806ms/step - loss: 0.0037 - acc: 0.9992 - val_loss: 0.0496 - val_acc: 0.9952\n",
            "Epoch 29/70\n",
            "148/147 [==============================] - 120s 808ms/step - loss: 0.0052 - acc: 0.9989 - val_loss: 0.0478 - val_acc: 0.9960\n",
            "Epoch 30/70\n",
            "148/147 [==============================] - 119s 807ms/step - loss: 0.0051 - acc: 0.9987 - val_loss: 0.0493 - val_acc: 0.9943\n",
            "Epoch 31/70\n",
            "148/147 [==============================] - 119s 806ms/step - loss: 0.0041 - acc: 0.9992 - val_loss: 0.0547 - val_acc: 0.9945\n",
            "Epoch 32/70\n",
            "148/147 [==============================] - 120s 808ms/step - loss: 0.0049 - acc: 0.9989 - val_loss: 0.0515 - val_acc: 0.9952\n",
            "Epoch 33/70\n",
            "148/147 [==============================] - 119s 807ms/step - loss: 0.0042 - acc: 0.9991 - val_loss: 0.0493 - val_acc: 0.9950\n",
            "Epoch 34/70\n",
            "148/147 [==============================] - 119s 807ms/step - loss: 0.0065 - acc: 0.9988 - val_loss: 0.0555 - val_acc: 0.9950\n",
            "\n",
            "Epoch 00034: ReduceLROnPlateau reducing learning rate to 6.25000029685907e-05.\n",
            "Epoch 35/70\n",
            "148/147 [==============================] - 120s 808ms/step - loss: 0.0034 - acc: 0.9993 - val_loss: 0.0608 - val_acc: 0.9945\n",
            "Epoch 36/70\n",
            "148/147 [==============================] - 120s 808ms/step - loss: 0.0039 - acc: 0.9990 - val_loss: 0.0531 - val_acc: 0.9950\n",
            "Epoch 37/70\n",
            "148/147 [==============================] - 119s 807ms/step - loss: 0.0044 - acc: 0.9990 - val_loss: 0.0481 - val_acc: 0.9957\n",
            "Epoch 38/70\n",
            "148/147 [==============================] - 119s 807ms/step - loss: 0.0039 - acc: 0.9991 - val_loss: 0.0490 - val_acc: 0.9955\n",
            "Epoch 39/70\n",
            "148/147 [==============================] - 119s 807ms/step - loss: 0.0036 - acc: 0.9991 - val_loss: 0.0546 - val_acc: 0.9948\n",
            "\n",
            "Epoch 00039: ReduceLROnPlateau reducing learning rate to 3.125000148429535e-05.\n",
            "Epoch 40/70\n",
            "148/147 [==============================] - 119s 807ms/step - loss: 0.0029 - acc: 0.9993 - val_loss: 0.0558 - val_acc: 0.9952\n",
            "Epoch 41/70\n",
            "148/147 [==============================] - 120s 810ms/step - loss: 0.0026 - acc: 0.9992 - val_loss: 0.0526 - val_acc: 0.9950\n",
            "Epoch 42/70\n",
            "148/147 [==============================] - 120s 810ms/step - loss: 0.0028 - acc: 0.9992 - val_loss: 0.0514 - val_acc: 0.9952\n",
            "Epoch 43/70\n",
            "148/147 [==============================] - 120s 811ms/step - loss: 0.0037 - acc: 0.9992 - val_loss: 0.0517 - val_acc: 0.9952\n",
            "Epoch 44/70\n",
            "148/147 [==============================] - 120s 811ms/step - loss: 0.0025 - acc: 0.9994 - val_loss: 0.0479 - val_acc: 0.9957\n",
            "\n",
            "Epoch 00044: ReduceLROnPlateau reducing learning rate to 1.5625000742147677e-05.\n",
            "Epoch 45/70\n",
            "148/147 [==============================] - 120s 811ms/step - loss: 0.0026 - acc: 0.9994 - val_loss: 0.0500 - val_acc: 0.9955\n",
            "Epoch 46/70\n",
            "148/147 [==============================] - 120s 811ms/step - loss: 0.0043 - acc: 0.9992 - val_loss: 0.0512 - val_acc: 0.9955\n",
            "Epoch 47/70\n",
            "148/147 [==============================] - 120s 811ms/step - loss: 0.0032 - acc: 0.9992 - val_loss: 0.0507 - val_acc: 0.9952\n",
            "Epoch 48/70\n",
            "148/147 [==============================] - 120s 810ms/step - loss: 0.0041 - acc: 0.9991 - val_loss: 0.0507 - val_acc: 0.9952\n",
            "Epoch 49/70\n",
            "148/147 [==============================] - 119s 807ms/step - loss: 0.0026 - acc: 0.9994 - val_loss: 0.0521 - val_acc: 0.9955\n",
            "\n",
            "Epoch 00049: ReduceLROnPlateau reducing learning rate to 7.812500371073838e-06.\n",
            "Epoch 50/70\n",
            "148/147 [==============================] - 119s 807ms/step - loss: 0.0037 - acc: 0.9992 - val_loss: 0.0518 - val_acc: 0.9955\n",
            "Epoch 51/70\n",
            "148/147 [==============================] - 119s 807ms/step - loss: 0.0043 - acc: 0.9992 - val_loss: 0.0520 - val_acc: 0.9955\n",
            "Epoch 52/70\n",
            "148/147 [==============================] - 119s 807ms/step - loss: 0.0033 - acc: 0.9991 - val_loss: 0.0519 - val_acc: 0.9952\n",
            "Epoch 53/70\n",
            "148/147 [==============================] - 119s 807ms/step - loss: 0.0030 - acc: 0.9993 - val_loss: 0.0524 - val_acc: 0.9952\n",
            "Epoch 54/70\n",
            "148/147 [==============================] - 119s 807ms/step - loss: 0.0028 - acc: 0.9995 - val_loss: 0.0525 - val_acc: 0.9952\n",
            "\n",
            "Epoch 00054: ReduceLROnPlateau reducing learning rate to 3.906250185536919e-06.\n",
            "Epoch 55/70\n",
            "148/147 [==============================] - 119s 807ms/step - loss: 0.0021 - acc: 0.9994 - val_loss: 0.0532 - val_acc: 0.9952\n",
            "Epoch 56/70\n",
            "148/147 [==============================] - 119s 807ms/step - loss: 0.0020 - acc: 0.9996 - val_loss: 0.0539 - val_acc: 0.9952\n",
            "Epoch 57/70\n",
            "148/147 [==============================] - 120s 808ms/step - loss: 0.0036 - acc: 0.9993 - val_loss: 0.0540 - val_acc: 0.9952\n",
            "Epoch 58/70\n",
            "148/147 [==============================] - 120s 808ms/step - loss: 0.0018 - acc: 0.9996 - val_loss: 0.0536 - val_acc: 0.9952\n",
            "Epoch 59/70\n",
            "148/147 [==============================] - 119s 807ms/step - loss: 0.0035 - acc: 0.9992 - val_loss: 0.0538 - val_acc: 0.9952\n",
            "\n",
            "Epoch 00059: ReduceLROnPlateau reducing learning rate to 1.9531250927684596e-06.\n",
            "Epoch 60/70\n",
            "148/147 [==============================] - 119s 806ms/step - loss: 0.0026 - acc: 0.9993 - val_loss: 0.0535 - val_acc: 0.9952\n",
            "Epoch 61/70\n",
            "148/147 [==============================] - 119s 807ms/step - loss: 0.0032 - acc: 0.9994 - val_loss: 0.0530 - val_acc: 0.9952\n",
            "Epoch 62/70\n",
            "148/147 [==============================] - 119s 807ms/step - loss: 0.0023 - acc: 0.9993 - val_loss: 0.0534 - val_acc: 0.9952\n",
            "Epoch 63/70\n",
            "148/147 [==============================] - 119s 807ms/step - loss: 0.0016 - acc: 0.9995 - val_loss: 0.0536 - val_acc: 0.9952\n",
            "Epoch 64/70\n",
            "148/147 [==============================] - 120s 807ms/step - loss: 0.0037 - acc: 0.9993 - val_loss: 0.0536 - val_acc: 0.9950\n",
            "\n",
            "Epoch 00064: ReduceLROnPlateau reducing learning rate to 1e-06.\n",
            "Epoch 65/70\n",
            "148/147 [==============================] - 119s 806ms/step - loss: 0.0037 - acc: 0.9993 - val_loss: 0.0535 - val_acc: 0.9950\n",
            "Epoch 66/70\n",
            "148/147 [==============================] - 119s 807ms/step - loss: 0.0027 - acc: 0.9992 - val_loss: 0.0533 - val_acc: 0.9952\n",
            "Epoch 67/70\n",
            "148/147 [==============================] - 119s 807ms/step - loss: 0.0021 - acc: 0.9994 - val_loss: 0.0535 - val_acc: 0.9952\n",
            "Epoch 68/70\n",
            "148/147 [==============================] - 119s 806ms/step - loss: 0.0027 - acc: 0.9994 - val_loss: 0.0538 - val_acc: 0.9952\n",
            "Epoch 69/70\n",
            "148/147 [==============================] - 119s 806ms/step - loss: 0.0037 - acc: 0.9994 - val_loss: 0.0534 - val_acc: 0.9952\n",
            "Epoch 70/70\n",
            "148/147 [==============================] - 119s 807ms/step - loss: 0.0034 - acc: 0.9993 - val_loss: 0.0530 - val_acc: 0.9952\n"
          ],
          "name": "stdout"
        }
      ]
    },
    {
      "metadata": {
        "id": "6VZ9bCI_ZhoG",
        "colab_type": "text"
      },
      "cell_type": "markdown",
      "source": [
        "<a id=\"13\"></a> <br>\n",
        "**7. Results**\n",
        "============================"
      ]
    },
    {
      "metadata": {
        "id": "L_xNlC7NtCRp",
        "colab_type": "code",
        "colab": {
          "base_uri": "https://localhost:8080/",
          "height": 735
        },
        "outputId": "9851d76f-e5f3-4332-d02b-9025dfa6a8c0"
      },
      "cell_type": "code",
      "source": [
        "# Plot training & validation accuracy values\n",
        "plt.plot(xception_history.history['acc'])\n",
        "plt.plot(xception_history.history['val_acc'])\n",
        "plt.title('Model accuracy')\n",
        "plt.ylabel('Accuracy')\n",
        "plt.xlabel('Epoch')\n",
        "plt.legend(['Train', 'Validation'], loc='upper left')\n",
        "plt.show()\n",
        "\n",
        "# Plot training & validation loss values\n",
        "plt.plot(xception_history.history['loss'])\n",
        "plt.plot(xception_history.history['val_loss'])\n",
        "plt.title('Model loss')\n",
        "plt.ylabel('Loss')\n",
        "plt.xlabel('Epoch')\n",
        "plt.legend(['Train', 'Validation'], loc='upper left')\n",
        "plt.show()"
      ],
      "execution_count": 14,
      "outputs": [
        {
          "output_type": "display_data",
          "data": {
            "image/png": "[encoded data removed]",
            "text/plain": [
              "<Figure size 576x396 with 1 Axes>"
            ]
          },
          "metadata": {
            "tags": []
          }
        },
        {
          "output_type": "display_data",
          "data": {
            "image/png": "[encoded data removed]",
            "text/plain": [
              "<Figure size 576x396 with 1 Axes>"
            ]
          },
          "metadata": {
            "tags": []
          }
        }
      ]
    },
    {
      "metadata": {
        "id": "-Q5Z8EBaQFuk",
        "colab_type": "text"
      },
      "cell_type": "markdown",
      "source": [
        "<a id=\"14\"></a> <br>\n",
        "*7.1. Store the history*\n",
        "-----------------------------\n"
      ]
    },
    {
      "metadata": {
        "id": "IR_QR261fUbW",
        "colab_type": "code",
        "colab": {}
      },
      "cell_type": "code",
      "source": [
        "with open(FOLDER_PATH+'xception_history.pkl', 'wb') as output:\n",
        "  pickle.dump(xception_history, output, pickle.HIGHEST_PROTOCOL)\n"
      ],
      "execution_count": 0,
      "outputs": []
    },
    {
      "metadata": {
        "colab_type": "text",
        "id": "acBTgQ8-a5e-"
      },
      "cell_type": "markdown",
      "source": [
        "<a id=\"14\"></a> <br>\n",
        "*7.2. Create output file*\n",
        "-----------------------------\n"
      ]
    },
    {
      "metadata": {
        "colab_type": "code",
        "id": "nhCb4WOIa5fA",
        "colab": {
          "base_uri": "https://localhost:8080/",
          "height": 34
        },
        "outputId": "0a1c5d34-03a7-4b49-da2e-8ee213fdf52c"
      },
      "cell_type": "code",
      "source": [
        "lenet_model = load_model(FOLDER_PATH+'xception_model.hdf5')\n",
        "output = np.array(lenet_model.predict(x_test))\n",
        "#from categorial to a number. [0,0,0,0,0,0,1,0,0,0]->6\n",
        "output = np.argmax(output,axis=1)\n",
        "print(output)\n",
        "np.savetxt(FOLDER_PATH+'xception_output.csv', output, delimiter=\",\",fmt='%d')\n"
      ],
      "execution_count": 31,
      "outputs": [
        {
          "output_type": "stream",
          "text": [
            "[2 0 9 ... 3 9 2]\n"
          ],
          "name": "stdout"
        }
      ]
    }
  ]
}