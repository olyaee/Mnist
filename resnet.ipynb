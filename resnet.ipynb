{
  "nbformat": 4,
  "nbformat_minor": 0,
  "metadata": {
    "colab": {
      "name": "resnet.ipynb",
      "version": "0.3.2",
      "provenance": [],
      "collapsed_sections": [],
      "include_colab_link": true
    },
    "kernelspec": {
      "name": "python3",
      "display_name": "Python 3"
    },
    "accelerator": "GPU"
  },
  "cells": [
    {
      "cell_type": "markdown",
      "metadata": {
        "id": "view-in-github",
        "colab_type": "text"
      },
      "source": [
        "<a href=\"https://colab.research.google.com/github/olyaee/Mnist/blob/master/resnet.ipynb\" target=\"_parent\"><img src=\"https://colab.research.google.com/assets/colab-badge.svg\" alt=\"Open In Colab\"/></a>"
      ]
    },
    {
      "metadata": {
        "id": "xvFrKLX2VQVW",
        "colab_type": "text"
      },
      "cell_type": "markdown",
      "source": [
        "* 1.  [Introduction](#1)\n",
        "    * 1.1. [Import Libraries](#2)\n",
        "* 2. [Load, Train and Test data](#3)\n",
        "    * 2.1. [Reshape input](#4)\n",
        "    * 2.2. [One Hot encoding of labels](#5)\n",
        "    * 2.3 [Data Visualization](#6)\n",
        "* 3. [Preprocessing the digit images](#7)\n",
        "    * 3.1. [Data Normalization](#8)\n",
        "* 4. [Create Models](#10)\n",
        "* 5. [Optimizer-Learning Rate-Data Augmentation](#11)\n",
        "* 6. [Compile Model](#12)\n",
        "* 7. [Results](#13)\n",
        "    * 7.1. [Store the history](#14)\n",
        "    * 7.2. [Create output file](#14)\n",
        "\n",
        "    "
      ]
    },
    {
      "metadata": {
        "id": "NZjOHRn4V-2a",
        "colab_type": "text"
      },
      "cell_type": "markdown",
      "source": [
        "<a id=\"1\"></a> <br>\n",
        "**1. Introduction**\n",
        "===============================\n"
      ]
    },
    {
      "metadata": {
        "id": "4KG6q4NxWQx2",
        "colab_type": "text"
      },
      "cell_type": "markdown",
      "source": [
        "<a id=\"2\"></a> <br>\n",
        "*1.1. Import Libraries*\n",
        "-----------------------------\n",
        "As the first step, we need to import needed libraries"
      ]
    },
    {
      "metadata": {
        "id": "iQl-FVRsWbjL",
        "colab_type": "code",
        "outputId": "1d129e8f-f9f0-46a7-a15b-04e023a83ea8",
        "colab": {
          "base_uri": "https://localhost:8080/",
          "height": 35
        }
      },
      "cell_type": "code",
      "source": [
        "import numpy as np # linear algebra\n",
        "import pandas as pd # data processing, CSV file I/O (e.g. pd.read_csv)\n",
        "import os\n",
        "import matplotlib.pyplot as plt\n",
        "import tensorflow as tf\n",
        "from sklearn.model_selection import train_test_split\n",
        "from keras import Input\n",
        "from keras.layers import Flatten, Dense, Conv2D, MaxPooling2D, ZeroPadding2D, BatchNormalization, average, GlobalAveragePooling2D\n",
        "from keras.layers import PReLU, add, AveragePooling2D, UpSampling3D, Dropout\n",
        "from keras.models import Model, load_model\n",
        "from keras.models import Sequential\n",
        "from keras.optimizers import RMSprop\n",
        "from keras.preprocessing.image import ImageDataGenerator\n",
        "from keras.callbacks import ReduceLROnPlateau, ModelCheckpoint\n",
        "from IPython.display import Image\n",
        "from keras.utils import plot_model\n",
        "from keras.utils.np_utils import to_categorical\n",
        "from keras.applications.inception_v3 import InceptionV3\n",
        "import pickle\n",
        "\n",
        "print(os.listdir(\"./\"))\n"
      ],
      "execution_count": 13,
      "outputs": [
        {
          "output_type": "stream",
          "text": [
            "['.config', 'drive', 'sample_data']\n"
          ],
          "name": "stdout"
        }
      ]
    },
    {
      "metadata": {
        "id": "V8tmrszIWhPm",
        "colab_type": "text"
      },
      "cell_type": "markdown",
      "source": [
        "<a id=\"3\"></a> <br>\n",
        "**2. Load, Train and Test data**\n",
        "============================\n",
        "In order to load the data we used pandas library.\n",
        "I have stored the data in my google drive. there are some othere ways to load data. For example you can directly import data from keras. \n",
        "Since we want to have the same train and validation data for every model we have done data sepration it in a seprate notebook and have stored the results as pickle file.\n",
        "For the code you can refer to this [LINK](https://github.com/olyaee/Mnist/blob/master/data_split.ipynb)\n"
      ]
    },
    {
      "metadata": {
        "id": "x7wUBjofWiiF",
        "colab_type": "code",
        "outputId": "bfb979b8-4c7c-4b3b-966b-d249b2884fba",
        "colab": {
          "base_uri": "https://localhost:8080/",
          "height": 35
        }
      },
      "cell_type": "code",
      "source": [
        "from google.colab import drive\n",
        "drive.mount('/content/drive')\n",
        "FOLDER_PATH = \"./drive/My Drive/Colab Notebooks/resnet/\"\n",
        "DATA_PATH = './drive/My Drive/Colab Notebooks/data/'"
      ],
      "execution_count": 4,
      "outputs": [
        {
          "output_type": "stream",
          "text": [
            "Drive already mounted at /content/drive; to attempt to forcibly remount, call drive.mount(\"/content/drive\", force_remount=True).\n"
          ],
          "name": "stdout"
        }
      ]
    },
    {
      "metadata": {
        "id": "OscjO3_iXCA9",
        "colab_type": "code",
        "outputId": "00e1f19b-f6f8-4a97-b757-768e3cb88fec",
        "colab": {
          "base_uri": "https://localhost:8080/",
          "height": 109
        }
      },
      "cell_type": "code",
      "source": [
        "with open(DATA_PATH+'x_train.pkl', 'rb') as input:\n",
        "  x_train = pickle.load(input)\n",
        "with open(DATA_PATH+'x_val.pkl', 'rb') as input:\n",
        "  x_val = pickle.load(input)\n",
        "with open(DATA_PATH+'y_train.pkl', 'rb') as input:\n",
        "  y_train = pickle.load(input)\n",
        "with open(DATA_PATH+'y_val.pkl', 'rb') as input:\n",
        "  y_val = pickle.load(input)\n",
        "with open(DATA_PATH+'x_test.pkl', 'rb') as input:\n",
        "  x_test = pickle.load(input)\n",
        "\n",
        "print('x_train',x_train.shape)\n",
        "print('x_val',x_val.shape)\n",
        "print('x_val',y_train.shape)\n",
        "print('y_val',y_val.shape)\n",
        "print('x_test',x_test.shape)\n"
      ],
      "execution_count": 5,
      "outputs": [
        {
          "output_type": "stream",
          "text": [
            "x_train (37800, 784)\n",
            "x_val (4200, 784)\n",
            "x_val (37800,)\n",
            "y_val (4200,)\n",
            "x_test (28000, 784)\n"
          ],
          "name": "stdout"
        }
      ]
    },
    {
      "metadata": {
        "id": "Qyl7lrNzX93e",
        "colab_type": "text"
      },
      "cell_type": "markdown",
      "source": [
        "<a id=\"4\"></a> <br>\n",
        "*2.1. Reshape input*\n",
        "-----------------------------"
      ]
    },
    {
      "metadata": {
        "id": "DTxYxFX0X9Ke",
        "colab_type": "code",
        "outputId": "aa3d4716-2363-43f6-be74-2dd909fe68ae",
        "colab": {
          "base_uri": "https://localhost:8080/",
          "height": 72
        }
      },
      "cell_type": "code",
      "source": [
        "x_train = x_train.reshape(x_train.shape[0], 28, 28,1)\n",
        "x_val = x_val.reshape(x_val.shape[0], 28, 28,1)\n",
        "print(x_train.shape)\n",
        "print(x_val.shape)\n",
        "x_test = x_test.reshape(x_test.shape[0], 28, 28,1)\n",
        "print(x_test.shape)"
      ],
      "execution_count": 6,
      "outputs": [
        {
          "output_type": "stream",
          "text": [
            "(37800, 28, 28, 1)\n",
            "(4200, 28, 28, 1)\n",
            "(28000, 28, 28, 1)\n"
          ],
          "name": "stdout"
        }
      ]
    },
    {
      "metadata": {
        "id": "Xqq5eWYhYIyb",
        "colab_type": "text"
      },
      "cell_type": "markdown",
      "source": [
        "<a id=\"5\"></a> <br>\n",
        "*2.2. One Hot encoding of labels*\n",
        "-----------------------------\n",
        "we have a number for each image but we need an array.\n",
        "2 has to be converted to [0, 0, 1, 0, 0 ,0 ,0 ,0 ,0 ,0] "
      ]
    },
    {
      "metadata": {
        "id": "F4vba8x9YIIL",
        "colab_type": "code",
        "outputId": "6f0c033e-58b4-492a-b4af-673e996a7066",
        "colab": {
          "base_uri": "https://localhost:8080/",
          "height": 35
        }
      },
      "cell_type": "code",
      "source": [
        "y_train= to_categorical(y_train)\n",
        "y_val= to_categorical(y_val)\n",
        "num_classes = y_train.shape[1]\n",
        "print(y_train.shape)"
      ],
      "execution_count": 7,
      "outputs": [
        {
          "output_type": "stream",
          "text": [
            "(37800, 10)\n"
          ],
          "name": "stdout"
        }
      ]
    },
    {
      "metadata": {
        "id": "6y_9IOUyYclL",
        "colab_type": "text"
      },
      "cell_type": "markdown",
      "source": [
        "<a id=\"6\"></a> <br>\n",
        "*2.3 Data Visualization*\n",
        "-----------------------------\n",
        "Lets look at 3 images from data set with their labels."
      ]
    },
    {
      "metadata": {
        "id": "MSnaweUkYb4S",
        "colab_type": "code",
        "outputId": "9d5f1815-c1ec-4978-9b9d-0e872dfa3ca8",
        "colab": {
          "base_uri": "https://localhost:8080/",
          "height": 188
        }
      },
      "cell_type": "code",
      "source": [
        "for i in range(6, 9):\n",
        "    plt.subplot(330 + (i+1))\n",
        "    plt.imshow(x_train[i].reshape(28, 28), cmap=plt.get_cmap('gray'))\n",
        "    plt.title(y_train[i]);"
      ],
      "execution_count": 8,
      "outputs": [
        {
          "output_type": "stream",
          "text": [
            "/usr/local/lib/python3.6/dist-packages/matplotlib/text.py:1191: FutureWarning: elementwise comparison failed; returning scalar instead, but in the future will perform elementwise comparison\n",
            "  if s != self._text:\n"
          ],
          "name": "stderr"
        },
        {
          "output_type": "display_data",
          "data": {
            "image/png": "[encoded data removed]",
            "text/plain": [
              "<Figure size 576x396 with 3 Axes>"
            ]
          },
          "metadata": {
            "tags": []
          }
        }
      ]
    },
    {
      "metadata": {
        "id": "1XEVvknWZXUo",
        "colab_type": "text"
      },
      "cell_type": "markdown",
      "source": [
        "<a id=\"7\"></a> <br>\n",
        "**3. Preprocessing the digit images**\n",
        "==================================\n"
      ]
    },
    {
      "metadata": {
        "id": "oJoVs6s0Zaqo",
        "colab_type": "text"
      },
      "cell_type": "markdown",
      "source": [
        "<a id=\"8\"></a> <br>\n",
        "*3.1. Data Normalization*\n",
        "-----------------------------\n"
      ]
    },
    {
      "metadata": {
        "id": "PqSMWKLZaIDG",
        "colab_type": "code",
        "colab": {}
      },
      "cell_type": "code",
      "source": [
        "# Normalize the data\n",
        "x_train = x_train / 255.0\n",
        "x_val = x_val / 255\n",
        "x_test = x_test / 255.0"
      ],
      "execution_count": 0,
      "outputs": []
    },
    {
      "metadata": {
        "id": "ZoW0W8StZhza",
        "colab_type": "text"
      },
      "cell_type": "markdown",
      "source": [
        "<a id=\"10\"></a> <br>\n",
        "**4. Create Model**\n",
        "============================"
      ]
    },
    {
      "metadata": {
        "id": "-gbCmIpeZhwx",
        "colab_type": "text"
      },
      "cell_type": "markdown",
      "source": [
        "The followin image is just for demonstration. for a detailed graph please look. at the saved image of the model. \n",
        "\n",
        "\n",
        "\n",
        "\n",
        "\n",
        "![](https://i.stack.imgur.com/ElFiI.png)"
      ]
    },
    {
      "metadata": {
        "id": "XFdT4GhEsl5p",
        "colab_type": "code",
        "colab": {}
      },
      "cell_type": "code",
      "source": [
        "def name_builder(type, stage, block, name):\n",
        "        return \"{}{}{}_branch{}\".format(type, stage, block, name)\n",
        "    \n",
        "def identity_block(input_tensor, kernel_size, filters, stage, block):\n",
        "    F1, F2, F3 = filters\n",
        "\n",
        "    def name_fn(type, name):\n",
        "        return name_builder(type, stage, block, name)\n",
        "\n",
        "    x = Conv2D(F1, (1, 1), name=name_fn('res', '2a'))(input_tensor)\n",
        "    x = BatchNormalization(name=name_fn('bn', '2a'))(x)\n",
        "    x = PReLU()(x)\n",
        "\n",
        "    x = Conv2D(F2, kernel_size, padding='same', name=name_fn('res', '2b'))(x)\n",
        "    x = BatchNormalization(name=name_fn('bn', '2b'))(x)\n",
        "    x = PReLU()(x)\n",
        "\n",
        "    x = Conv2D(F3, (1, 1), name=name_fn('res', '2c'))(x)\n",
        "    x = BatchNormalization(name=name_fn('bn', '2c'))(x)\n",
        "    x = PReLU()(x)\n",
        "\n",
        "    x = add([x, input_tensor])\n",
        "    x = PReLU()(x)\n",
        "\n",
        "    return x\n",
        "def conv_block(input_tensor, kernel_size, filters, stage, block, strides=(2, 2)):\n",
        "    def name_fn(type, name):\n",
        "        return name_builder(type, stage, block, name)\n",
        "\n",
        "    F1, F2, F3 = filters\n",
        "\n",
        "    x = Conv2D(F1, (1, 1), strides=strides, name=name_fn(\"res\", \"2a\"))(input_tensor)\n",
        "    x = BatchNormalization(name=name_fn(\"bn\", \"2a\"))(x)\n",
        "    x = PReLU()(x)\n",
        "\n",
        "    x = Conv2D(F2, kernel_size, padding='same', name=name_fn(\"res\", \"2b\"))(x)\n",
        "    x = BatchNormalization(name=name_fn(\"bn\", \"2b\"))(x)\n",
        "    x = PReLU()(x)\n",
        "\n",
        "    x = Conv2D(F3, (1, 1), name=name_fn(\"res\", \"2c\"))(x)\n",
        "    x = BatchNormalization(name=name_fn(\"bn\", \"2c\"))(x)\n",
        "\n",
        "    sc = Conv2D(F3, (1, 1), strides=strides, name=name_fn(\"res\", \"1\"))(input_tensor)\n",
        "    sc = BatchNormalization(name=name_fn(\"bn\", \"1\"))(sc)\n",
        "\n",
        "    x = add([x, sc])\n",
        "    x = PReLU()(x)\n",
        "\n",
        "    return x\n",
        "\n",
        "# Create a model\n",
        "resnet_input = Input(shape = (28,28,1), dtype='float32', name='m2input')\n",
        "\n",
        "net = ZeroPadding2D((3, 3))(resnet_input)\n",
        "net = Conv2D(64, (7, 7), strides=(2, 2), name=\"conv1\")(net)\n",
        "net = BatchNormalization(name=\"bn_conv1\")(net)\n",
        "net = PReLU()(net)\n",
        "net = MaxPooling2D((3, 3), strides=(2, 2))(net)\n",
        "\n",
        "net = conv_block(net, 3, [64, 64, 256], stage=2, block='a', strides=(1, 1))\n",
        "net = identity_block(net, 3, [64, 64, 256], stage=2, block='b')\n",
        "net = identity_block(net, 3, [64, 64, 256], stage=2, block='c')\n",
        "\n",
        "net = conv_block(net, 3, [128, 128, 512], stage=3, block='a')\n",
        "net = identity_block(net, 3, [128, 128, 512], stage=3, block='b')\n",
        "net = identity_block(net, 3, [128, 128, 512], stage=3, block='c')\n",
        "net = identity_block(net, 3, [128, 128, 512], stage=3, block='d')\n",
        "\n",
        "net = conv_block(net, 3, [256, 256, 1024], stage=4, block='a')\n",
        "net = identity_block(net, 3, [256, 256, 1024], stage=4, block='b')\n",
        "net = identity_block(net, 3, [256, 256, 1024], stage=4, block='c')\n",
        "net = identity_block(net, 3, [256, 256, 1024], stage=4, block='d')\n",
        "net = identity_block(net, 3, [256, 256, 1024], stage=4, block='e')\n",
        "net = identity_block(net, 3, [256, 256, 1024], stage=4, block='f')\n",
        "net = AveragePooling2D((2, 2))(net)\n",
        "\n",
        "net = Flatten()(net)\n",
        "prediction_resnet = Dense(10, activation=\"softmax\", name=\"softmax\")(net)"
      ],
      "execution_count": 0,
      "outputs": []
    },
    {
      "metadata": {
        "id": "cq0SNtjrZht8",
        "colab_type": "text"
      },
      "cell_type": "markdown",
      "source": [
        " <a id=\"11\"></a> <br>\n",
        "**5. Optimizer-Learning Rate-Data Augmentation**\n",
        "============================"
      ]
    },
    {
      "metadata": {
        "id": "koX1lFAZsu1i",
        "colab_type": "code",
        "colab": {}
      },
      "cell_type": "code",
      "source": [
        "# Define the optimizer\n",
        "optimizer = RMSprop(lr=0.001, rho=0.9, epsilon=1e-08, decay=0.0)"
      ],
      "execution_count": 0,
      "outputs": []
    },
    {
      "metadata": {
        "id": "CD8XuqxZsxC7",
        "colab_type": "code",
        "colab": {}
      },
      "cell_type": "code",
      "source": [
        "# Set a learning rate annealer\n",
        "learning_rate_reduction = ReduceLROnPlateau(monitor='val_acc', \n",
        "                                            patience=3, \n",
        "                                            verbose=1, \n",
        "                                            factor=0.005, \n",
        "                                            min_lr=0.00001)"
      ],
      "execution_count": 0,
      "outputs": []
    },
    {
      "metadata": {
        "id": "V-Wy1vM5szI5",
        "colab_type": "code",
        "colab": {}
      },
      "cell_type": "code",
      "source": [
        "# data augmentation\n",
        "datagen = ImageDataGenerator(\n",
        "        featurewise_center=False,  # set input mean to 0 over the dataset\n",
        "        samplewise_center=False,  # set each sample mean to 0\n",
        "        featurewise_std_normalization=False,  # divide inputs by std of the dataset\n",
        "        samplewise_std_normalization=False,  # divide each input by its std\n",
        "        zca_whitening=False,  # apply ZCA whitening\n",
        "        rotation_range=10,  # randomly rotate images in the range (degrees, 0 to 180)\n",
        "        zoom_range = 0.1, # Randomly zoom image \n",
        "        width_shift_range=0.1,  # randomly shift images horizontally (fraction of total width)\n",
        "        height_shift_range=0.1,  # randomly shift images vertically (fraction of total height)\n",
        "        horizontal_flip=False,  # randomly flip images\n",
        "        vertical_flip=False)  # randomly flip images\n",
        "datagen.fit(x_train)\n"
      ],
      "execution_count": 0,
      "outputs": []
    },
    {
      "metadata": {
        "id": "Udrl3IAsZhrB",
        "colab_type": "text"
      },
      "cell_type": "markdown",
      "source": [
        "<a id=\"12\"></a> <br>\n",
        "**6. Compile Model**\n",
        "============================"
      ]
    },
    {
      "metadata": {
        "id": "oyCJQs-xs5FA",
        "colab_type": "code",
        "outputId": "2ae11657-febd-4f62-ebb9-90868db4dd4f",
        "colab": {
          "base_uri": "https://localhost:8080/",
          "height": 1771
        }
      },
      "cell_type": "code",
      "source": [
        "# this is the model we will train\n",
        "resnet_model = Model(inputs=resnet_input, outputs=prediction_resnet)\n",
        "resnet_model.compile(optimizer = optimizer , loss = \"categorical_crossentropy\", metrics=[\"accuracy\"])\n",
        "\n",
        "#plot the model\n",
        "plot_model(resnet_model, to_file=FOLDER_PATH+'resnet_model.png')\n",
        "Image(filename=FOLDER_PATH+'resnet_model.png', width=200, height=200, unconfined=True)\n",
        "\n",
        "model_checkpoint = ModelCheckpoint(FOLDER_PATH+'resnet_model.hdf5', monitor='val_loss', verbose=0, save_best_only=True, save_weights_only=False, mode='auto', period=1)\n",
        "\n",
        "resnet_history = resnet_model.fit_generator(datagen.flow(x_train,y_train, batch_size=64),\n",
        "                                            validation_data=(x_val, y_val),\n",
        "                                            shuffle=True,\n",
        "                                            epochs=50, \n",
        "                                            steps_per_epoch=len(x_train) / 64,\n",
        "                                            callbacks=[learning_rate_reduction, model_checkpoint])"
      ],
      "execution_count": 0,
      "outputs": [
        {
          "output_type": "stream",
          "text": [
            "Epoch 1/50\n",
            "591/590 [==============================] - 255s 431ms/step - loss: 0.4785 - acc: 0.8811 - val_loss: 0.5839 - val_acc: 0.8976\n",
            "Epoch 2/50\n",
            "591/590 [==============================] - 181s 306ms/step - loss: 0.1451 - acc: 0.9615 - val_loss: 0.0669 - val_acc: 0.9802\n",
            "Epoch 3/50\n",
            "591/590 [==============================] - 198s 335ms/step - loss: 0.1231 - acc: 0.9716 - val_loss: 3.0336 - val_acc: 0.7474\n",
            "Epoch 4/50\n",
            "591/590 [==============================] - 222s 376ms/step - loss: 0.0946 - acc: 0.9755 - val_loss: 1.3964 - val_acc: 0.8840\n",
            "Epoch 5/50\n",
            "591/590 [==============================] - 228s 386ms/step - loss: 0.0661 - acc: 0.9808 - val_loss: 0.0596 - val_acc: 0.9855\n",
            "Epoch 6/50\n",
            "591/590 [==============================] - 234s 396ms/step - loss: 0.0581 - acc: 0.9833 - val_loss: 0.0659 - val_acc: 0.9871\n",
            "Epoch 7/50\n",
            "591/590 [==============================] - 233s 394ms/step - loss: 0.0547 - acc: 0.9846 - val_loss: 0.0486 - val_acc: 0.9850\n",
            "Epoch 8/50\n",
            "591/590 [==============================] - 232s 392ms/step - loss: 0.0506 - acc: 0.9855 - val_loss: 0.0440 - val_acc: 0.9876\n",
            "Epoch 9/50\n",
            "591/590 [==============================] - 227s 384ms/step - loss: 0.0447 - acc: 0.9870 - val_loss: 0.0337 - val_acc: 0.9900\n",
            "Epoch 10/50\n",
            "591/590 [==============================] - 232s 393ms/step - loss: 0.0445 - acc: 0.9868 - val_loss: 0.0461 - val_acc: 0.9874\n",
            "Epoch 11/50\n",
            "591/590 [==============================] - 233s 394ms/step - loss: 0.0437 - acc: 0.9883 - val_loss: 0.0371 - val_acc: 0.9917\n",
            "Epoch 12/50\n",
            "591/590 [==============================] - 234s 396ms/step - loss: 0.0392 - acc: 0.9892 - val_loss: 0.0301 - val_acc: 0.9905\n",
            "Epoch 13/50\n",
            "591/590 [==============================] - 232s 392ms/step - loss: 0.0380 - acc: 0.9886 - val_loss: 0.0377 - val_acc: 0.9902\n",
            "Epoch 14/50\n",
            "591/590 [==============================] - 234s 396ms/step - loss: 0.0336 - acc: 0.9900 - val_loss: 0.0409 - val_acc: 0.9876\n",
            "\n",
            "Epoch 00014: ReduceLROnPlateau reducing learning rate to 1e-05.\n",
            "Epoch 15/50\n",
            "591/590 [==============================] - 237s 400ms/step - loss: 0.0278 - acc: 0.9918 - val_loss: 0.0182 - val_acc: 0.9931\n",
            "Epoch 16/50\n",
            "591/590 [==============================] - 235s 398ms/step - loss: 0.0264 - acc: 0.9926 - val_loss: 0.0164 - val_acc: 0.9940\n",
            "Epoch 17/50\n",
            "591/590 [==============================] - 237s 402ms/step - loss: 0.0202 - acc: 0.9941 - val_loss: 0.0160 - val_acc: 0.9943\n",
            "Epoch 18/50\n",
            "591/590 [==============================] - 237s 401ms/step - loss: 0.0208 - acc: 0.9942 - val_loss: 0.0160 - val_acc: 0.9943\n",
            "Epoch 19/50\n",
            "591/590 [==============================] - 234s 396ms/step - loss: 0.0189 - acc: 0.9948 - val_loss: 0.0160 - val_acc: 0.9948\n",
            "Epoch 20/50\n",
            "591/590 [==============================] - 235s 398ms/step - loss: 0.0201 - acc: 0.9945 - val_loss: 0.0157 - val_acc: 0.9945\n",
            "Epoch 21/50\n",
            "591/590 [==============================] - 233s 394ms/step - loss: 0.0165 - acc: 0.9952 - val_loss: 0.0155 - val_acc: 0.9945\n",
            "Epoch 22/50\n",
            "591/590 [==============================] - 233s 393ms/step - loss: 0.0179 - acc: 0.9953 - val_loss: 0.0158 - val_acc: 0.9945\n",
            "Epoch 23/50\n",
            "591/590 [==============================] - 228s 385ms/step - loss: 0.0160 - acc: 0.9955 - val_loss: 0.0157 - val_acc: 0.9945\n",
            "Epoch 24/50\n",
            "591/590 [==============================] - 235s 397ms/step - loss: 0.0153 - acc: 0.9952 - val_loss: 0.0160 - val_acc: 0.9943\n",
            "Epoch 25/50\n",
            "591/590 [==============================] - 234s 395ms/step - loss: 0.0154 - acc: 0.9952 - val_loss: 0.0155 - val_acc: 0.9943\n",
            "Epoch 26/50\n",
            "591/590 [==============================] - 234s 395ms/step - loss: 0.0169 - acc: 0.9950 - val_loss: 0.0158 - val_acc: 0.9943\n",
            "Epoch 27/50\n",
            "591/590 [==============================] - 234s 396ms/step - loss: 0.0147 - acc: 0.9957 - val_loss: 0.0160 - val_acc: 0.9943\n",
            "Epoch 28/50\n",
            "591/590 [==============================] - 232s 393ms/step - loss: 0.0150 - acc: 0.9957 - val_loss: 0.0163 - val_acc: 0.9943\n",
            "Epoch 29/50\n",
            "591/590 [==============================] - 233s 395ms/step - loss: 0.0140 - acc: 0.9958 - val_loss: 0.0165 - val_acc: 0.9945\n",
            "Epoch 30/50\n",
            "591/590 [==============================] - 234s 396ms/step - loss: 0.0135 - acc: 0.9961 - val_loss: 0.0162 - val_acc: 0.9945\n",
            "Epoch 31/50\n",
            "591/590 [==============================] - 232s 393ms/step - loss: 0.0137 - acc: 0.9957 - val_loss: 0.0164 - val_acc: 0.9943\n",
            "Epoch 32/50\n",
            "591/590 [==============================] - 231s 392ms/step - loss: 0.0148 - acc: 0.9959 - val_loss: 0.0159 - val_acc: 0.9945\n",
            "Epoch 33/50\n",
            "591/590 [==============================] - 231s 391ms/step - loss: 0.0143 - acc: 0.9961 - val_loss: 0.0157 - val_acc: 0.9945\n",
            "Epoch 34/50\n",
            "591/590 [==============================] - 234s 397ms/step - loss: 0.0146 - acc: 0.9963 - val_loss: 0.0160 - val_acc: 0.9945\n",
            "Epoch 35/50\n",
            "591/590 [==============================] - 229s 387ms/step - loss: 0.0151 - acc: 0.9958 - val_loss: 0.0156 - val_acc: 0.9948\n",
            "Epoch 36/50\n",
            "591/590 [==============================] - 231s 391ms/step - loss: 0.0140 - acc: 0.9957 - val_loss: 0.0157 - val_acc: 0.9948\n",
            "Epoch 37/50\n",
            "591/590 [==============================] - 229s 387ms/step - loss: 0.0139 - acc: 0.9960 - val_loss: 0.0156 - val_acc: 0.9948\n",
            "Epoch 38/50\n",
            "591/590 [==============================] - 227s 383ms/step - loss: 0.0132 - acc: 0.9960 - val_loss: 0.0153 - val_acc: 0.9945\n",
            "Epoch 39/50\n",
            "591/590 [==============================] - 227s 384ms/step - loss: 0.0142 - acc: 0.9960 - val_loss: 0.0155 - val_acc: 0.9948\n",
            "Epoch 40/50\n",
            "591/590 [==============================] - 230s 389ms/step - loss: 0.0136 - acc: 0.9961 - val_loss: 0.0154 - val_acc: 0.9948\n",
            "Epoch 41/50\n",
            "591/590 [==============================] - 233s 394ms/step - loss: 0.0126 - acc: 0.9964 - val_loss: 0.0151 - val_acc: 0.9945\n",
            "Epoch 42/50\n",
            "591/590 [==============================] - 232s 392ms/step - loss: 0.0124 - acc: 0.9962 - val_loss: 0.0156 - val_acc: 0.9948\n",
            "Epoch 43/50\n",
            "591/590 [==============================] - 230s 389ms/step - loss: 0.0115 - acc: 0.9965 - val_loss: 0.0154 - val_acc: 0.9945\n",
            "Epoch 44/50\n",
            "591/590 [==============================] - 231s 391ms/step - loss: 0.0127 - acc: 0.9964 - val_loss: 0.0157 - val_acc: 0.9945\n",
            "Epoch 45/50\n",
            "591/590 [==============================] - 231s 391ms/step - loss: 0.0150 - acc: 0.9960 - val_loss: 0.0156 - val_acc: 0.9945\n",
            "Epoch 46/50\n",
            "591/590 [==============================] - 231s 390ms/step - loss: 0.0112 - acc: 0.9968 - val_loss: 0.0161 - val_acc: 0.9945\n",
            "Epoch 47/50\n",
            "591/590 [==============================] - 233s 393ms/step - loss: 0.0124 - acc: 0.9966 - val_loss: 0.0160 - val_acc: 0.9948\n",
            "Epoch 48/50\n",
            "591/590 [==============================] - 231s 391ms/step - loss: 0.0136 - acc: 0.9963 - val_loss: 0.0156 - val_acc: 0.9945\n",
            "Epoch 49/50\n",
            "591/590 [==============================] - 231s 390ms/step - loss: 0.0112 - acc: 0.9965 - val_loss: 0.0157 - val_acc: 0.9948\n",
            "Epoch 50/50\n",
            "591/590 [==============================] - 231s 392ms/step - loss: 0.0104 - acc: 0.9970 - val_loss: 0.0157 - val_acc: 0.9948\n"
          ],
          "name": "stdout"
        }
      ]
    },
    {
      "metadata": {
        "id": "6VZ9bCI_ZhoG",
        "colab_type": "text"
      },
      "cell_type": "markdown",
      "source": [
        "<a id=\"13\"></a> <br>\n",
        "**7. Results**\n",
        "============================"
      ]
    },
    {
      "metadata": {
        "id": "L_xNlC7NtCRp",
        "colab_type": "code",
        "outputId": "04f8fffa-d9d3-4add-a262-1941e82ac862",
        "colab": {
          "base_uri": "https://localhost:8080/",
          "height": 735
        }
      },
      "cell_type": "code",
      "source": [
        "# Plot training & validation accuracy values\n",
        "plt.plot(resnet_history.history['acc'])\n",
        "plt.plot(resnet_history.history['val_acc'])\n",
        "plt.title('Model accuracy')\n",
        "plt.ylabel('Accuracy')\n",
        "plt.xlabel('Epoch')\n",
        "plt.legend(['Train', 'Validation'], loc='upper left')\n",
        "plt.show()\n",
        "\n",
        "# Plot training & validation loss values\n",
        "plt.plot(resnet_history.history['loss'])\n",
        "plt.plot(resnet_history.history['val_loss'])\n",
        "plt.title('Model loss')\n",
        "plt.ylabel('Loss')\n",
        "plt.xlabel('Epoch')\n",
        "plt.legend(['Train', 'Validation'], loc='upper left')\n",
        "plt.show()"
      ],
      "execution_count": 0,
      "outputs": [
        {
          "output_type": "display_data",
          "data": {
            "image/png": "[encoded data removed]",
            "text/plain": [
              "<Figure size 576x396 with 1 Axes>"
            ]
          },
          "metadata": {
            "tags": []
          }
        },
        {
          "output_type": "display_data",
          "data": {
            "image/png": "[encoded data removed]",
            "text/plain": [
              "<Figure size 576x396 with 1 Axes>"
            ]
          },
          "metadata": {
            "tags": []
          }
        }
      ]
    },
    {
      "metadata": {
        "id": "-Q5Z8EBaQFuk",
        "colab_type": "text"
      },
      "cell_type": "markdown",
      "source": [
        "<a id=\"14\"></a> <br>\n",
        "*7.1. Store the history*\n",
        "-----------------------------\n"
      ]
    },
    {
      "metadata": {
        "id": "IR_QR261fUbW",
        "colab_type": "code",
        "colab": {}
      },
      "cell_type": "code",
      "source": [
        "with open(FOLDER_PATH+'resnet_history.pkl', 'wb') as output:\n",
        "  pickle.dump(resnet_history, output, pickle.HIGHEST_PROTOCOL)\n"
      ],
      "execution_count": 0,
      "outputs": []
    },
    {
      "metadata": {
        "id": "kjgZcU4uBOGd",
        "colab_type": "text"
      },
      "cell_type": "markdown",
      "source": [
        "<a id=\"14\"></a> <br>\n",
        "*7.2. Create output file*\n",
        "-----------------------------\n"
      ]
    },
    {
      "metadata": {
        "id": "RiROj-RSBSQy",
        "colab_type": "code",
        "outputId": "9d86eb46-6815-4400-b387-202d33967eda",
        "colab": {
          "base_uri": "https://localhost:8080/",
          "height": 35
        }
      },
      "cell_type": "code",
      "source": [
        "lenet_model = load_model(FOLDER_PATH+'resnet_model.hdf5')\n",
        "output = np.array(lenet_model.predict(x_test))\n",
        "#from categorial to a number. [0,0,0,0,0,0,1,0,0,0]->6\n",
        "output = np.argmax(output,axis=1)\n",
        "print(output)\n",
        "np.savetxt(FOLDER_PATH+'resnet_output.csv', output, delimiter=\",\",fmt='%d')\n"
      ],
      "execution_count": 11,
      "outputs": [
        {
          "output_type": "stream",
          "text": [
            "[2 0 9 ... 3 9 2]\n"
          ],
          "name": "stdout"
        }
      ]
    }
  ]
}