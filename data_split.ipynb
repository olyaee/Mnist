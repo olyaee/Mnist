{
  "nbformat": 4,
  "nbformat_minor": 0,
  "metadata": {
    "colab": {
      "name": "data_split.ipynb",
      "version": "0.3.2",
      "provenance": [],
      "include_colab_link": true
    },
    "kernelspec": {
      "name": "python3",
      "display_name": "Python 3"
    }
  },
  "cells": [
    {
      "cell_type": "markdown",
      "metadata": {
        "id": "view-in-github",
        "colab_type": "text"
      },
      "source": [
        "<a href=\"https://colab.research.google.com/github/olyaee/Mnist/blob/master/data_split.ipynb\" target=\"_parent\"><img src=\"https://colab.research.google.com/assets/colab-badge.svg\" alt=\"Open In Colab\"/></a>"
      ]
    },
    {
      "metadata": {
        "id": "54mgQh3XfWXH",
        "colab_type": "code",
        "colab": {}
      },
      "cell_type": "code",
      "source": [
        "import pandas as pd # data processing, CSV file I/O (e.g. pd.read_csv)\n",
        "from keras.utils.np_utils import to_categorical\n",
        "from sklearn.model_selection import train_test_split\n",
        "import pickle"
      ],
      "execution_count": 0,
      "outputs": []
    },
    {
      "metadata": {
        "id": "wFh2nBqBiZyn",
        "colab_type": "text"
      },
      "cell_type": "markdown",
      "source": [
        "**Spliting the training data**\n",
        "===============================\n",
        "Here we split train data to train and validation data. \n",
        "Since we want to have the same train and validation data for every model we do it in a seprate notebook and store the results as pickle file. "
      ]
    },
    {
      "metadata": {
        "id": "CBecMRJefJ0M",
        "colab_type": "code",
        "colab": {
          "base_uri": "https://localhost:8080/",
          "height": 54
        },
        "outputId": "b98cff76-b53a-4bde-92f5-b962a9894031"
      },
      "cell_type": "code",
      "source": [
        "from google.colab import drive\n",
        "drive.mount('/content/drive')"
      ],
      "execution_count": 40,
      "outputs": [
        {
          "output_type": "stream",
          "text": [
            "Drive already mounted at /content/drive; to attempt to forcibly remount, call drive.mount(\"/content/drive\", force_remount=True).\n"
          ],
          "name": "stdout"
        }
      ]
    },
    {
      "metadata": {
        "id": "FeDWPrHOfbH_",
        "colab_type": "code",
        "colab": {}
      },
      "cell_type": "code",
      "source": [
        "#read the data using pandas library\n",
        "train = pd.read_csv(\"./drive/My Drive/Colab Notebooks/Data/train.csv\")"
      ],
      "execution_count": 0,
      "outputs": []
    },
    {
      "metadata": {
        "id": "KB6JNphzfkvJ",
        "colab_type": "code",
        "colab": {}
      },
      "cell_type": "code",
      "source": [
        "x_train = (train.iloc[:,1:].values).astype('float32') # all pixel values\n",
        "y_train = (train.iloc[:,0].values).astype('int32') # only labels i.e targets digits"
      ],
      "execution_count": 0,
      "outputs": []
    },
    {
      "metadata": {
        "id": "kIFoNDx4fyIl",
        "colab_type": "code",
        "colab": {}
      },
      "cell_type": "code",
      "source": [
        "# Set the random seed\n",
        "random_seed = 2\n",
        "# Split the train and the validation set for the fitting\n",
        "x_train, x_val, y_train, y_val = train_test_split(x_train, y_train, test_size = 0.1, random_state=random_seed)"
      ],
      "execution_count": 0,
      "outputs": []
    },
    {
      "metadata": {
        "id": "nI0ryWYzf04v",
        "colab_type": "code",
        "colab": {}
      },
      "cell_type": "code",
      "source": [
        "with open('./drive/My Drive/Colab Notebooks/Data/x_train.pkl', 'wb') as output:\n",
        "  pickle.dump(x_train, output, pickle.HIGHEST_PROTOCOL)\n",
        "\n",
        "with open('./drive/My Drive/Colab Notebooks/Data/x_val.pkl', 'wb') as output:\n",
        "  pickle.dump(x_val, output, pickle.HIGHEST_PROTOCOL)\n",
        "\n",
        "with open('./drive/My Drive/Colab Notebooks/Data/y_train.pkl', 'wb') as output:\n",
        "  pickle.dump(y_train, output, pickle.HIGHEST_PROTOCOL)\n",
        "  \n",
        "with open('./drive/My Drive/Colab Notebooks/Data/y_val.pkl', 'wb') as output:\n",
        "  pickle.dump(y_val, output, pickle.HIGHEST_PROTOCOL)\n"
      ],
      "execution_count": 0,
      "outputs": []
    }
  ]
}