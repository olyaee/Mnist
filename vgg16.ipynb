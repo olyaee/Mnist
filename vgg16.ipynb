{
  "nbformat": 4,
  "nbformat_minor": 0,
  "metadata": {
    "colab": {
      "name": "vgg16.ipynb",
      "version": "0.3.2",
      "provenance": [],
      "collapsed_sections": [],
      "include_colab_link": true
    },
    "kernelspec": {
      "name": "python3",
      "display_name": "Python 3"
    },
    "accelerator": "GPU"
  },
  "cells": [
    {
      "cell_type": "markdown",
      "metadata": {
        "id": "view-in-github",
        "colab_type": "text"
      },
      "source": [
        "<a href=\"https://colab.research.google.com/github/olyaee/Mnist/blob/master/vgg16.ipynb\" target=\"_parent\"><img src=\"https://colab.research.google.com/assets/colab-badge.svg\" alt=\"Open In Colab\"/></a>"
      ]
    },
    {
      "metadata": {
        "id": "xvFrKLX2VQVW",
        "colab_type": "text"
      },
      "cell_type": "markdown",
      "source": [
        "* 1.  [Introduction](#1)\n",
        "    * 1.1. [Import Libraries](#2)\n",
        "* 2. [Load, Train and Test data](#3)\n",
        "    * 2.1. [Reshape input](#4)\n",
        "    * 2.2. [One Hot encoding of labels](#5)\n",
        "    * 2.3 [Data Visualization](#6)\n",
        "* 3. [Preprocessing the digit images](#7)\n",
        "    * 3.1. [Data Normalization](#8)\n",
        "* 4. [Create Models](#10)\n",
        "* 5. [Optimizer-Learning Rate-Data Augmentation](#11)\n",
        "* 6. [Compile Model](#12)\n",
        "* 7. [Results](#13)\n",
        "    * 7.1. [Store the history](#14)\n",
        "    * 7.2. [Create output file](#14)\n",
        "\n",
        "    "
      ]
    },
    {
      "metadata": {
        "id": "NZjOHRn4V-2a",
        "colab_type": "text"
      },
      "cell_type": "markdown",
      "source": [
        "<a id=\"1\"></a> <br>\n",
        "**1. Introduction**\n",
        "===============================\n"
      ]
    },
    {
      "metadata": {
        "id": "4KG6q4NxWQx2",
        "colab_type": "text"
      },
      "cell_type": "markdown",
      "source": [
        "<a id=\"2\"></a> <br>\n",
        "*1.1. Import Libraries*\n",
        "-----------------------------\n",
        "As the first step, we need to import needed libraries"
      ]
    },
    {
      "metadata": {
        "id": "iQl-FVRsWbjL",
        "colab_type": "code",
        "outputId": "072a6ac8-32bf-475b-8ea8-55e2ae3c8336",
        "colab": {
          "base_uri": "https://localhost:8080/",
          "height": 51
        }
      },
      "cell_type": "code",
      "source": [
        "import numpy as np # linear algebra\n",
        "import pandas as pd # data processing, CSV file I/O (e.g. pd.read_csv)\n",
        "import os\n",
        "import matplotlib.pyplot as plt\n",
        "import tensorflow as tf\n",
        "from sklearn.model_selection import train_test_split\n",
        "from keras import Input\n",
        "from keras.layers import Flatten, Dense, Conv2D, MaxPooling2D, ZeroPadding2D, BatchNormalization, average, GlobalAveragePooling2D\n",
        "from keras.layers import PReLU, add, AveragePooling2D, UpSampling3D, Dropout, Activation\n",
        "from keras.models import Model, load_model\n",
        "from keras.models import Sequential\n",
        "from keras.optimizers import RMSprop\n",
        "from keras.preprocessing.image import ImageDataGenerator\n",
        "from keras.callbacks import ReduceLROnPlateau, ModelCheckpoint\n",
        "from IPython.display import Image\n",
        "from keras.utils import plot_model\n",
        "from keras.utils.np_utils import to_categorical\n",
        "from keras.applications.inception_v3 import InceptionV3\n",
        "import pickle\n",
        "\n",
        "print(os.listdir(\"./\"))\n"
      ],
      "execution_count": 3,
      "outputs": [
        {
          "output_type": "stream",
          "text": [
            "['.config', 'drive', 'sample_data']\n"
          ],
          "name": "stdout"
        },
        {
          "output_type": "stream",
          "text": [
            "Using TensorFlow backend.\n"
          ],
          "name": "stderr"
        }
      ]
    },
    {
      "metadata": {
        "id": "V8tmrszIWhPm",
        "colab_type": "text"
      },
      "cell_type": "markdown",
      "source": [
        "<a id=\"3\"></a> <br>\n",
        "**2. Load, Train and Test data**\n",
        "============================\n",
        "In order to load the data we used pandas library.\n",
        "I have stored the data in my google drive. there are some othere ways to load data. For example you can directly import data from keras. \n",
        "Since we want to have the same train and validation data for every model we have done data sepration it in a seprate notebook and have stored the results as pickle file.\n",
        "For the code you can refer to this [LINK](https://github.com/olyaee/Mnist/blob/master/data_split.ipynb)\n"
      ]
    },
    {
      "metadata": {
        "id": "x7wUBjofWiiF",
        "colab_type": "code",
        "outputId": "9c7d299e-b7ab-4a0d-a240-436ea3ff9636",
        "colab": {
          "base_uri": "https://localhost:8080/",
          "height": 34
        }
      },
      "cell_type": "code",
      "source": [
        "from google.colab import drive\n",
        "drive.mount('/content/drive')\n",
        "FOLDER_PATH = \"./drive/My Drive/Colab Notebooks/vgg16/\"\n",
        "DATA_PATH = './drive/My Drive/Colab Notebooks/data/'"
      ],
      "execution_count": 4,
      "outputs": [
        {
          "output_type": "stream",
          "text": [
            "Drive already mounted at /content/drive; to attempt to forcibly remount, call drive.mount(\"/content/drive\", force_remount=True).\n"
          ],
          "name": "stdout"
        }
      ]
    },
    {
      "metadata": {
        "id": "OscjO3_iXCA9",
        "colab_type": "code",
        "outputId": "8f55f2c4-fe4c-4b7a-fe49-1dd640d79239",
        "colab": {
          "base_uri": "https://localhost:8080/",
          "height": 102
        }
      },
      "cell_type": "code",
      "source": [
        "with open(DATA_PATH+'x_train.pkl', 'rb') as input:\n",
        "  x_train = pickle.load(input)\n",
        "with open(DATA_PATH+'x_val.pkl', 'rb') as input:\n",
        "  x_val = pickle.load(input)\n",
        "with open(DATA_PATH+'y_train.pkl', 'rb') as input:\n",
        "  y_train = pickle.load(input)\n",
        "with open(DATA_PATH+'y_val.pkl', 'rb') as input:\n",
        "  y_val = pickle.load(input)\n",
        "with open(DATA_PATH+'x_test.pkl', 'rb') as input:\n",
        "  x_test = pickle.load(input)\n",
        "\n",
        "print('x_train',x_train.shape)\n",
        "print('x_val',x_val.shape)\n",
        "print('x_val',y_train.shape)\n",
        "print('y_val',y_val.shape)\n",
        "print('x_test',x_test.shape)\n"
      ],
      "execution_count": 5,
      "outputs": [
        {
          "output_type": "stream",
          "text": [
            "x_train (37800, 784)\n",
            "x_val (4200, 784)\n",
            "x_val (37800,)\n",
            "y_val (4200,)\n",
            "x_test (28000, 784)\n"
          ],
          "name": "stdout"
        }
      ]
    },
    {
      "metadata": {
        "id": "Qyl7lrNzX93e",
        "colab_type": "text"
      },
      "cell_type": "markdown",
      "source": [
        "<a id=\"4\"></a> <br>\n",
        "*2.1. Reshape input*\n",
        "-----------------------------"
      ]
    },
    {
      "metadata": {
        "id": "DTxYxFX0X9Ke",
        "colab_type": "code",
        "outputId": "53e335a3-5ce9-4644-d430-b38d631a511a",
        "colab": {
          "base_uri": "https://localhost:8080/",
          "height": 68
        }
      },
      "cell_type": "code",
      "source": [
        "x_train = x_train.reshape(x_train.shape[0], 28, 28,1)\n",
        "x_val = x_val.reshape(x_val.shape[0], 28, 28,1)\n",
        "print(x_train.shape)\n",
        "print(x_val.shape)\n",
        "x_test = x_test.reshape(x_test.shape[0], 28, 28,1)\n",
        "print(x_test.shape)"
      ],
      "execution_count": 6,
      "outputs": [
        {
          "output_type": "stream",
          "text": [
            "(37800, 28, 28, 1)\n",
            "(4200, 28, 28, 1)\n",
            "(28000, 28, 28, 1)\n"
          ],
          "name": "stdout"
        }
      ]
    },
    {
      "metadata": {
        "id": "Xqq5eWYhYIyb",
        "colab_type": "text"
      },
      "cell_type": "markdown",
      "source": [
        "<a id=\"5\"></a> <br>\n",
        "*2.2. One Hot encoding of labels*\n",
        "-----------------------------\n",
        "we have a number for each image but we need an array.\n",
        "2 has to be converted to [0, 0, 1, 0, 0 ,0 ,0 ,0 ,0 ,0] "
      ]
    },
    {
      "metadata": {
        "id": "F4vba8x9YIIL",
        "colab_type": "code",
        "outputId": "a52708ac-4434-444b-cc97-2d218f6d2de4",
        "colab": {
          "base_uri": "https://localhost:8080/",
          "height": 34
        }
      },
      "cell_type": "code",
      "source": [
        "y_train= to_categorical(y_train)\n",
        "y_val= to_categorical(y_val)\n",
        "num_classes = y_train.shape[1]\n",
        "print(y_train.shape)"
      ],
      "execution_count": 7,
      "outputs": [
        {
          "output_type": "stream",
          "text": [
            "(37800, 10)\n"
          ],
          "name": "stdout"
        }
      ]
    },
    {
      "metadata": {
        "id": "6y_9IOUyYclL",
        "colab_type": "text"
      },
      "cell_type": "markdown",
      "source": [
        "<a id=\"6\"></a> <br>\n",
        "*2.3 Data Visualization*\n",
        "-----------------------------\n",
        "Lets look at 3 images from data set with their labels."
      ]
    },
    {
      "metadata": {
        "id": "MSnaweUkYb4S",
        "colab_type": "code",
        "outputId": "962d2146-4860-4346-b0ca-e2c89e10281b",
        "colab": {
          "base_uri": "https://localhost:8080/",
          "height": 205
        }
      },
      "cell_type": "code",
      "source": [
        "for i in range(6, 9):\n",
        "    plt.subplot(330 + (i+1))\n",
        "    plt.imshow(x_train[i].reshape(28, 28), cmap=plt.get_cmap('gray'))\n",
        "    plt.title(y_train[i]);"
      ],
      "execution_count": 8,
      "outputs": [
        {
          "output_type": "stream",
          "text": [
            "/usr/local/lib/python3.6/dist-packages/matplotlib/text.py:1191: FutureWarning: elementwise comparison failed; returning scalar instead, but in the future will perform elementwise comparison\n",
            "  if s != self._text:\n"
          ],
          "name": "stderr"
        },
        {
          "output_type": "display_data",
          "data": {
            "image/png": "[encoded data removed]",
            "text/plain": [
              "<Figure size 576x396 with 3 Axes>"
            ]
          },
          "metadata": {
            "tags": []
          }
        }
      ]
    },
    {
      "metadata": {
        "id": "1XEVvknWZXUo",
        "colab_type": "text"
      },
      "cell_type": "markdown",
      "source": [
        "<a id=\"7\"></a> <br>\n",
        "**3. Preprocessing the digit images**\n",
        "==================================\n"
      ]
    },
    {
      "metadata": {
        "id": "oJoVs6s0Zaqo",
        "colab_type": "text"
      },
      "cell_type": "markdown",
      "source": [
        "<a id=\"8\"></a> <br>\n",
        "*3.1. Data Normalization*\n",
        "-----------------------------\n"
      ]
    },
    {
      "metadata": {
        "id": "PqSMWKLZaIDG",
        "colab_type": "code",
        "colab": {}
      },
      "cell_type": "code",
      "source": [
        "# Normalize the data\n",
        "x_train = x_train / 255.0\n",
        "x_val = x_val / 255\n",
        "x_test = x_test / 255.0"
      ],
      "execution_count": 0,
      "outputs": []
    },
    {
      "metadata": {
        "id": "ZoW0W8StZhza",
        "colab_type": "text"
      },
      "cell_type": "markdown",
      "source": [
        "<a id=\"10\"></a> <br>\n",
        "**4. Create Model**\n",
        "============================"
      ]
    },
    {
      "metadata": {
        "id": "-gbCmIpeZhwx",
        "colab_type": "text"
      },
      "cell_type": "markdown",
      "source": [
        "The followin image is just for demonstration. for a detailed graph please look. at the saved image of the model. \n",
        "\n",
        "\n",
        "\n",
        "\n",
        "\n",
        "![](https://www.researchgate.net/profile/Saikat_Roy9/publication/322787849/figure/fig1/AS:588338117488642@1517282146532/VGG16-Architecture-with-Softmax-layer-replaced-used-as-the-base-model-for-each-classifier.png)"
      ]
    },
    {
      "metadata": {
        "id": "LlqtcqQ1o1eA",
        "colab_type": "code",
        "colab": {}
      },
      "cell_type": "code",
      "source": [
        "def two_conv_pool(x, F1, F2, name):\n",
        "    x = Conv2D(F1, (3, 3), activation=None, padding='same', name='{}_conv1'.format(name))(x)\n",
        "    x = BatchNormalization()(x)\n",
        "    x = Activation('relu')(x)\n",
        "    x = Conv2D(F2, (3, 3), activation=None, padding='same', name='{}_conv2'.format(name))(x)\n",
        "    x = BatchNormalization()(x)\n",
        "    x = Activation('relu')(x)\n",
        "    x = MaxPooling2D((2, 2), strides=(2, 2), name='{}_pool'.format(name))(x)\n",
        "\n",
        "    return x\n",
        "\n",
        "def three_conv_pool(x, F1, F2, F3, name):\n",
        "    x = Conv2D(F1, (3, 3), activation=None, padding='same', name='{}_conv1'.format(name))(x)\n",
        "    x = BatchNormalization()(x)\n",
        "    x = Activation('relu')(x)\n",
        "    x = Conv2D(F2, (3, 3), activation=None, padding='same', name='{}_conv2'.format(name))(x)\n",
        "    x = BatchNormalization()(x)\n",
        "    x = Activation('relu')(x)\n",
        "    x = Conv2D(F3, (3, 3), activation=None, padding='same', name='{}_conv3'.format(name))(x)\n",
        "    x = BatchNormalization()(x)\n",
        "    x = Activation('relu')(x)\n",
        "    x = MaxPooling2D((2, 2), strides=(2, 2), name='{}_pool'.format(name))(x)\n",
        "\n",
        "    return x\n",
        "\n",
        "vgg16_input = Input(shape = (28,28,1), dtype='float32', name='m2input')\n",
        "\n",
        "net = two_conv_pool(vgg16_input, 64, 64, \"block1\")\n",
        "net = two_conv_pool(net, 128, 128, \"block2\")\n",
        "net = three_conv_pool(net, 256, 256, 256, \"block3\")\n",
        "net = three_conv_pool(net, 512, 512, 512, \"block4\")\n",
        "\n",
        "net = Flatten()(net)\n",
        "net = Dense(512, activation='relu', name='fc')(net)\n",
        "prediction_vgg16 = Dense(10, activation='softmax', name='predictions')(net)"
      ],
      "execution_count": 0,
      "outputs": []
    },
    {
      "metadata": {
        "id": "cq0SNtjrZht8",
        "colab_type": "text"
      },
      "cell_type": "markdown",
      "source": [
        " <a id=\"11\"></a> <br>\n",
        "**5. Optimizer-Learning Rate-Data Augmentation**\n",
        "============================"
      ]
    },
    {
      "metadata": {
        "id": "koX1lFAZsu1i",
        "colab_type": "code",
        "colab": {}
      },
      "cell_type": "code",
      "source": [
        "# Define the optimizer\n",
        "optimizer = RMSprop(lr=0.01, rho=0.9, epsilon=1e-08, decay=0.0)"
      ],
      "execution_count": 0,
      "outputs": []
    },
    {
      "metadata": {
        "id": "CD8XuqxZsxC7",
        "colab_type": "code",
        "colab": {}
      },
      "cell_type": "code",
      "source": [
        "# Set a learning rate annealer\n",
        "learning_rate_reduction = ReduceLROnPlateau(monitor='val_acc', \n",
        "                                            patience=5, \n",
        "                                            verbose=1, \n",
        "                                            factor=0.5, \n",
        "                                            min_lr=0.000001)"
      ],
      "execution_count": 0,
      "outputs": []
    },
    {
      "metadata": {
        "id": "V-Wy1vM5szI5",
        "colab_type": "code",
        "colab": {}
      },
      "cell_type": "code",
      "source": [
        "# data augmentation\n",
        "datagen = ImageDataGenerator(\n",
        "        featurewise_center=False,  # set input mean to 0 over the dataset\n",
        "        samplewise_center=False,  # set each sample mean to 0\n",
        "        featurewise_std_normalization=False,  # divide inputs by std of the dataset\n",
        "        samplewise_std_normalization=False,  # divide each input by its std\n",
        "        zca_whitening=False,  # apply ZCA whitening\n",
        "        rotation_range=10,  # randomly rotate images in the range (degrees, 0 to 180)\n",
        "        zoom_range = 0.1, # Randomly zoom image \n",
        "        width_shift_range=0.1,  # randomly shift images horizontally (fraction of total width)\n",
        "        height_shift_range=0.1,  # randomly shift images vertically (fraction of total height)\n",
        "        horizontal_flip=False,  # randomly flip images\n",
        "        vertical_flip=False)  # randomly flip images\n",
        "datagen.fit(x_train)\n"
      ],
      "execution_count": 0,
      "outputs": []
    },
    {
      "metadata": {
        "id": "Udrl3IAsZhrB",
        "colab_type": "text"
      },
      "cell_type": "markdown",
      "source": [
        "<a id=\"12\"></a> <br>\n",
        "**6. Compile Model**\n",
        "============================"
      ]
    },
    {
      "metadata": {
        "id": "oyCJQs-xs5FA",
        "colab_type": "code",
        "outputId": "57aebef5-ede6-4635-ecb4-c506d1a50fca",
        "colab": {
          "base_uri": "https://localhost:8080/",
          "height": 2771
        }
      },
      "cell_type": "code",
      "source": [
        "# this is the model we will train\n",
        "vgg16_model = Model(inputs=vgg16_input, outputs=prediction_vgg16)\n",
        "vgg16_model.compile(optimizer = optimizer , loss = \"categorical_crossentropy\", metrics=[\"accuracy\"])\n",
        "\n",
        "#plot the model\n",
        "plot_model(vgg16_model, to_file=FOLDER_PATH+'vgg16_model.png')\n",
        "Image(filename=FOLDER_PATH+'vgg16_model.png', width=200, height=200, unconfined=True)\n",
        "\n",
        "model_checkpoint = ModelCheckpoint(FOLDER_PATH+'vgg16_model.hdf5', monitor='val_loss', verbose=0, save_best_only=True, save_weights_only=False, mode='auto', period=1)\n",
        "\n",
        "vgg16_history = vgg16_model.fit_generator(datagen.flow(x_train,y_train, batch_size=256),\n",
        "                                            validation_data=(x_val, y_val),\n",
        "                                            shuffle=True,\n",
        "                                            epochs=70, \n",
        "                                            steps_per_epoch=len(x_train) / 256,\n",
        "                                            callbacks=[learning_rate_reduction, model_checkpoint])"
      ],
      "execution_count": 14,
      "outputs": [
        {
          "output_type": "stream",
          "text": [
            "Epoch 1/70\n",
            "148/147 [==============================] - 36s 246ms/step - loss: 2.2991 - acc: 0.3470 - val_loss: 14.5140 - val_acc: 0.0995\n",
            "Epoch 2/70\n",
            "148/147 [==============================] - 29s 199ms/step - loss: 0.3705 - acc: 0.8915 - val_loss: 7.5880 - val_acc: 0.3286\n",
            "Epoch 3/70\n",
            "148/147 [==============================] - 29s 199ms/step - loss: 0.1739 - acc: 0.9526 - val_loss: 0.5202 - val_acc: 0.9271\n",
            "Epoch 4/70\n",
            "148/147 [==============================] - 29s 199ms/step - loss: 0.1119 - acc: 0.9691 - val_loss: 0.9623 - val_acc: 0.8636\n",
            "Epoch 5/70\n",
            "148/147 [==============================] - 29s 199ms/step - loss: 0.0847 - acc: 0.9763 - val_loss: 0.3307 - val_acc: 0.9571\n",
            "Epoch 6/70\n",
            "148/147 [==============================] - 30s 199ms/step - loss: 0.0729 - acc: 0.9807 - val_loss: 0.1183 - val_acc: 0.9819\n",
            "Epoch 7/70\n",
            "148/147 [==============================] - 30s 199ms/step - loss: 0.0684 - acc: 0.9825 - val_loss: 0.2939 - val_acc: 0.9588\n",
            "Epoch 8/70\n",
            "148/147 [==============================] - 29s 199ms/step - loss: 0.0691 - acc: 0.9831 - val_loss: 0.2266 - val_acc: 0.9664\n",
            "Epoch 9/70\n",
            "148/147 [==============================] - 30s 199ms/step - loss: 0.0563 - acc: 0.9852 - val_loss: 0.1353 - val_acc: 0.9721\n",
            "Epoch 10/70\n",
            "148/147 [==============================] - 30s 200ms/step - loss: 0.0568 - acc: 0.9856 - val_loss: 1.3586 - val_acc: 0.8929\n",
            "Epoch 11/70\n",
            "148/147 [==============================] - 30s 200ms/step - loss: 0.0483 - acc: 0.9874 - val_loss: 0.4544 - val_acc: 0.9352\n",
            "\n",
            "Epoch 00011: ReduceLROnPlateau reducing learning rate to 0.004999999888241291.\n",
            "Epoch 12/70\n",
            "148/147 [==============================] - 29s 198ms/step - loss: 0.0311 - acc: 0.9913 - val_loss: 0.0509 - val_acc: 0.9890\n",
            "Epoch 13/70\n",
            "148/147 [==============================] - 30s 200ms/step - loss: 0.0352 - acc: 0.9924 - val_loss: 0.0373 - val_acc: 0.9929\n",
            "Epoch 14/70\n",
            "148/147 [==============================] - 29s 199ms/step - loss: 0.0328 - acc: 0.9925 - val_loss: 0.0442 - val_acc: 0.9912\n",
            "Epoch 15/70\n",
            "148/147 [==============================] - 30s 199ms/step - loss: 0.0253 - acc: 0.9934 - val_loss: 0.0451 - val_acc: 0.9893\n",
            "Epoch 16/70\n",
            "148/147 [==============================] - 29s 199ms/step - loss: 0.0242 - acc: 0.9937 - val_loss: 0.0440 - val_acc: 0.9914\n",
            "Epoch 17/70\n",
            "148/147 [==============================] - 29s 199ms/step - loss: 0.0237 - acc: 0.9938 - val_loss: 0.0387 - val_acc: 0.9926\n",
            "Epoch 18/70\n",
            "148/147 [==============================] - 29s 199ms/step - loss: 0.0261 - acc: 0.9935 - val_loss: 0.0281 - val_acc: 0.9931\n",
            "Epoch 19/70\n",
            "148/147 [==============================] - 30s 200ms/step - loss: 0.0217 - acc: 0.9943 - val_loss: 0.0482 - val_acc: 0.9917\n",
            "Epoch 20/70\n",
            "148/147 [==============================] - 29s 199ms/step - loss: 0.0262 - acc: 0.9943 - val_loss: 0.0452 - val_acc: 0.9921\n",
            "Epoch 21/70\n",
            "148/147 [==============================] - 29s 199ms/step - loss: 0.0414 - acc: 0.9933 - val_loss: 0.0693 - val_acc: 0.9890\n",
            "Epoch 22/70\n",
            "148/147 [==============================] - 29s 199ms/step - loss: 0.0218 - acc: 0.9947 - val_loss: 0.0492 - val_acc: 0.9921\n",
            "Epoch 23/70\n",
            "148/147 [==============================] - 29s 199ms/step - loss: 0.0247 - acc: 0.9937 - val_loss: 0.6793 - val_acc: 0.9393\n",
            "\n",
            "Epoch 00023: ReduceLROnPlateau reducing learning rate to 0.0024999999441206455.\n",
            "Epoch 24/70\n",
            "148/147 [==============================] - 29s 199ms/step - loss: 0.0162 - acc: 0.9960 - val_loss: 0.0814 - val_acc: 0.9910\n",
            "Epoch 25/70\n",
            "148/147 [==============================] - 29s 199ms/step - loss: 0.0177 - acc: 0.9958 - val_loss: 0.0322 - val_acc: 0.9960\n",
            "Epoch 26/70\n",
            "148/147 [==============================] - 29s 199ms/step - loss: 0.0127 - acc: 0.9969 - val_loss: 0.0415 - val_acc: 0.9936\n",
            "Epoch 27/70\n",
            "148/147 [==============================] - 29s 199ms/step - loss: 0.0140 - acc: 0.9966 - val_loss: 0.0268 - val_acc: 0.9955\n",
            "Epoch 28/70\n",
            "148/147 [==============================] - 29s 199ms/step - loss: 0.0144 - acc: 0.9969 - val_loss: 0.0515 - val_acc: 0.9921\n",
            "Epoch 29/70\n",
            "148/147 [==============================] - 30s 200ms/step - loss: 0.0119 - acc: 0.9970 - val_loss: 0.0310 - val_acc: 0.9938\n",
            "Epoch 30/70\n",
            "148/147 [==============================] - 29s 199ms/step - loss: 0.0117 - acc: 0.9968 - val_loss: 0.0298 - val_acc: 0.9936\n",
            "\n",
            "Epoch 00030: ReduceLROnPlateau reducing learning rate to 0.0012499999720603228.\n",
            "Epoch 31/70\n",
            "148/147 [==============================] - 29s 199ms/step - loss: 0.0094 - acc: 0.9978 - val_loss: 0.0262 - val_acc: 0.9948\n",
            "Epoch 32/70\n",
            "148/147 [==============================] - 29s 199ms/step - loss: 0.0082 - acc: 0.9978 - val_loss: 0.0259 - val_acc: 0.9952\n",
            "Epoch 33/70\n",
            "148/147 [==============================] - 29s 199ms/step - loss: 0.0076 - acc: 0.9981 - val_loss: 0.0306 - val_acc: 0.9945\n",
            "Epoch 34/70\n",
            "148/147 [==============================] - 29s 199ms/step - loss: 0.0081 - acc: 0.9980 - val_loss: 0.0412 - val_acc: 0.9943\n",
            "Epoch 35/70\n",
            "148/147 [==============================] - 29s 199ms/step - loss: 0.0080 - acc: 0.9979 - val_loss: 0.0289 - val_acc: 0.9945\n",
            "\n",
            "Epoch 00035: ReduceLROnPlateau reducing learning rate to 0.0006249999860301614.\n",
            "Epoch 36/70\n",
            "148/147 [==============================] - 30s 199ms/step - loss: 0.0088 - acc: 0.9979 - val_loss: 0.0376 - val_acc: 0.9940\n",
            "Epoch 37/70\n",
            "148/147 [==============================] - 29s 199ms/step - loss: 0.0072 - acc: 0.9986 - val_loss: 0.0354 - val_acc: 0.9940\n",
            "Epoch 38/70\n",
            "148/147 [==============================] - 29s 198ms/step - loss: 0.0060 - acc: 0.9985 - val_loss: 0.0366 - val_acc: 0.9948\n",
            "Epoch 39/70\n",
            "148/147 [==============================] - 29s 199ms/step - loss: 0.0071 - acc: 0.9986 - val_loss: 0.0341 - val_acc: 0.9943\n",
            "Epoch 40/70\n",
            "148/147 [==============================] - 29s 198ms/step - loss: 0.0055 - acc: 0.9986 - val_loss: 0.0362 - val_acc: 0.9950\n",
            "\n",
            "Epoch 00040: ReduceLROnPlateau reducing learning rate to 0.0003124999930150807.\n",
            "Epoch 41/70\n",
            "148/147 [==============================] - 29s 198ms/step - loss: 0.0055 - acc: 0.9986 - val_loss: 0.0368 - val_acc: 0.9945\n",
            "Epoch 42/70\n",
            "148/147 [==============================] - 29s 198ms/step - loss: 0.0062 - acc: 0.9987 - val_loss: 0.0427 - val_acc: 0.9943\n",
            "Epoch 43/70\n",
            "148/147 [==============================] - 29s 198ms/step - loss: 0.0076 - acc: 0.9983 - val_loss: 0.0445 - val_acc: 0.9938\n",
            "Epoch 44/70\n",
            "148/147 [==============================] - 29s 198ms/step - loss: 0.0056 - acc: 0.9988 - val_loss: 0.0393 - val_acc: 0.9943\n",
            "Epoch 45/70\n",
            "148/147 [==============================] - 29s 198ms/step - loss: 0.0064 - acc: 0.9985 - val_loss: 0.0399 - val_acc: 0.9943\n",
            "\n",
            "Epoch 00045: ReduceLROnPlateau reducing learning rate to 0.00015624999650754035.\n",
            "Epoch 46/70\n",
            "148/147 [==============================] - 29s 198ms/step - loss: 0.0038 - acc: 0.9988 - val_loss: 0.0402 - val_acc: 0.9940\n",
            "Epoch 47/70\n",
            "148/147 [==============================] - 29s 198ms/step - loss: 0.0066 - acc: 0.9987 - val_loss: 0.0399 - val_acc: 0.9945\n",
            "Epoch 48/70\n",
            "148/147 [==============================] - 29s 198ms/step - loss: 0.0045 - acc: 0.9988 - val_loss: 0.0422 - val_acc: 0.9943\n",
            "Epoch 49/70\n",
            "148/147 [==============================] - 29s 198ms/step - loss: 0.0051 - acc: 0.9988 - val_loss: 0.0421 - val_acc: 0.9945\n",
            "Epoch 50/70\n",
            "148/147 [==============================] - 29s 198ms/step - loss: 0.0053 - acc: 0.9989 - val_loss: 0.0408 - val_acc: 0.9943\n",
            "\n",
            "Epoch 00050: ReduceLROnPlateau reducing learning rate to 7.812499825377017e-05.\n",
            "Epoch 51/70\n",
            "148/147 [==============================] - 30s 201ms/step - loss: 0.0058 - acc: 0.9986 - val_loss: 0.0432 - val_acc: 0.9940\n",
            "Epoch 52/70\n",
            "148/147 [==============================] - 30s 199ms/step - loss: 0.0068 - acc: 0.9983 - val_loss: 0.0436 - val_acc: 0.9943\n",
            "Epoch 53/70\n",
            "148/147 [==============================] - 30s 200ms/step - loss: 0.0072 - acc: 0.9986 - val_loss: 0.0444 - val_acc: 0.9943\n",
            "Epoch 54/70\n",
            "148/147 [==============================] - 30s 199ms/step - loss: 0.0039 - acc: 0.9991 - val_loss: 0.0435 - val_acc: 0.9943\n",
            "Epoch 55/70\n",
            "148/147 [==============================] - 29s 199ms/step - loss: 0.0057 - acc: 0.9988 - val_loss: 0.0431 - val_acc: 0.9943\n",
            "\n",
            "Epoch 00055: ReduceLROnPlateau reducing learning rate to 3.9062499126885086e-05.\n",
            "Epoch 56/70\n",
            "148/147 [==============================] - 30s 199ms/step - loss: 0.0047 - acc: 0.9987 - val_loss: 0.0428 - val_acc: 0.9945\n",
            "Epoch 57/70\n",
            "148/147 [==============================] - 30s 200ms/step - loss: 0.0045 - acc: 0.9989 - val_loss: 0.0429 - val_acc: 0.9945\n",
            "Epoch 58/70\n",
            "148/147 [==============================] - 29s 199ms/step - loss: 0.0077 - acc: 0.9985 - val_loss: 0.0428 - val_acc: 0.9943\n",
            "Epoch 59/70\n",
            "148/147 [==============================] - 29s 199ms/step - loss: 0.0044 - acc: 0.9988 - val_loss: 0.0433 - val_acc: 0.9943\n",
            "Epoch 60/70\n",
            "148/147 [==============================] - 29s 199ms/step - loss: 0.0051 - acc: 0.9988 - val_loss: 0.0430 - val_acc: 0.9943\n",
            "\n",
            "Epoch 00060: ReduceLROnPlateau reducing learning rate to 1.9531249563442543e-05.\n",
            "Epoch 61/70\n",
            "148/147 [==============================] - 29s 199ms/step - loss: 0.0063 - acc: 0.9986 - val_loss: 0.0432 - val_acc: 0.9945\n",
            "Epoch 62/70\n",
            "148/147 [==============================] - 29s 199ms/step - loss: 0.0051 - acc: 0.9991 - val_loss: 0.0433 - val_acc: 0.9945\n",
            "Epoch 63/70\n",
            "148/147 [==============================] - 30s 199ms/step - loss: 0.0065 - acc: 0.9989 - val_loss: 0.0436 - val_acc: 0.9945\n",
            "Epoch 64/70\n",
            "148/147 [==============================] - 30s 200ms/step - loss: 0.0048 - acc: 0.9991 - val_loss: 0.0437 - val_acc: 0.9945\n",
            "Epoch 65/70\n",
            "148/147 [==============================] - 29s 199ms/step - loss: 0.0049 - acc: 0.9988 - val_loss: 0.0437 - val_acc: 0.9945\n",
            "\n",
            "Epoch 00065: ReduceLROnPlateau reducing learning rate to 9.765624781721272e-06.\n",
            "Epoch 66/70\n",
            "148/147 [==============================] - 30s 200ms/step - loss: 0.0053 - acc: 0.9989 - val_loss: 0.0437 - val_acc: 0.9945\n",
            "Epoch 67/70\n",
            "148/147 [==============================] - 30s 203ms/step - loss: 0.0066 - acc: 0.9987 - val_loss: 0.0438 - val_acc: 0.9945\n",
            "Epoch 68/70\n",
            "148/147 [==============================] - 30s 200ms/step - loss: 0.0040 - acc: 0.9990 - val_loss: 0.0438 - val_acc: 0.9945\n",
            "Epoch 69/70\n",
            "148/147 [==============================] - 30s 200ms/step - loss: 0.0045 - acc: 0.9988 - val_loss: 0.0440 - val_acc: 0.9945\n",
            "Epoch 70/70\n",
            "148/147 [==============================] - 29s 198ms/step - loss: 0.0051 - acc: 0.9989 - val_loss: 0.0438 - val_acc: 0.9945\n",
            "\n",
            "Epoch 00070: ReduceLROnPlateau reducing learning rate to 4.882812390860636e-06.\n"
          ],
          "name": "stdout"
        }
      ]
    },
    {
      "metadata": {
        "id": "6VZ9bCI_ZhoG",
        "colab_type": "text"
      },
      "cell_type": "markdown",
      "source": [
        "<a id=\"13\"></a> <br>\n",
        "**7. Results**\n",
        "============================"
      ]
    },
    {
      "metadata": {
        "id": "L_xNlC7NtCRp",
        "colab_type": "code",
        "outputId": "e9d8aefa-ef99-4362-9d78-c1da30a5a376",
        "colab": {
          "base_uri": "https://localhost:8080/",
          "height": 735
        }
      },
      "cell_type": "code",
      "source": [
        "# Plot training & validation accuracy values\n",
        "plt.plot(vgg16_history.history['acc'])\n",
        "plt.plot(vgg16_history.history['val_acc'])\n",
        "plt.title('Model accuracy')\n",
        "plt.ylabel('Accuracy')\n",
        "plt.xlabel('Epoch')\n",
        "plt.legend(['Train', 'Validation'], loc='upper left')\n",
        "plt.show()\n",
        "\n",
        "# Plot training & validation loss values\n",
        "plt.plot(vgg16_history.history['loss'])\n",
        "plt.plot(vgg16_history.history['val_loss'])\n",
        "plt.title('Model loss')\n",
        "plt.ylabel('Loss')\n",
        "plt.xlabel('Epoch')\n",
        "plt.legend(['Train', 'Validation'], loc='upper left')\n",
        "plt.show()"
      ],
      "execution_count": 15,
      "outputs": [
        {
          "output_type": "display_data",
          "data": {
            "image/png": "[encoded data removed]",
            "text/plain": [
              "<Figure size 576x396 with 1 Axes>"
            ]
          },
          "metadata": {
            "tags": []
          }
        },
        {
          "output_type": "display_data",
          "data": {
            "image/png": "[encoded data removed]",
            "text/plain": [
              "<Figure size 576x396 with 1 Axes>"
            ]
          },
          "metadata": {
            "tags": []
          }
        }
      ]
    },
    {
      "metadata": {
        "id": "-Q5Z8EBaQFuk",
        "colab_type": "text"
      },
      "cell_type": "markdown",
      "source": [
        "<a id=\"14\"></a> <br>\n",
        "*7.1. Store the history*\n",
        "-----------------------------\n"
      ]
    },
    {
      "metadata": {
        "id": "IR_QR261fUbW",
        "colab_type": "code",
        "colab": {}
      },
      "cell_type": "code",
      "source": [
        "with open(FOLDER_PATH+'vgg16_history.pkl', 'wb') as output:\n",
        "  pickle.dump(vgg16_history, output, pickle.HIGHEST_PROTOCOL)\n"
      ],
      "execution_count": 0,
      "outputs": []
    },
    {
      "metadata": {
        "id": "kjgZcU4uBOGd",
        "colab_type": "text"
      },
      "cell_type": "markdown",
      "source": [
        "<a id=\"14\"></a> <br>\n",
        "*7.2. Create output file*\n",
        "-----------------------------\n"
      ]
    },
    {
      "metadata": {
        "id": "RiROj-RSBSQy",
        "colab_type": "code",
        "outputId": "9b6e4a9e-429a-4b73-a790-43ddfd85b8e0",
        "colab": {
          "base_uri": "https://localhost:8080/",
          "height": 34
        }
      },
      "cell_type": "code",
      "source": [
        "model = load_model(FOLDER_PATH+'vgg16_model.hdf5')\n",
        "output = np.array(model.predict(x_test))\n",
        "#from categorial to a number. [0,0,0,0,0,0,1,0,0,0]->6\n",
        "output = np.argmax(output,axis=1)\n",
        "print(output)\n",
        "np.savetxt(FOLDER_PATH+'vgg16_output.csv', output, delimiter=\",\",fmt='%d')\n"
      ],
      "execution_count": 17,
      "outputs": [
        {
          "output_type": "stream",
          "text": [
            "[2 0 9 ... 3 9 2]\n"
          ],
          "name": "stdout"
        }
      ]
    }
  ]
}