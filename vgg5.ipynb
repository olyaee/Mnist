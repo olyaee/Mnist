{
  "nbformat": 4,
  "nbformat_minor": 0,
  "metadata": {
    "colab": {
      "name": "vgg5.ipynb",
      "version": "0.3.2",
      "provenance": [],
      "collapsed_sections": [],
      "include_colab_link": true
    },
    "kernelspec": {
      "name": "python3",
      "display_name": "Python 3"
    },
    "accelerator": "GPU"
  },
  "cells": [
    {
      "cell_type": "markdown",
      "metadata": {
        "id": "view-in-github",
        "colab_type": "text"
      },
      "source": [
        "<a href=\"https://colab.research.google.com/github/olyaee/Mnist/blob/master/vgg5.ipynb\" target=\"_parent\"><img src=\"https://colab.research.google.com/assets/colab-badge.svg\" alt=\"Open In Colab\"/></a>"
      ]
    },
    {
      "metadata": {
        "id": "xvFrKLX2VQVW",
        "colab_type": "text"
      },
      "cell_type": "markdown",
      "source": [
        "* 1.  [Introduction](#1)\n",
        "    * 1.1. [Import Libraries](#2)\n",
        "* 2. [Load, Train and Test data](#3)\n",
        "    * 2.1. [Reshape input](#4)\n",
        "    * 2.2. [One Hot encoding of labels](#5)\n",
        "    * 2.3 [Data Visualization](#6)\n",
        "* 3. [Preprocessing the digit images](#7)\n",
        "    * 3.1. [Data Normalization](#8)\n",
        "* 4. [Create Models](#10)\n",
        "* 5. [Optimizer-Learning Rate-Data Augmentation](#11)\n",
        "* 6. [Compile Model](#12)\n",
        "* 7. [Results](#13)\n",
        "    * 7.1. [Store the history](#14)\n",
        "    * 7.2. [Create output file](#14)\n",
        "\n",
        "    "
      ]
    },
    {
      "metadata": {
        "id": "NZjOHRn4V-2a",
        "colab_type": "text"
      },
      "cell_type": "markdown",
      "source": [
        "<a id=\"1\"></a> <br>\n",
        "**1. Introduction**\n",
        "===============================\n"
      ]
    },
    {
      "metadata": {
        "id": "4KG6q4NxWQx2",
        "colab_type": "text"
      },
      "cell_type": "markdown",
      "source": [
        "<a id=\"2\"></a> <br>\n",
        "*1.1. Import Libraries*\n",
        "-----------------------------\n",
        "As the first step, we need to import needed libraries"
      ]
    },
    {
      "metadata": {
        "id": "iQl-FVRsWbjL",
        "colab_type": "code",
        "outputId": "f2668968-2553-40ce-8bce-54052beb553e",
        "colab": {
          "base_uri": "https://localhost:8080/",
          "height": 34
        }
      },
      "cell_type": "code",
      "source": [
        "import numpy as np # linear algebra\n",
        "import pandas as pd # data processing, CSV file I/O (e.g. pd.read_csv)\n",
        "import os\n",
        "import matplotlib.pyplot as plt\n",
        "import tensorflow as tf\n",
        "from sklearn.model_selection import train_test_split\n",
        "from keras import Input\n",
        "from keras.layers import Flatten, Dense, Conv2D, MaxPooling2D, ZeroPadding2D, BatchNormalization, average, GlobalAveragePooling2D\n",
        "from keras.layers import PReLU, add, AveragePooling2D, UpSampling3D, Dropout, Activation\n",
        "from keras.models import Model, load_model\n",
        "from keras.models import Sequential\n",
        "from keras.optimizers import RMSprop\n",
        "from keras.preprocessing.image import ImageDataGenerator\n",
        "from keras.callbacks import ReduceLROnPlateau, ModelCheckpoint\n",
        "from IPython.display import Image\n",
        "from keras.utils import plot_model\n",
        "from keras.utils.np_utils import to_categorical\n",
        "from keras.applications.inception_v3 import InceptionV3\n",
        "import pickle\n",
        "\n",
        "print(os.listdir(\"./\"))\n"
      ],
      "execution_count": 10,
      "outputs": [
        {
          "output_type": "stream",
          "text": [
            "['.config', 'drive', 'sample_data']\n"
          ],
          "name": "stdout"
        }
      ]
    },
    {
      "metadata": {
        "id": "V8tmrszIWhPm",
        "colab_type": "text"
      },
      "cell_type": "markdown",
      "source": [
        "<a id=\"3\"></a> <br>\n",
        "**2. Load, Train and Test data**\n",
        "============================\n",
        "In order to load the data we used pandas library.\n",
        "I have stored the data in my google drive. there are some othere ways to load data. For example you can directly import data from keras. \n",
        "Since we want to have the same train and validation data for every model we have done data sepration it in a seprate notebook and have stored the results as pickle file.\n",
        "For the code you can refer to this [LINK](https://github.com/olyaee/Mnist/blob/master/data_split.ipynb)\n"
      ]
    },
    {
      "metadata": {
        "id": "x7wUBjofWiiF",
        "colab_type": "code",
        "outputId": "12745099-130a-42f4-dc62-dfd1cec30b29",
        "colab": {
          "base_uri": "https://localhost:8080/",
          "height": 34
        }
      },
      "cell_type": "code",
      "source": [
        "from google.colab import drive\n",
        "drive.mount('/content/drive')\n",
        "FOLDER_PATH = \"./drive/My Drive/Colab Notebooks/vgg5/\"\n",
        "DATA_PATH = './drive/My Drive/Colab Notebooks/data/'"
      ],
      "execution_count": 11,
      "outputs": [
        {
          "output_type": "stream",
          "text": [
            "Drive already mounted at /content/drive; to attempt to forcibly remount, call drive.mount(\"/content/drive\", force_remount=True).\n"
          ],
          "name": "stdout"
        }
      ]
    },
    {
      "metadata": {
        "id": "OscjO3_iXCA9",
        "colab_type": "code",
        "outputId": "bc41741c-fdc4-4004-c6e1-1913e627bc09",
        "colab": {
          "base_uri": "https://localhost:8080/",
          "height": 102
        }
      },
      "cell_type": "code",
      "source": [
        "with open(DATA_PATH+'x_train.pkl', 'rb') as input:\n",
        "  x_train = pickle.load(input)\n",
        "with open(DATA_PATH+'x_val.pkl', 'rb') as input:\n",
        "  x_val = pickle.load(input)\n",
        "with open(DATA_PATH+'y_train.pkl', 'rb') as input:\n",
        "  y_train = pickle.load(input)\n",
        "with open(DATA_PATH+'y_val.pkl', 'rb') as input:\n",
        "  y_val = pickle.load(input)\n",
        "with open(DATA_PATH+'x_test.pkl', 'rb') as input:\n",
        "  x_test = pickle.load(input)\n",
        "\n",
        "print('x_train',x_train.shape)\n",
        "print('x_val',x_val.shape)\n",
        "print('x_val',y_train.shape)\n",
        "print('y_val',y_val.shape)\n",
        "print('x_test',x_test.shape)\n"
      ],
      "execution_count": 12,
      "outputs": [
        {
          "output_type": "stream",
          "text": [
            "x_train (37800, 784)\n",
            "x_val (4200, 784)\n",
            "x_val (37800,)\n",
            "y_val (4200,)\n",
            "x_test (28000, 784)\n"
          ],
          "name": "stdout"
        }
      ]
    },
    {
      "metadata": {
        "id": "Qyl7lrNzX93e",
        "colab_type": "text"
      },
      "cell_type": "markdown",
      "source": [
        "<a id=\"4\"></a> <br>\n",
        "*2.1. Reshape input*\n",
        "-----------------------------"
      ]
    },
    {
      "metadata": {
        "id": "DTxYxFX0X9Ke",
        "colab_type": "code",
        "outputId": "b29fd18c-83b1-43e2-88c8-5d2e735d7cb2",
        "colab": {
          "base_uri": "https://localhost:8080/",
          "height": 68
        }
      },
      "cell_type": "code",
      "source": [
        "x_train = x_train.reshape(x_train.shape[0], 28, 28,1)\n",
        "x_val = x_val.reshape(x_val.shape[0], 28, 28,1)\n",
        "print(x_train.shape)\n",
        "print(x_val.shape)\n",
        "x_test = x_test.reshape(x_test.shape[0], 28, 28,1)\n",
        "print(x_test.shape)"
      ],
      "execution_count": 13,
      "outputs": [
        {
          "output_type": "stream",
          "text": [
            "(37800, 28, 28, 1)\n",
            "(4200, 28, 28, 1)\n",
            "(28000, 28, 28, 1)\n"
          ],
          "name": "stdout"
        }
      ]
    },
    {
      "metadata": {
        "id": "Xqq5eWYhYIyb",
        "colab_type": "text"
      },
      "cell_type": "markdown",
      "source": [
        "<a id=\"5\"></a> <br>\n",
        "*2.2. One Hot encoding of labels*\n",
        "-----------------------------\n",
        "we have a number for each image but we need an array.\n",
        "2 has to be converted to [0, 0, 1, 0, 0 ,0 ,0 ,0 ,0 ,0] "
      ]
    },
    {
      "metadata": {
        "id": "F4vba8x9YIIL",
        "colab_type": "code",
        "outputId": "593babf3-201e-4bf7-dfbc-fb6b4309c01e",
        "colab": {
          "base_uri": "https://localhost:8080/",
          "height": 34
        }
      },
      "cell_type": "code",
      "source": [
        "y_train= to_categorical(y_train)\n",
        "y_val= to_categorical(y_val)\n",
        "num_classes = y_train.shape[1]\n",
        "print(y_train.shape)"
      ],
      "execution_count": 14,
      "outputs": [
        {
          "output_type": "stream",
          "text": [
            "(37800, 10)\n"
          ],
          "name": "stdout"
        }
      ]
    },
    {
      "metadata": {
        "id": "6y_9IOUyYclL",
        "colab_type": "text"
      },
      "cell_type": "markdown",
      "source": [
        "<a id=\"6\"></a> <br>\n",
        "*2.3 Data Visualization*\n",
        "-----------------------------\n",
        "Lets look at 3 images from data set with their labels."
      ]
    },
    {
      "metadata": {
        "id": "MSnaweUkYb4S",
        "colab_type": "code",
        "outputId": "dded3a66-1ad6-4357-b221-c05c1b695c2e",
        "colab": {
          "base_uri": "https://localhost:8080/",
          "height": 205
        }
      },
      "cell_type": "code",
      "source": [
        "for i in range(6, 9):\n",
        "    plt.subplot(330 + (i+1))\n",
        "    plt.imshow(x_train[i].reshape(28, 28), cmap=plt.get_cmap('gray'))\n",
        "    plt.title(y_train[i]);"
      ],
      "execution_count": 15,
      "outputs": [
        {
          "output_type": "stream",
          "text": [
            "/usr/local/lib/python3.6/dist-packages/matplotlib/text.py:1191: FutureWarning: elementwise comparison failed; returning scalar instead, but in the future will perform elementwise comparison\n",
            "  if s != self._text:\n"
          ],
          "name": "stderr"
        },
        {
          "output_type": "display_data",
          "data": {
            "image/png": "[encoded data removed]",
            "text/plain": [
              "<Figure size 576x396 with 3 Axes>"
            ]
          },
          "metadata": {
            "tags": []
          }
        }
      ]
    },
    {
      "metadata": {
        "id": "1XEVvknWZXUo",
        "colab_type": "text"
      },
      "cell_type": "markdown",
      "source": [
        "<a id=\"7\"></a> <br>\n",
        "**3. Preprocessing the digit images**\n",
        "==================================\n"
      ]
    },
    {
      "metadata": {
        "id": "oJoVs6s0Zaqo",
        "colab_type": "text"
      },
      "cell_type": "markdown",
      "source": [
        "<a id=\"8\"></a> <br>\n",
        "*3.1. Data Normalization*\n",
        "-----------------------------\n"
      ]
    },
    {
      "metadata": {
        "id": "PqSMWKLZaIDG",
        "colab_type": "code",
        "colab": {}
      },
      "cell_type": "code",
      "source": [
        "# Normalize the data\n",
        "x_train = x_train / 255.0\n",
        "x_val = x_val / 255\n",
        "x_test = x_test / 255.0"
      ],
      "execution_count": 0,
      "outputs": []
    },
    {
      "metadata": {
        "id": "ZoW0W8StZhza",
        "colab_type": "text"
      },
      "cell_type": "markdown",
      "source": [
        "<a id=\"10\"></a> <br>\n",
        "**4. Create Model**\n",
        "============================"
      ]
    },
    {
      "metadata": {
        "id": "-gbCmIpeZhwx",
        "colab_type": "text"
      },
      "cell_type": "markdown",
      "source": [
        "The followin image is just for demonstration. for a detailed graph please look. at the saved image of the model. \n"
      ]
    },
    {
      "metadata": {
        "id": "k0E2gU2UMCoI",
        "colab_type": "code",
        "colab": {}
      },
      "cell_type": "code",
      "source": [
        "def two_conv_pool(x, F1, F2, name):\n",
        "    x = Conv2D(F1, (3, 3), activation=None, padding='same', name='{}_conv1'.format(name))(x)\n",
        "    x = BatchNormalization()(x)\n",
        "    x = Activation('relu')(x)\n",
        "    x = Conv2D(F2, (3, 3), activation=None, padding='same', name='{}_conv2'.format(name))(x)\n",
        "    x = BatchNormalization()(x)\n",
        "    x = Activation('relu')(x)\n",
        "    x = MaxPooling2D((2, 2), strides=(2, 2), name='{}_pool'.format(name))(x)\n",
        "    return x\n",
        "\n",
        "def three_conv_pool(x, F1, F2, F3, name):\n",
        "    x = Conv2D(F1, (3, 3), activation=None, padding='same', name='{}_conv1'.format(name))(x)\n",
        "    x = BatchNormalization()(x)\n",
        "    x = Activation('relu')(x)\n",
        "    x = Conv2D(F2, (3, 3), activation=None, padding='same', name='{}_conv2'.format(name))(x)\n",
        "    x = BatchNormalization()(x)\n",
        "    x = Activation('relu')(x)\n",
        "    x = Conv2D(F3, (3, 3), activation=None, padding='same', name='{}_conv3'.format(name))(x)\n",
        "    x = BatchNormalization()(x)\n",
        "    x = Activation('relu')(x)\n",
        "    x = MaxPooling2D((2, 2), strides=(2, 2), name='{}_pool'.format(name))(x)\n",
        "    return x\n",
        "\n",
        "# Create a model\n",
        "vgg5_input = Input(shape = (28,28,1), dtype='float32', name='m2input')\n",
        "\n",
        "net = two_conv_pool(vgg5_input, 32, 32, \"block1\")\n",
        "net = two_conv_pool(net, 64, 64, \"block2\")\n",
        "net = three_conv_pool(net, 128, 128, 128, \"block3\")\n",
        "net = three_conv_pool(net, 256, 256, 256, \"block4\")\n",
        "\n",
        "net = Flatten()(net)\n",
        "net = Dense(512, activation='relu', name='fc-1')(net)\n",
        "net = Dense(512, activation='relu', name='fc-2')(net)\n",
        "prediction_vgg5 = Dense(10, activation='softmax', name='predictions')(net)"
      ],
      "execution_count": 0,
      "outputs": []
    },
    {
      "metadata": {
        "id": "cq0SNtjrZht8",
        "colab_type": "text"
      },
      "cell_type": "markdown",
      "source": [
        " <a id=\"11\"></a> <br>\n",
        "**5. Optimizer-Learning Rate-Data Augmentation**\n",
        "============================"
      ]
    },
    {
      "metadata": {
        "id": "koX1lFAZsu1i",
        "colab_type": "code",
        "colab": {}
      },
      "cell_type": "code",
      "source": [
        "# Define the optimizer\n",
        "optimizer = RMSprop(lr=0.001, rho=0.9, epsilon=1e-08, decay=0.0)"
      ],
      "execution_count": 0,
      "outputs": []
    },
    {
      "metadata": {
        "id": "CD8XuqxZsxC7",
        "colab_type": "code",
        "colab": {}
      },
      "cell_type": "code",
      "source": [
        "# Set a learning rate annealer\n",
        "learning_rate_reduction = ReduceLROnPlateau(monitor='val_acc', \n",
        "                                            patience=3, \n",
        "                                            verbose=1, \n",
        "                                            factor=0.05, \n",
        "                                            min_lr=0.00001)"
      ],
      "execution_count": 0,
      "outputs": []
    },
    {
      "metadata": {
        "id": "V-Wy1vM5szI5",
        "colab_type": "code",
        "colab": {}
      },
      "cell_type": "code",
      "source": [
        "# data augmentation\n",
        "datagen = ImageDataGenerator(\n",
        "        featurewise_center=False,  # set input mean to 0 over the dataset\n",
        "        samplewise_center=False,  # set each sample mean to 0\n",
        "        featurewise_std_normalization=False,  # divide inputs by std of the dataset\n",
        "        samplewise_std_normalization=False,  # divide each input by its std\n",
        "        zca_whitening=False,  # apply ZCA whitening\n",
        "        rotation_range=10,  # randomly rotate images in the range (degrees, 0 to 180)\n",
        "        zoom_range = 0.1, # Randomly zoom image \n",
        "        width_shift_range=0.1,  # randomly shift images horizontally (fraction of total width)\n",
        "        height_shift_range=0.1,  # randomly shift images vertically (fraction of total height)\n",
        "        horizontal_flip=False,  # randomly flip images\n",
        "        vertical_flip=False)  # randomly flip images\n",
        "datagen.fit(x_train)\n"
      ],
      "execution_count": 0,
      "outputs": []
    },
    {
      "metadata": {
        "id": "Udrl3IAsZhrB",
        "colab_type": "text"
      },
      "cell_type": "markdown",
      "source": [
        "<a id=\"12\"></a> <br>\n",
        "**6. Compile Model**\n",
        "============================"
      ]
    },
    {
      "metadata": {
        "id": "oyCJQs-xs5FA",
        "colab_type": "code",
        "outputId": "f1318c18-1c90-4cd5-f0fa-f0edf5498c2e",
        "colab": {
          "base_uri": "https://localhost:8080/",
          "height": 1105
        }
      },
      "cell_type": "code",
      "source": [
        "# this is the model we will train\n",
        "vgg5_model = Model(inputs=vgg5_input, outputs=prediction_vgg5)\n",
        "vgg5_model.compile(optimizer = optimizer , loss = \"categorical_crossentropy\", metrics=[\"accuracy\"])\n",
        "\n",
        "#plot the model\n",
        "plot_model(vgg5_model, to_file=FOLDER_PATH+'vgg5_model.png')\n",
        "Image(filename=FOLDER_PATH+'vgg5_model.png', width=200, height=200, unconfined=True)\n",
        "\n",
        "model_checkpoint = ModelCheckpoint(FOLDER_PATH+'vgg5_model.hdf5', monitor='val_loss', verbose=0, save_best_only=True, save_weights_only=False, mode='auto', period=1)\n",
        "\n",
        "vgg5_history = vgg5_model.fit_generator(datagen.flow(x_train,y_train, batch_size=32),\n",
        "                                            validation_data=(x_val, y_val),\n",
        "                                            shuffle=True,\n",
        "                                            epochs=30, \n",
        "                                            steps_per_epoch=len(x_train) / 32,\n",
        "                                            callbacks=[learning_rate_reduction, model_checkpoint])"
      ],
      "execution_count": 0,
      "outputs": [
        {
          "output_type": "stream",
          "text": [
            "Epoch 1/30\n",
            "1182/1181 [==============================] - 63s 53ms/step - loss: 0.3381 - acc: 0.9022 - val_loss: 0.5328 - val_acc: 0.9095\n",
            "Epoch 2/30\n",
            "1182/1181 [==============================] - 52s 44ms/step - loss: 0.1483 - acc: 0.9656 - val_loss: 0.1228 - val_acc: 0.9717\n",
            "Epoch 3/30\n",
            "1182/1181 [==============================] - 52s 44ms/step - loss: 0.1311 - acc: 0.9717 - val_loss: 0.0864 - val_acc: 0.9824\n",
            "Epoch 4/30\n",
            "1182/1181 [==============================] - 53s 44ms/step - loss: 0.1213 - acc: 0.9764 - val_loss: 0.1370 - val_acc: 0.9829\n",
            "Epoch 5/30\n",
            "1182/1181 [==============================] - 51s 43ms/step - loss: 0.1161 - acc: 0.9783 - val_loss: 0.0852 - val_acc: 0.9852\n",
            "Epoch 6/30\n",
            "1182/1181 [==============================] - 50s 43ms/step - loss: 0.1013 - acc: 0.9796 - val_loss: 0.0937 - val_acc: 0.9867\n",
            "Epoch 7/30\n",
            "1182/1181 [==============================] - 48s 41ms/step - loss: 0.1188 - acc: 0.9799 - val_loss: 0.1982 - val_acc: 0.9755\n",
            "Epoch 8/30\n",
            "1182/1181 [==============================] - 51s 43ms/step - loss: 0.0940 - acc: 0.9824 - val_loss: 0.0469 - val_acc: 0.9924\n",
            "Epoch 9/30\n",
            "1182/1181 [==============================] - 49s 42ms/step - loss: 0.0952 - acc: 0.9818 - val_loss: 0.0922 - val_acc: 0.9810\n",
            "Epoch 10/30\n",
            "1182/1181 [==============================] - 49s 42ms/step - loss: 0.1014 - acc: 0.9836 - val_loss: 0.1565 - val_acc: 0.9814\n",
            "Epoch 11/30\n",
            "1182/1181 [==============================] - 48s 41ms/step - loss: 0.0969 - acc: 0.9841 - val_loss: 0.0646 - val_acc: 0.9912\n",
            "\n",
            "Epoch 00011: ReduceLROnPlateau reducing learning rate to 5.0000002374872565e-05.\n",
            "Epoch 12/30\n",
            "1182/1181 [==============================] - 49s 41ms/step - loss: 0.0523 - acc: 0.9911 - val_loss: 0.0434 - val_acc: 0.9931\n",
            "Epoch 13/30\n",
            "1182/1181 [==============================] - 49s 42ms/step - loss: 0.0434 - acc: 0.9925 - val_loss: 0.0416 - val_acc: 0.9938\n",
            "Epoch 14/30\n",
            "1182/1181 [==============================] - 49s 41ms/step - loss: 0.0396 - acc: 0.9935 - val_loss: 0.0425 - val_acc: 0.9938\n",
            "Epoch 15/30\n",
            "1182/1181 [==============================] - 49s 41ms/step - loss: 0.0352 - acc: 0.9941 - val_loss: 0.0418 - val_acc: 0.9936\n",
            "Epoch 16/30\n",
            "1182/1181 [==============================] - 48s 41ms/step - loss: 0.0388 - acc: 0.9940 - val_loss: 0.0453 - val_acc: 0.9929\n",
            "\n",
            "Epoch 00016: ReduceLROnPlateau reducing learning rate to 1e-05.\n",
            "Epoch 17/30\n",
            "1182/1181 [==============================] - 49s 41ms/step - loss: 0.0347 - acc: 0.9946 - val_loss: 0.0464 - val_acc: 0.9936\n",
            "Epoch 18/30\n",
            "1182/1181 [==============================] - 48s 41ms/step - loss: 0.0365 - acc: 0.9942 - val_loss: 0.0442 - val_acc: 0.9938\n",
            "Epoch 19/30\n",
            "1182/1181 [==============================] - 48s 41ms/step - loss: 0.0367 - acc: 0.9942 - val_loss: 0.0445 - val_acc: 0.9938\n",
            "Epoch 20/30\n",
            "1182/1181 [==============================] - 48s 41ms/step - loss: 0.0354 - acc: 0.9946 - val_loss: 0.0442 - val_acc: 0.9936\n",
            "Epoch 21/30\n",
            "1182/1181 [==============================] - 50s 42ms/step - loss: 0.0310 - acc: 0.9948 - val_loss: 0.0450 - val_acc: 0.9936\n",
            "Epoch 22/30\n",
            "1182/1181 [==============================] - 49s 42ms/step - loss: 0.0306 - acc: 0.9950 - val_loss: 0.0459 - val_acc: 0.9936\n",
            "Epoch 23/30\n",
            "1182/1181 [==============================] - 49s 42ms/step - loss: 0.0322 - acc: 0.9945 - val_loss: 0.0442 - val_acc: 0.9940\n",
            "Epoch 24/30\n",
            "1182/1181 [==============================] - 49s 41ms/step - loss: 0.0302 - acc: 0.9952 - val_loss: 0.0453 - val_acc: 0.9938\n",
            "Epoch 25/30\n",
            "1182/1181 [==============================] - 48s 41ms/step - loss: 0.0320 - acc: 0.9949 - val_loss: 0.0435 - val_acc: 0.9940\n",
            "Epoch 26/30\n",
            "1182/1181 [==============================] - 48s 41ms/step - loss: 0.0317 - acc: 0.9948 - val_loss: 0.0441 - val_acc: 0.9938\n",
            "Epoch 27/30\n",
            "1182/1181 [==============================] - 49s 41ms/step - loss: 0.0323 - acc: 0.9946 - val_loss: 0.0425 - val_acc: 0.9940\n",
            "Epoch 28/30\n",
            "1182/1181 [==============================] - 49s 41ms/step - loss: 0.0349 - acc: 0.9947 - val_loss: 0.0426 - val_acc: 0.9940\n",
            "Epoch 29/30\n",
            "1182/1181 [==============================] - 49s 42ms/step - loss: 0.0309 - acc: 0.9953 - val_loss: 0.0438 - val_acc: 0.9938\n",
            "Epoch 30/30\n",
            "1182/1181 [==============================] - 50s 42ms/step - loss: 0.0337 - acc: 0.9951 - val_loss: 0.0446 - val_acc: 0.9936\n"
          ],
          "name": "stdout"
        }
      ]
    },
    {
      "metadata": {
        "id": "6VZ9bCI_ZhoG",
        "colab_type": "text"
      },
      "cell_type": "markdown",
      "source": [
        "<a id=\"13\"></a> <br>\n",
        "**7. Results**\n",
        "============================"
      ]
    },
    {
      "metadata": {
        "id": "L_xNlC7NtCRp",
        "colab_type": "code",
        "outputId": "05d559c9-fc2d-4f1f-fe05-b0bf3620676b",
        "colab": {
          "base_uri": "https://localhost:8080/",
          "height": 735
        }
      },
      "cell_type": "code",
      "source": [
        "# Plot training & validation accuracy values\n",
        "plt.plot(vgg5_history.history['acc'])\n",
        "plt.plot(vgg5_history.history['val_acc'])\n",
        "plt.title('Model accuracy')\n",
        "plt.ylabel('Accuracy')\n",
        "plt.xlabel('Epoch')\n",
        "plt.legend(['Train', 'Validation'], loc='upper left')\n",
        "plt.show()\n",
        "\n",
        "# Plot training & validation loss values\n",
        "plt.plot(vgg5_history.history['loss'])\n",
        "plt.plot(vgg5_history.history['val_loss'])\n",
        "plt.title('Model loss')\n",
        "plt.ylabel('Loss')\n",
        "plt.xlabel('Epoch')\n",
        "plt.legend(['Train', 'Validation'], loc='upper left')\n",
        "plt.show()"
      ],
      "execution_count": 0,
      "outputs": [
        {
          "output_type": "display_data",
          "data": {
            "image/png": "[encoded data removed]",
            "text/plain": [
              "<Figure size 576x396 with 1 Axes>"
            ]
          },
          "metadata": {
            "tags": []
          }
        },
        {
          "output_type": "display_data",
          "data": {
            "image/png": "[encoded data removed]",
            "text/plain": [
              "<Figure size 576x396 with 1 Axes>"
            ]
          },
          "metadata": {
            "tags": []
          }
        }
      ]
    },
    {
      "metadata": {
        "id": "-Q5Z8EBaQFuk",
        "colab_type": "text"
      },
      "cell_type": "markdown",
      "source": [
        "<a id=\"14\"></a> <br>\n",
        "*7.1. Store the history*\n",
        "-----------------------------\n"
      ]
    },
    {
      "metadata": {
        "id": "IR_QR261fUbW",
        "colab_type": "code",
        "colab": {}
      },
      "cell_type": "code",
      "source": [
        "with open(FOLDER_PATH+'vgg5_history.pkl', 'wb') as output:\n",
        "  pickle.dump(vgg5_history, output, pickle.HIGHEST_PROTOCOL)\n"
      ],
      "execution_count": 0,
      "outputs": []
    },
    {
      "metadata": {
        "id": "kjgZcU4uBOGd",
        "colab_type": "text"
      },
      "cell_type": "markdown",
      "source": [
        "<a id=\"14\"></a> <br>\n",
        "*7.2. Create output file*\n",
        "-----------------------------\n"
      ]
    },
    {
      "metadata": {
        "id": "RiROj-RSBSQy",
        "colab_type": "code",
        "outputId": "250160a7-4e42-4723-c07c-7222fe50481d",
        "colab": {
          "base_uri": "https://localhost:8080/",
          "height": 34
        }
      },
      "cell_type": "code",
      "source": [
        "model = load_model(FOLDER_PATH+'vgg5_model.hdf5')\n",
        "output = np.array(model.predict(x_test))\n",
        "#from categorial to a number. [0,0,0,0,0,0,1,0,0,0]->6\n",
        "output = np.argmax(output,axis=1)\n",
        "print(output)\n",
        "np.savetxt(FOLDER_PATH+'vgg5_output.csv', output, delimiter=\",\",fmt='%d')\n"
      ],
      "execution_count": 17,
      "outputs": [
        {
          "output_type": "stream",
          "text": [
            "[2 0 9 ... 3 9 2]\n"
          ],
          "name": "stdout"
        }
      ]
    }
  ]
}